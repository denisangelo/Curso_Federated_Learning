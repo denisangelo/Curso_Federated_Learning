{
  "nbformat": 4,
  "nbformat_minor": 0,
  "metadata": {
    "colab": {
      "provenance": [],
      "authorship_tag": "ABX9TyPkYHxy2wqUSBApJBllY647",
      "include_colab_link": true
    },
    "kernelspec": {
      "name": "python3",
      "display_name": "Python 3"
    },
    "language_info": {
      "name": "python"
    }
  },
  "cells": [
    {
      "cell_type": "markdown",
      "metadata": {
        "id": "view-in-github",
        "colab_type": "text"
      },
      "source": [
        "<a href=\"https://colab.research.google.com/github/denisangelo/Federated_Learning/blob/main/FL_Not_Division_Dataset_Cifar10.ipynb\" target=\"_parent\"><img src=\"https://colab.research.google.com/assets/colab-badge.svg\" alt=\"Open In Colab\"/></a>"
      ]
    },
    {
      "cell_type": "code",
      "execution_count": 12,
      "metadata": {
        "colab": {
          "base_uri": "https://localhost:8080/"
        },
        "id": "3oPO35g9S5zY",
        "outputId": "7a102f2d-9c52-4507-9db0-9bcb05b5848c"
      },
      "outputs": [
        {
          "output_type": "stream",
          "name": "stdout",
          "text": [
            "Looking in indexes: https://pypi.org/simple, https://us-python.pkg.dev/colab-wheels/public/simple/\n",
            "Requirement already satisfied: torch in /usr/local/lib/python3.10/dist-packages (2.0.1+cu118)\n",
            "Requirement already satisfied: filelock in /usr/local/lib/python3.10/dist-packages (from torch) (3.12.0)\n",
            "Requirement already satisfied: typing-extensions in /usr/local/lib/python3.10/dist-packages (from torch) (4.5.0)\n",
            "Requirement already satisfied: sympy in /usr/local/lib/python3.10/dist-packages (from torch) (1.11.1)\n",
            "Requirement already satisfied: networkx in /usr/local/lib/python3.10/dist-packages (from torch) (3.1)\n",
            "Requirement already satisfied: jinja2 in /usr/local/lib/python3.10/dist-packages (from torch) (3.1.2)\n",
            "Requirement already satisfied: triton==2.0.0 in /usr/local/lib/python3.10/dist-packages (from torch) (2.0.0)\n",
            "Requirement already satisfied: cmake in /usr/local/lib/python3.10/dist-packages (from triton==2.0.0->torch) (3.25.2)\n",
            "Requirement already satisfied: lit in /usr/local/lib/python3.10/dist-packages (from triton==2.0.0->torch) (16.0.5)\n",
            "Requirement already satisfied: MarkupSafe>=2.0 in /usr/local/lib/python3.10/dist-packages (from jinja2->torch) (2.1.2)\n",
            "Requirement already satisfied: mpmath>=0.19 in /usr/local/lib/python3.10/dist-packages (from sympy->torch) (1.3.0)\n",
            "Looking in indexes: https://pypi.org/simple, https://us-python.pkg.dev/colab-wheels/public/simple/\n",
            "Requirement already satisfied: torchvision in /usr/local/lib/python3.10/dist-packages (0.15.2+cu118)\n",
            "Requirement already satisfied: numpy in /usr/local/lib/python3.10/dist-packages (from torchvision) (1.22.4)\n",
            "Requirement already satisfied: requests in /usr/local/lib/python3.10/dist-packages (from torchvision) (2.27.1)\n",
            "Requirement already satisfied: torch==2.0.1 in /usr/local/lib/python3.10/dist-packages (from torchvision) (2.0.1+cu118)\n",
            "Requirement already satisfied: pillow!=8.3.*,>=5.3.0 in /usr/local/lib/python3.10/dist-packages (from torchvision) (8.4.0)\n",
            "Requirement already satisfied: filelock in /usr/local/lib/python3.10/dist-packages (from torch==2.0.1->torchvision) (3.12.0)\n",
            "Requirement already satisfied: typing-extensions in /usr/local/lib/python3.10/dist-packages (from torch==2.0.1->torchvision) (4.5.0)\n",
            "Requirement already satisfied: sympy in /usr/local/lib/python3.10/dist-packages (from torch==2.0.1->torchvision) (1.11.1)\n",
            "Requirement already satisfied: networkx in /usr/local/lib/python3.10/dist-packages (from torch==2.0.1->torchvision) (3.1)\n",
            "Requirement already satisfied: jinja2 in /usr/local/lib/python3.10/dist-packages (from torch==2.0.1->torchvision) (3.1.2)\n",
            "Requirement already satisfied: triton==2.0.0 in /usr/local/lib/python3.10/dist-packages (from torch==2.0.1->torchvision) (2.0.0)\n",
            "Requirement already satisfied: cmake in /usr/local/lib/python3.10/dist-packages (from triton==2.0.0->torch==2.0.1->torchvision) (3.25.2)\n",
            "Requirement already satisfied: lit in /usr/local/lib/python3.10/dist-packages (from triton==2.0.0->torch==2.0.1->torchvision) (16.0.5)\n",
            "Requirement already satisfied: urllib3<1.27,>=1.21.1 in /usr/local/lib/python3.10/dist-packages (from requests->torchvision) (1.26.15)\n",
            "Requirement already satisfied: certifi>=2017.4.17 in /usr/local/lib/python3.10/dist-packages (from requests->torchvision) (2022.12.7)\n",
            "Requirement already satisfied: charset-normalizer~=2.0.0 in /usr/local/lib/python3.10/dist-packages (from requests->torchvision) (2.0.12)\n",
            "Requirement already satisfied: idna<4,>=2.5 in /usr/local/lib/python3.10/dist-packages (from requests->torchvision) (3.4)\n",
            "Requirement already satisfied: MarkupSafe>=2.0 in /usr/local/lib/python3.10/dist-packages (from jinja2->torch==2.0.1->torchvision) (2.1.2)\n",
            "Requirement already satisfied: mpmath>=0.19 in /usr/local/lib/python3.10/dist-packages (from sympy->torch==2.0.1->torchvision) (1.3.0)\n",
            "Looking in indexes: https://pypi.org/simple, https://us-python.pkg.dev/colab-wheels/public/simple/\n",
            "Requirement already satisfied: matplotlib in /usr/local/lib/python3.10/dist-packages (3.7.1)\n",
            "Requirement already satisfied: contourpy>=1.0.1 in /usr/local/lib/python3.10/dist-packages (from matplotlib) (1.0.7)\n",
            "Requirement already satisfied: cycler>=0.10 in /usr/local/lib/python3.10/dist-packages (from matplotlib) (0.11.0)\n",
            "Requirement already satisfied: fonttools>=4.22.0 in /usr/local/lib/python3.10/dist-packages (from matplotlib) (4.39.3)\n",
            "Requirement already satisfied: kiwisolver>=1.0.1 in /usr/local/lib/python3.10/dist-packages (from matplotlib) (1.4.4)\n",
            "Requirement already satisfied: numpy>=1.20 in /usr/local/lib/python3.10/dist-packages (from matplotlib) (1.22.4)\n",
            "Requirement already satisfied: packaging>=20.0 in /usr/local/lib/python3.10/dist-packages (from matplotlib) (23.1)\n",
            "Requirement already satisfied: pillow>=6.2.0 in /usr/local/lib/python3.10/dist-packages (from matplotlib) (8.4.0)\n",
            "Requirement already satisfied: pyparsing>=2.3.1 in /usr/local/lib/python3.10/dist-packages (from matplotlib) (3.0.9)\n",
            "Requirement already satisfied: python-dateutil>=2.7 in /usr/local/lib/python3.10/dist-packages (from matplotlib) (2.8.2)\n",
            "Requirement already satisfied: six>=1.5 in /usr/local/lib/python3.10/dist-packages (from python-dateutil>=2.7->matplotlib) (1.16.0)\n",
            "Looking in indexes: https://pypi.org/simple, https://us-python.pkg.dev/colab-wheels/public/simple/\n",
            "Requirement already satisfied: opacus in /usr/local/lib/python3.10/dist-packages (1.4.0)\n",
            "Requirement already satisfied: numpy>=1.15 in /usr/local/lib/python3.10/dist-packages (from opacus) (1.22.4)\n",
            "Requirement already satisfied: torch>=1.13 in /usr/local/lib/python3.10/dist-packages (from opacus) (2.0.1+cu118)\n",
            "Requirement already satisfied: scipy>=1.2 in /usr/local/lib/python3.10/dist-packages (from opacus) (1.10.1)\n",
            "Requirement already satisfied: opt-einsum>=3.3.0 in /usr/local/lib/python3.10/dist-packages (from opacus) (3.3.0)\n",
            "Requirement already satisfied: filelock in /usr/local/lib/python3.10/dist-packages (from torch>=1.13->opacus) (3.12.0)\n",
            "Requirement already satisfied: typing-extensions in /usr/local/lib/python3.10/dist-packages (from torch>=1.13->opacus) (4.5.0)\n",
            "Requirement already satisfied: sympy in /usr/local/lib/python3.10/dist-packages (from torch>=1.13->opacus) (1.11.1)\n",
            "Requirement already satisfied: networkx in /usr/local/lib/python3.10/dist-packages (from torch>=1.13->opacus) (3.1)\n",
            "Requirement already satisfied: jinja2 in /usr/local/lib/python3.10/dist-packages (from torch>=1.13->opacus) (3.1.2)\n",
            "Requirement already satisfied: triton==2.0.0 in /usr/local/lib/python3.10/dist-packages (from torch>=1.13->opacus) (2.0.0)\n",
            "Requirement already satisfied: cmake in /usr/local/lib/python3.10/dist-packages (from triton==2.0.0->torch>=1.13->opacus) (3.25.2)\n",
            "Requirement already satisfied: lit in /usr/local/lib/python3.10/dist-packages (from triton==2.0.0->torch>=1.13->opacus) (16.0.5)\n",
            "Requirement already satisfied: MarkupSafe>=2.0 in /usr/local/lib/python3.10/dist-packages (from jinja2->torch>=1.13->opacus) (2.1.2)\n",
            "Requirement already satisfied: mpmath>=0.19 in /usr/local/lib/python3.10/dist-packages (from sympy->torch>=1.13->opacus) (1.3.0)\n"
          ]
        }
      ],
      "source": [
        "#Importanto Pytorch, Flower,Opacus\n",
        "!pip install -q flwr[simulation]\n",
        "!pip install torch\n",
        "!pip install torchvision\n",
        "!pip install matplotlib\n",
        "!pip install opacus"
      ]
    },
    {
      "cell_type": "code",
      "source": [
        "#Importanto as bibliotecas necessárias\n",
        "from collections import OrderedDict\n",
        "from typing import Dict, Optional, List, Tuple\n",
        "import matplotlib.pyplot as plt\n",
        "\n",
        "import flwr as fl\n",
        "import numpy as np\n",
        "import torch\n",
        "import torch.nn as nn\n",
        "import torch.nn.functional as F\n",
        "import torchvision\n",
        "from flwr.common import Metrics\n",
        "import torchvision.transforms as transforms\n",
        "import opacus\n",
        "from opacus import PrivacyEngine\n",
        "from opacus.utils.batch_memory_manager import BatchMemoryManager\n",
        "from torch.optim.adam import Adam\n",
        "from torch.optim.lr_scheduler import StepLR\n",
        "from torch.utils.data import DataLoader, random_split\n",
        "from torchvision.datasets import CIFAR10"
      ],
      "metadata": {
        "id": "t4G1egc9TCCn"
      },
      "execution_count": 13,
      "outputs": []
    },
    {
      "cell_type": "code",
      "source": [
        "#Definindo o dispositivo de treinamento\n",
        "DEVICE = torch.device(\"cuda:0\" if torch.cuda.is_available() else \"cpu\")\n",
        "print(f\"Training on {DEVICE} using Pytorch{torch.__version__} and Flower{fl.__version__}\")"
      ],
      "metadata": {
        "colab": {
          "base_uri": "https://localhost:8080/"
        },
        "id": "dIKSSnrsTEcf",
        "outputId": "8eca456e-6748-40f7-f594-52d88d2e7361"
      },
      "execution_count": 14,
      "outputs": [
        {
          "output_type": "stream",
          "name": "stdout",
          "text": [
            "Training on cpu using Pytorch2.0.1+cu118 and Flower1.4.0\n"
          ]
        }
      ]
    },
    {
      "cell_type": "code",
      "source": [
        "# Definindo os valores das variáveis\n",
        "BATCH_SIZE = 1024\n",
        "NUM_CLIENTS= 10\n",
        "optim_lr=0.002\n",
        "local_epochs=5\n",
        "num_rounds=10"
      ],
      "metadata": {
        "id": "kE_BPGyDTGZ2"
      },
      "execution_count": 15,
      "outputs": []
    },
    {
      "cell_type": "code",
      "source": [
        "# Carregando os dados\n",
        "def load_data():\n",
        "    transform = transforms.Compose([transforms.ToTensor(), transforms.Normalize( (0.5, 0.5, 0.5), (0.5, 0.5, 0.5))])\n",
        "    trainset = CIFAR10(root=\"./data\", train=True,download=True, transform=transform)\n",
        "    testset = CIFAR10(root=\"./data\", train=False, download=True, transform=transform)\n",
        "    trainloader = DataLoader(trainset, batch_size=BATCH_SIZE,shuffle=True,num_workers=0)\n",
        "    testloader = DataLoader(testset,batch_size=BATCH_SIZE,shuffle=False,num_workers=0)\n",
        "    num_examples = {\"trainset\": len(trainset)*BATCH_SIZE, \"testset\": len(testset)*BATCH_SIZE}\n",
        "\n",
        "    return trainloader, testloader, num_examples"
      ],
      "metadata": {
        "id": "icNnGW-jTIcu"
      },
      "execution_count": 16,
      "outputs": []
    },
    {
      "cell_type": "code",
      "source": [
        "# Definindo o Modelo\n",
        "class Net(nn.Module):\n",
        "    def __init__(self) -> None:\n",
        "        super(Net, self).__init__()\n",
        "        self.conv1 = nn.Conv2d(3, 6, 5)\n",
        "        self.pool = nn.MaxPool2d(2, 2)\n",
        "        self.conv2 = nn.Conv2d(6, 16, 5)\n",
        "        self.fc1 = nn.Linear(16 * 5 * 5, 120)\n",
        "        self.fc2 = nn.Linear(120, 84)\n",
        "        self.fc3 = nn.Linear(84, 10)\n",
        "\n",
        "    def forward(self, x: torch.Tensor) -> torch.Tensor:\n",
        "        x = self.pool(F.relu(self.conv1(x)))\n",
        "        x = self.pool(F.relu(self.conv2(x)))\n",
        "        x = x.view(-1, 16 * 5 * 5)\n",
        "        x = F.relu(self.fc1(x))\n",
        "        x = F.relu(self.fc2(x))\n",
        "        x = self.fc3(x)\n",
        "        return x"
      ],
      "metadata": {
        "id": "Js_9_26TTKue"
      },
      "execution_count": 17,
      "outputs": []
    },
    {
      "cell_type": "code",
      "source": [
        "# Definindo as funções de treino e teste\n",
        "def train(net, trainloader, epochs):\n",
        "    criterion = torch.nn.CrossEntropyLoss()\n",
        "    optimizer = torch.optim.Adam(net.parameters())\n",
        "    for _ in range(epochs):\n",
        "        for images, labels in trainloader:\n",
        "            images, labels = images.to(DEVICE), labels.to(DEVICE)\n",
        "            optimizer.zero_grad()\n",
        "            loss = criterion(net(images), labels)\n",
        "            loss.backward()\n",
        "            optimizer.step()\n",
        "\n",
        "def test(net, testloader):\n",
        "    criterion = torch.nn.CrossEntropyLoss()\n",
        "    correct, total, loss = 0, 0, 0.0\n",
        "    net.eval()\n",
        "    with torch.no_grad():\n",
        "        for images, labels in testloader:\n",
        "            images, labels = images.to(DEVICE), labels.to(DEVICE)\n",
        "            outputs = net(images)\n",
        "            loss += criterion(outputs, labels).item()\n",
        "            _, predicted = torch.max(outputs.data, 1)\n",
        "            total += labels.size(0)\n",
        "            correct += (predicted == labels).sum().item()\n",
        "    loss /= len(testloader.dataset)\n",
        "    accuracy = correct / total\n",
        "    return loss, accuracy"
      ],
      "metadata": {
        "id": "VTVO95aJTNmG"
      },
      "execution_count": 18,
      "outputs": []
    },
    {
      "cell_type": "code",
      "source": [
        "# Funções de atualização de parâmetros do modelo no servidor agregador\n",
        "def get_parameters(net) -> List[np.ndarray]:\n",
        "    return [val.cpu().numpy() for _, val in net.state_dict().items()]\n",
        "\n",
        "\n",
        "def set_parameters(net, parameters: List[np.ndarray]):\n",
        "    params_dict = zip(net.state_dict().keys(), parameters)\n",
        "    state_dict = OrderedDict({k: torch.Tensor(v) for k, v in params_dict})\n",
        "    net.load_state_dict(state_dict, strict=True)"
      ],
      "metadata": {
        "id": "6tPsly4LTQgW"
      },
      "execution_count": 19,
      "outputs": []
    },
    {
      "cell_type": "code",
      "source": [
        "\n",
        "# Definindo a classe de cliente Virtual\n",
        "class FlowerClient(fl.client.NumPyClient):\n",
        "    def __init__(self, cid, net, trainloader, testloader,num_examples) -> None:\n",
        "        super().__init__()\n",
        "        self.cid = cid\n",
        "        self.net = net\n",
        "        self.trainloader = trainloader\n",
        "        self.testloader = testloader\n",
        "        self.num_examples = num_examples\n",
        "\n",
        "\n",
        "    def get_parameters(self, config):\n",
        "        print(f\"[Client {self.cid}] get_parameters\")\n",
        "        return get_parameters(self.net)\n",
        "\n",
        "    def fit(self, parameters, config):\n",
        "        print(f\"[Client {self.cid}] fit, config: {config}\")\n",
        "        set_parameters(self.net, parameters)\n",
        "        train(self.net, self.trainloader,epochs=local_epochs)\n",
        "        return get_parameters(self.net), len(self.trainloader), {}\n",
        "\n",
        "\n",
        "    def evaluate(self, parameters, config):\n",
        "        print(f\"[Client {self.cid}] evaluate, config: {config}\")\n",
        "        set_parameters(self.net, parameters)\n",
        "        loss, accuracy = test(self.net, self.testloader)\n",
        "        return float(loss), len(self.testloader), {\"accuracy\": float(accuracy)}\n",
        "\n",
        "def client_fn(cid) -> FlowerClient:\n",
        "        net = Net().to(DEVICE)\n",
        "        trainloader, testloader, num_examples = load_data()\n",
        "  \n",
        "        return FlowerClient(cid, net, trainloader, testloader,num_examples)"
      ],
      "metadata": {
        "id": "52oIAUFxTSve"
      },
      "execution_count": 20,
      "outputs": []
    },
    {
      "cell_type": "code",
      "source": [
        "# Realizando a agregação\n",
        "def weighted_average(metrics: List[Tuple[int, Metrics]]) -> Metrics:\n",
        "    # Multiply accuracy of each client by number of examples used\n",
        "    accuracies = [num_examples * m[\"accuracy\"] for num_examples, m in metrics]\n",
        "    examples = [num_examples for num_examples, _ in metrics]\n",
        "\n",
        "    # Aggregate and return custom metric (weighted average)\n",
        "    return {\"accuracy\": sum(accuracies) / sum(examples)}"
      ],
      "metadata": {
        "id": "d6fnSDhDTU8o"
      },
      "execution_count": 21,
      "outputs": []
    },
    {
      "cell_type": "code",
      "source": [
        "# Iniciando o treino federado\n",
        "# Criando a Função de agregação FedAvg\n",
        "strategy = fl.server.strategy.FedAvg(\n",
        "    fraction_fit=1.0,#-->Fração de clientes necessários para treinamento\n",
        "    fraction_evaluate=1.0, #--> Fração de clientes que serão utilizados para teste\n",
        "    min_fit_clients=NUM_CLIENTS, #--> Número mínimo que serão utlilizados para treinamento\n",
        "    min_evaluate_clients=2, #--> Número mínimo de clientes que serão realizados para teste\n",
        "    min_available_clients=NUM_CLIENTS,#--> Número mínimo de clientes que serão utilizados no treinamento\n",
        "    evaluate_metrics_aggregation_fn=weighted_average,  \n",
        ")\n",
        "client_resources = None\n",
        "if DEVICE.type == \"cuda\":\n",
        "    client_resources = {\"num_gpus\": 1}\n",
        "# Inicia a simulação\n",
        "fl.simulation.start_simulation(\n",
        "    client_fn=client_fn,\n",
        "    num_clients=NUM_CLIENTS,\n",
        "    config=fl.server.ServerConfig(num_rounds=num_rounds),\n",
        "    strategy=strategy,\n",
        "    client_resources=client_resources,\n",
        ")"
      ],
      "metadata": {
        "colab": {
          "base_uri": "https://localhost:8080/"
        },
        "id": "hVLPSVxPUCdy",
        "outputId": "ee3a38f7-a2e2-4fee-b038-18409651dc2b"
      },
      "execution_count": 22,
      "outputs": [
        {
          "output_type": "stream",
          "name": "stderr",
          "text": [
            "INFO flwr 2023-06-10 02:15:31,238 | app.py:146 | Starting Flower simulation, config: ServerConfig(num_rounds=10, round_timeout=None)\n",
            "INFO:flwr:Starting Flower simulation, config: ServerConfig(num_rounds=10, round_timeout=None)\n"
          ]
        },
        {
          "output_type": "stream",
          "name": "stdout",
          "text": [
            "\u001b[2m\u001b[36m(launch_and_evaluate pid=16184)\u001b[0m Files already downloaded and verified\n"
          ]
        },
        {
          "output_type": "stream",
          "name": "stderr",
          "text": [
            "2023-06-10 02:15:36,892\tINFO worker.py:1636 -- Started a local Ray instance.\n",
            "INFO flwr 2023-06-10 02:15:40,756 | app.py:180 | Flower VCE: Ray initialized with resources: {'memory': 7811353806.0, 'object_store_memory': 3905676902.0, 'node:172.28.0.12': 1.0, 'CPU': 2.0}\n",
            "INFO:flwr:Flower VCE: Ray initialized with resources: {'memory': 7811353806.0, 'object_store_memory': 3905676902.0, 'node:172.28.0.12': 1.0, 'CPU': 2.0}\n",
            "INFO flwr 2023-06-10 02:15:40,764 | server.py:86 | Initializing global parameters\n",
            "INFO:flwr:Initializing global parameters\n",
            "INFO flwr 2023-06-10 02:15:40,766 | server.py:273 | Requesting initial parameters from one random client\n",
            "INFO:flwr:Requesting initial parameters from one random client\n",
            "\u001b[2m\u001b[36m(pid=19533)\u001b[0m 2023-06-10 02:15:49.559304: W tensorflow/compiler/tf2tensorrt/utils/py_utils.cc:38] TF-TRT Warning: Could not find TensorRT\n"
          ]
        },
        {
          "output_type": "stream",
          "name": "stdout",
          "text": [
            "\u001b[2m\u001b[36m(launch_and_get_parameters pid=19533)\u001b[0m Files already downloaded and verified\n",
            "\u001b[2m\u001b[36m(launch_and_get_parameters pid=19533)\u001b[0m Files already downloaded and verified\n"
          ]
        },
        {
          "output_type": "stream",
          "name": "stderr",
          "text": [
            "INFO flwr 2023-06-10 02:15:56,713 | server.py:277 | Received initial parameters from one random client\n",
            "INFO:flwr:Received initial parameters from one random client\n",
            "INFO flwr 2023-06-10 02:15:56,720 | server.py:88 | Evaluating initial parameters\n",
            "INFO:flwr:Evaluating initial parameters\n",
            "INFO flwr 2023-06-10 02:15:56,727 | server.py:101 | FL starting\n",
            "INFO:flwr:FL starting\n",
            "DEBUG flwr 2023-06-10 02:15:56,730 | server.py:218 | fit_round 1: strategy sampled 10 clients (out of 10)\n",
            "DEBUG:flwr:fit_round 1: strategy sampled 10 clients (out of 10)\n"
          ]
        },
        {
          "output_type": "stream",
          "name": "stdout",
          "text": [
            "\u001b[2m\u001b[36m(launch_and_get_parameters pid=19533)\u001b[0m [Client 8] get_parameters\n",
            "\u001b[2m\u001b[36m(launch_and_fit pid=19533)\u001b[0m Files already downloaded and verified\n",
            "\u001b[2m\u001b[36m(launch_and_fit pid=19533)\u001b[0m Files already downloaded and verified\n",
            "\u001b[2m\u001b[36m(launch_and_fit pid=19533)\u001b[0m [Client 2] fit, config: {}\n"
          ]
        },
        {
          "output_type": "stream",
          "name": "stderr",
          "text": [
            "\u001b[2m\u001b[36m(pid=19534)\u001b[0m 2023-06-10 02:16:01.568348: W tensorflow/compiler/tf2tensorrt/utils/py_utils.cc:38] TF-TRT Warning: Could not find TensorRT\n"
          ]
        },
        {
          "output_type": "stream",
          "name": "stdout",
          "text": [
            "\u001b[2m\u001b[36m(launch_and_fit pid=19534)\u001b[0m Files already downloaded and verified\n",
            "\u001b[2m\u001b[36m(launch_and_fit pid=19534)\u001b[0m Files already downloaded and verified\n",
            "\u001b[2m\u001b[36m(launch_and_fit pid=19534)\u001b[0m [Client 8] fit, config: {}\n",
            "\u001b[2m\u001b[36m(launch_and_fit pid=19533)\u001b[0m Files already downloaded and verified\n",
            "\u001b[2m\u001b[36m(launch_and_fit pid=19533)\u001b[0m Files already downloaded and verified\n",
            "\u001b[2m\u001b[36m(launch_and_fit pid=19533)\u001b[0m [Client 5] fit, config: {}\n",
            "\u001b[2m\u001b[36m(launch_and_fit pid=19534)\u001b[0m Files already downloaded and verified\n",
            "\u001b[2m\u001b[36m(launch_and_fit pid=19534)\u001b[0m Files already downloaded and verified\n",
            "\u001b[2m\u001b[36m(launch_and_fit pid=19534)\u001b[0m [Client 6] fit, config: {}\n",
            "\u001b[2m\u001b[36m(launch_and_fit pid=19533)\u001b[0m Files already downloaded and verified\n",
            "\u001b[2m\u001b[36m(launch_and_fit pid=19533)\u001b[0m Files already downloaded and verified\n",
            "\u001b[2m\u001b[36m(launch_and_fit pid=19533)\u001b[0m [Client 1] fit, config: {}\n",
            "\u001b[2m\u001b[36m(launch_and_fit pid=19534)\u001b[0m Files already downloaded and verified\n",
            "\u001b[2m\u001b[36m(launch_and_fit pid=19534)\u001b[0m Files already downloaded and verified\n",
            "\u001b[2m\u001b[36m(launch_and_fit pid=19534)\u001b[0m [Client 9] fit, config: {}\n",
            "\u001b[2m\u001b[36m(launch_and_fit pid=19533)\u001b[0m Files already downloaded and verified\n",
            "\u001b[2m\u001b[36m(launch_and_fit pid=19533)\u001b[0m Files already downloaded and verified\n",
            "\u001b[2m\u001b[36m(launch_and_fit pid=19533)\u001b[0m [Client 7] fit, config: {}\n",
            "\u001b[2m\u001b[36m(launch_and_fit pid=19534)\u001b[0m Files already downloaded and verified\n",
            "\u001b[2m\u001b[36m(launch_and_fit pid=19534)\u001b[0m Files already downloaded and verified\n",
            "\u001b[2m\u001b[36m(launch_and_fit pid=19534)\u001b[0m [Client 4] fit, config: {}\n",
            "\u001b[2m\u001b[36m(launch_and_fit pid=19533)\u001b[0m Files already downloaded and verified\n",
            "\u001b[2m\u001b[36m(launch_and_fit pid=19533)\u001b[0m Files already downloaded and verified\n",
            "\u001b[2m\u001b[36m(launch_and_fit pid=19533)\u001b[0m [Client 3] fit, config: {}\n",
            "\u001b[2m\u001b[36m(launch_and_fit pid=19534)\u001b[0m Files already downloaded and verified\n",
            "\u001b[2m\u001b[36m(launch_and_fit pid=19534)\u001b[0m Files already downloaded and verified\n",
            "\u001b[2m\u001b[36m(launch_and_fit pid=19534)\u001b[0m [Client 0] fit, config: {}\n"
          ]
        },
        {
          "output_type": "stream",
          "name": "stderr",
          "text": [
            "DEBUG flwr 2023-06-10 02:38:59,327 | server.py:232 | fit_round 1 received 10 results and 0 failures\n",
            "DEBUG:flwr:fit_round 1 received 10 results and 0 failures\n",
            "WARNING flwr 2023-06-10 02:38:59,360 | fedavg.py:243 | No fit_metrics_aggregation_fn provided\n",
            "WARNING:flwr:No fit_metrics_aggregation_fn provided\n",
            "DEBUG flwr 2023-06-10 02:38:59,365 | server.py:168 | evaluate_round 1: strategy sampled 10 clients (out of 10)\n",
            "DEBUG:flwr:evaluate_round 1: strategy sampled 10 clients (out of 10)\n"
          ]
        },
        {
          "output_type": "stream",
          "name": "stdout",
          "text": [
            "\u001b[2m\u001b[36m(launch_and_evaluate pid=19533)\u001b[0m Files already downloaded and verified\n",
            "\u001b[2m\u001b[36m(launch_and_evaluate pid=19534)\u001b[0m Files already downloaded and verified\n",
            "\u001b[2m\u001b[36m(launch_and_evaluate pid=19534)\u001b[0m Files already downloaded and verified\n",
            "\u001b[2m\u001b[36m(launch_and_evaluate pid=19533)\u001b[0m [Client 3] evaluate, config: {}\n",
            "\u001b[2m\u001b[36m(launch_and_evaluate pid=19533)\u001b[0m Files already downloaded and verified\u001b[32m [repeated 2x across cluster]\u001b[0m\n",
            "\u001b[2m\u001b[36m(launch_and_evaluate pid=19534)\u001b[0m Files already downloaded and verified\n",
            "\u001b[2m\u001b[36m(launch_and_evaluate pid=19533)\u001b[0m [Client 8] evaluate, config: {}\n",
            "\u001b[2m\u001b[36m(launch_and_evaluate pid=19533)\u001b[0m Files already downloaded and verified\u001b[32m [repeated 4x across cluster]\u001b[0m\n",
            "\u001b[2m\u001b[36m(launch_and_evaluate pid=19534)\u001b[0m Files already downloaded and verified\n",
            "\u001b[2m\u001b[36m(launch_and_evaluate pid=19533)\u001b[0m [Client 1] evaluate, config: {}\n",
            "\u001b[2m\u001b[36m(launch_and_evaluate pid=19533)\u001b[0m Files already downloaded and verified\u001b[32m [repeated 4x across cluster]\u001b[0m\n",
            "\u001b[2m\u001b[36m(launch_and_evaluate pid=19534)\u001b[0m Files already downloaded and verified\n",
            "\u001b[2m\u001b[36m(launch_and_evaluate pid=19533)\u001b[0m [Client 4] evaluate, config: {}\n",
            "\u001b[2m\u001b[36m(launch_and_evaluate pid=19533)\u001b[0m Files already downloaded and verified\u001b[32m [repeated 4x across cluster]\u001b[0m\n",
            "\u001b[2m\u001b[36m(launch_and_evaluate pid=19534)\u001b[0m Files already downloaded and verified\n",
            "\u001b[2m\u001b[36m(launch_and_evaluate pid=19533)\u001b[0m [Client 9] evaluate, config: {}\n"
          ]
        },
        {
          "output_type": "stream",
          "name": "stderr",
          "text": [
            "DEBUG flwr 2023-06-10 02:40:00,115 | server.py:182 | evaluate_round 1 received 10 results and 0 failures\n",
            "DEBUG:flwr:evaluate_round 1 received 10 results and 0 failures\n",
            "DEBUG flwr 2023-06-10 02:40:00,123 | server.py:218 | fit_round 2: strategy sampled 10 clients (out of 10)\n",
            "DEBUG:flwr:fit_round 2: strategy sampled 10 clients (out of 10)\n"
          ]
        },
        {
          "output_type": "stream",
          "name": "stdout",
          "text": [
            "\u001b[2m\u001b[36m(launch_and_fit pid=19534)\u001b[0m Files already downloaded and verified\u001b[32m [repeated 4x across cluster]\u001b[0m\n",
            "\u001b[2m\u001b[36m(launch_and_evaluate pid=19534)\u001b[0m Files already downloaded and verified\n",
            "\u001b[2m\u001b[36m(launch_and_fit pid=19534)\u001b[0m [Client 9] fit, config: {}\n",
            "\u001b[2m\u001b[36m(launch_and_fit pid=19533)\u001b[0m Files already downloaded and verified\u001b[32m [repeated 4x across cluster]\u001b[0m\n",
            "\u001b[2m\u001b[36m(launch_and_fit pid=19533)\u001b[0m Files already downloaded and verified\n",
            "\u001b[2m\u001b[36m(launch_and_fit pid=19533)\u001b[0m [Client 4] fit, config: {}\n",
            "\u001b[2m\u001b[36m(launch_and_fit pid=19533)\u001b[0m Files already downloaded and verified\u001b[32m [repeated 4x across cluster]\u001b[0m\n",
            "\u001b[2m\u001b[36m(launch_and_fit pid=19534)\u001b[0m Files already downloaded and verified\n",
            "\u001b[2m\u001b[36m(launch_and_fit pid=19533)\u001b[0m [Client 7] fit, config: {}\n",
            "\u001b[2m\u001b[36m(launch_and_fit pid=19534)\u001b[0m Files already downloaded and verified\u001b[32m [repeated 3x across cluster]\u001b[0m\n",
            "\u001b[2m\u001b[36m(launch_and_fit pid=19534)\u001b[0m Files already downloaded and verified\n",
            "\u001b[2m\u001b[36m(launch_and_fit pid=19533)\u001b[0m Files already downloaded and verified\n",
            "\u001b[2m\u001b[36m(launch_and_fit pid=19533)\u001b[0m Files already downloaded and verified\n",
            "\u001b[2m\u001b[36m(launch_and_fit pid=19533)\u001b[0m [Client 8] fit, config: {}\n",
            "\u001b[2m\u001b[36m(launch_and_fit pid=19533)\u001b[0m Files already downloaded and verified\u001b[32m [repeated 3x across cluster]\u001b[0m\n",
            "\u001b[2m\u001b[36m(launch_and_fit pid=19534)\u001b[0m Files already downloaded and verified\n",
            "\u001b[2m\u001b[36m(launch_and_fit pid=19533)\u001b[0m [Client 5] fit, config: {}\n",
            "\u001b[2m\u001b[36m(launch_and_fit pid=19534)\u001b[0m Files already downloaded and verified\u001b[32m [repeated 3x across cluster]\u001b[0m\n",
            "\u001b[2m\u001b[36m(launch_and_fit pid=19534)\u001b[0m [Client 6] fit, config: {}\n"
          ]
        },
        {
          "output_type": "stream",
          "name": "stderr",
          "text": [
            "DEBUG flwr 2023-06-10 03:02:40,292 | server.py:232 | fit_round 2 received 10 results and 0 failures\n",
            "DEBUG:flwr:fit_round 2 received 10 results and 0 failures\n",
            "DEBUG flwr 2023-06-10 03:02:40,326 | server.py:168 | evaluate_round 2: strategy sampled 10 clients (out of 10)\n",
            "DEBUG:flwr:evaluate_round 2: strategy sampled 10 clients (out of 10)\n"
          ]
        },
        {
          "output_type": "stream",
          "name": "stdout",
          "text": [
            "\u001b[2m\u001b[36m(launch_and_evaluate pid=19534)\u001b[0m Files already downloaded and verified\n",
            "\u001b[2m\u001b[36m(launch_and_evaluate pid=19533)\u001b[0m Files already downloaded and verified\n",
            "\u001b[2m\u001b[36m(launch_and_evaluate pid=19533)\u001b[0m [Client 1] evaluate, config: {}\n",
            "\u001b[2m\u001b[36m(launch_and_evaluate pid=19533)\u001b[0m Files already downloaded and verified\u001b[32m [repeated 3x across cluster]\u001b[0m\n",
            "\u001b[2m\u001b[36m(launch_and_evaluate pid=19534)\u001b[0m Files already downloaded and verified\n",
            "\u001b[2m\u001b[36m(launch_and_evaluate pid=19533)\u001b[0m [Client 0] evaluate, config: {}\n",
            "\u001b[2m\u001b[36m(launch_and_evaluate pid=19534)\u001b[0m Files already downloaded and verified\u001b[32m [repeated 4x across cluster]\u001b[0m\n",
            "\u001b[2m\u001b[36m(launch_and_evaluate pid=19534)\u001b[0m Files already downloaded and verified\n",
            "\u001b[2m\u001b[36m(launch_and_evaluate pid=19533)\u001b[0m [Client 7] evaluate, config: {}\n",
            "\u001b[2m\u001b[36m(launch_and_evaluate pid=19533)\u001b[0m Files already downloaded and verified\u001b[32m [repeated 4x across cluster]\u001b[0m\n",
            "\u001b[2m\u001b[36m(launch_and_evaluate pid=19534)\u001b[0m Files already downloaded and verified\n",
            "\u001b[2m\u001b[36m(launch_and_evaluate pid=19533)\u001b[0m [Client 3] evaluate, config: {}\n",
            "\u001b[2m\u001b[36m(launch_and_evaluate pid=19533)\u001b[0m Files already downloaded and verified\u001b[32m [repeated 4x across cluster]\u001b[0m\n",
            "\u001b[2m\u001b[36m(launch_and_evaluate pid=19534)\u001b[0m Files already downloaded and verified\n",
            "\u001b[2m\u001b[36m(launch_and_evaluate pid=19533)\u001b[0m [Client 6] evaluate, config: {}\n"
          ]
        },
        {
          "output_type": "stream",
          "name": "stderr",
          "text": [
            "DEBUG flwr 2023-06-10 03:03:38,474 | server.py:182 | evaluate_round 2 received 10 results and 0 failures\n",
            "DEBUG:flwr:evaluate_round 2 received 10 results and 0 failures\n",
            "DEBUG flwr 2023-06-10 03:03:38,477 | server.py:218 | fit_round 3: strategy sampled 10 clients (out of 10)\n",
            "DEBUG:flwr:fit_round 3: strategy sampled 10 clients (out of 10)\n"
          ]
        },
        {
          "output_type": "stream",
          "name": "stdout",
          "text": [
            "\u001b[2m\u001b[36m(launch_and_fit pid=19533)\u001b[0m Files already downloaded and verified\u001b[32m [repeated 4x across cluster]\u001b[0m\n",
            "\u001b[2m\u001b[36m(launch_and_evaluate pid=19534)\u001b[0m Files already downloaded and verified\n",
            "\u001b[2m\u001b[36m(launch_and_fit pid=19533)\u001b[0m \n",
            "\u001b[2m\u001b[36m(launch_and_fit pid=19533)\u001b[0m [Client 0] fit, config: {}\n",
            "\u001b[2m\u001b[36m(launch_and_fit pid=19533)\u001b[0m Files already downloaded and verified\u001b[32m [repeated 4x across cluster]\u001b[0m\n",
            "\u001b[2m\u001b[36m(launch_and_fit pid=19534)\u001b[0m Files already downloaded and verified\n",
            "\u001b[2m\u001b[36m(launch_and_fit pid=19533)\u001b[0m [Client 1] fit, config: {}\n",
            "\u001b[2m\u001b[36m(launch_and_fit pid=19533)\u001b[0m Files already downloaded and verified\u001b[32m [repeated 4x across cluster]\u001b[0m\n",
            "\u001b[2m\u001b[36m(launch_and_fit pid=19534)\u001b[0m Files already downloaded and verified\n",
            "\u001b[2m\u001b[36m(launch_and_fit pid=19533)\u001b[0m [Client 9] fit, config: {}\n",
            "\u001b[2m\u001b[36m(launch_and_fit pid=19533)\u001b[0m Files already downloaded and verified\u001b[32m [repeated 4x across cluster]\u001b[0m\n",
            "\u001b[2m\u001b[36m(launch_and_fit pid=19534)\u001b[0m Files already downloaded and verified\n",
            "\u001b[2m\u001b[36m(launch_and_fit pid=19533)\u001b[0m [Client 2] fit, config: {}\n",
            "\u001b[2m\u001b[36m(launch_and_fit pid=19534)\u001b[0m Files already downloaded and verified\u001b[32m [repeated 3x across cluster]\u001b[0m\n",
            "\u001b[2m\u001b[36m(launch_and_fit pid=19534)\u001b[0m Files already downloaded and verified\n",
            "\u001b[2m\u001b[36m(launch_and_fit pid=19533)\u001b[0m Files already downloaded and verified\n",
            "\u001b[2m\u001b[36m(launch_and_fit pid=19533)\u001b[0m Files already downloaded and verified\n",
            "\u001b[2m\u001b[36m(launch_and_fit pid=19533)\u001b[0m [Client 8] fit, config: {}\n"
          ]
        },
        {
          "output_type": "stream",
          "name": "stderr",
          "text": [
            "DEBUG flwr 2023-06-10 03:26:22,713 | server.py:232 | fit_round 3 received 10 results and 0 failures\n",
            "DEBUG:flwr:fit_round 3 received 10 results and 0 failures\n",
            "DEBUG flwr 2023-06-10 03:26:22,745 | server.py:168 | evaluate_round 3: strategy sampled 10 clients (out of 10)\n",
            "DEBUG:flwr:evaluate_round 3: strategy sampled 10 clients (out of 10)\n"
          ]
        },
        {
          "output_type": "stream",
          "name": "stdout",
          "text": [
            "\u001b[2m\u001b[36m(launch_and_evaluate pid=19533)\u001b[0m Files already downloaded and verified\u001b[32m [repeated 3x across cluster]\u001b[0m\n",
            "\u001b[2m\u001b[36m(launch_and_fit pid=19534)\u001b[0m Files already downloaded and verified\n",
            "\u001b[2m\u001b[36m(launch_and_evaluate pid=19533)\u001b[0m [Client 9] evaluate, config: {}\n",
            "\u001b[2m\u001b[36m(launch_and_evaluate pid=19533)\u001b[0m Files already downloaded and verified\u001b[32m [repeated 4x across cluster]\u001b[0m\n",
            "\u001b[2m\u001b[36m(launch_and_evaluate pid=19534)\u001b[0m Files already downloaded and verified\n",
            "\u001b[2m\u001b[36m(launch_and_evaluate pid=19533)\u001b[0m [Client 1] evaluate, config: {}\n",
            "\u001b[2m\u001b[36m(launch_and_evaluate pid=19534)\u001b[0m Files already downloaded and verified\u001b[32m [repeated 4x across cluster]\u001b[0m\n",
            "\u001b[2m\u001b[36m(launch_and_evaluate pid=19534)\u001b[0m Files already downloaded and verified\n",
            "\u001b[2m\u001b[36m(launch_and_evaluate pid=19533)\u001b[0m [Client 5] evaluate, config: {}\n",
            "\u001b[2m\u001b[36m(launch_and_evaluate pid=19533)\u001b[0m Files already downloaded and verified\u001b[32m [repeated 4x across cluster]\u001b[0m\n",
            "\u001b[2m\u001b[36m(launch_and_evaluate pid=19534)\u001b[0m Files already downloaded and verified\n",
            "\u001b[2m\u001b[36m(launch_and_evaluate pid=19533)\u001b[0m [Client 2] evaluate, config: {}\n",
            "\u001b[2m\u001b[36m(launch_and_evaluate pid=19533)\u001b[0m Files already downloaded and verified\u001b[32m [repeated 4x across cluster]\u001b[0m\n",
            "\u001b[2m\u001b[36m(launch_and_evaluate pid=19534)\u001b[0m Files already downloaded and verified\n",
            "\u001b[2m\u001b[36m(launch_and_evaluate pid=19533)\u001b[0m [Client 3] evaluate, config: {}\n"
          ]
        },
        {
          "output_type": "stream",
          "name": "stderr",
          "text": [
            "DEBUG flwr 2023-06-10 03:27:24,378 | server.py:182 | evaluate_round 3 received 10 results and 0 failures\n",
            "DEBUG:flwr:evaluate_round 3 received 10 results and 0 failures\n",
            "DEBUG flwr 2023-06-10 03:27:24,385 | server.py:218 | fit_round 4: strategy sampled 10 clients (out of 10)\n",
            "DEBUG:flwr:fit_round 4: strategy sampled 10 clients (out of 10)\n"
          ]
        },
        {
          "output_type": "stream",
          "name": "stdout",
          "text": [
            "\u001b[2m\u001b[36m(launch_and_fit pid=19533)\u001b[0m Files already downloaded and verified\u001b[32m [repeated 4x across cluster]\u001b[0m\n",
            "\u001b[2m\u001b[36m(launch_and_evaluate pid=19534)\u001b[0m Files already downloaded and verified\n",
            "\u001b[2m\u001b[36m(launch_and_fit pid=19533)\u001b[0m [Client 0] fit, config: {}\n",
            "\u001b[2m\u001b[36m(launch_and_fit pid=19533)\u001b[0m Files already downloaded and verified\u001b[32m [repeated 4x across cluster]\u001b[0m\n",
            "\u001b[2m\u001b[36m(launch_and_fit pid=19534)\u001b[0m Files already downloaded and verified\n",
            "\u001b[2m\u001b[36m(launch_and_fit pid=19533)\u001b[0m [Client 5] fit, config: {}\n",
            "\u001b[2m\u001b[36m(launch_and_fit pid=19533)\u001b[0m Files already downloaded and verified\u001b[32m [repeated 4x across cluster]\u001b[0m\n",
            "\u001b[2m\u001b[36m(launch_and_fit pid=19534)\u001b[0m Files already downloaded and verified\n",
            "\u001b[2m\u001b[36m(launch_and_fit pid=19533)\u001b[0m [Client 9] fit, config: {}\n",
            "\u001b[2m\u001b[36m(launch_and_fit pid=19533)\u001b[0m Files already downloaded and verified\u001b[32m [repeated 4x across cluster]\u001b[0m\n",
            "\u001b[2m\u001b[36m(launch_and_fit pid=19534)\u001b[0m Files already downloaded and verified\n",
            "\u001b[2m\u001b[36m(launch_and_fit pid=19533)\u001b[0m [Client 7] fit, config: {}\n",
            "\u001b[2m\u001b[36m(launch_and_fit pid=19533)\u001b[0m Files already downloaded and verified\u001b[32m [repeated 4x across cluster]\u001b[0m\n",
            "\u001b[2m\u001b[36m(launch_and_fit pid=19534)\u001b[0m Files already downloaded and verified\n",
            "\u001b[2m\u001b[36m(launch_and_fit pid=19533)\u001b[0m [Client 3] fit, config: {}\n"
          ]
        },
        {
          "output_type": "stream",
          "name": "stderr",
          "text": [
            "DEBUG flwr 2023-06-10 03:50:02,140 | server.py:232 | fit_round 4 received 10 results and 0 failures\n",
            "DEBUG:flwr:fit_round 4 received 10 results and 0 failures\n",
            "DEBUG flwr 2023-06-10 03:50:02,195 | server.py:168 | evaluate_round 4: strategy sampled 10 clients (out of 10)\n",
            "DEBUG:flwr:evaluate_round 4: strategy sampled 10 clients (out of 10)\n"
          ]
        },
        {
          "output_type": "stream",
          "name": "stdout",
          "text": [
            "\u001b[2m\u001b[36m(launch_and_evaluate pid=19533)\u001b[0m Files already downloaded and verified\u001b[32m [repeated 4x across cluster]\u001b[0m\n",
            "\u001b[2m\u001b[36m(launch_and_fit pid=19534)\u001b[0m Files already downloaded and verified\n",
            "\u001b[2m\u001b[36m(launch_and_evaluate pid=19533)\u001b[0m [Client 3] evaluate, config: {}\n",
            "\u001b[2m\u001b[36m(launch_and_evaluate pid=19533)\u001b[0m Files already downloaded and verified\u001b[32m [repeated 4x across cluster]\u001b[0m\n",
            "\u001b[2m\u001b[36m(launch_and_evaluate pid=19534)\u001b[0m Files already downloaded and verified\n",
            "\u001b[2m\u001b[36m(launch_and_evaluate pid=19533)\u001b[0m [Client 4] evaluate, config: {}\n",
            "\u001b[2m\u001b[36m(launch_and_evaluate pid=19534)\u001b[0m Files already downloaded and verified\u001b[32m [repeated 4x across cluster]\u001b[0m\n",
            "\u001b[2m\u001b[36m(launch_and_evaluate pid=19534)\u001b[0m Files already downloaded and verified\n",
            "\u001b[2m\u001b[36m(launch_and_evaluate pid=19533)\u001b[0m [Client 0] evaluate, config: {}\n",
            "\u001b[2m\u001b[36m(launch_and_evaluate pid=19533)\u001b[0m Files already downloaded and verified\u001b[32m [repeated 4x across cluster]\u001b[0m\n",
            "\u001b[2m\u001b[36m(launch_and_evaluate pid=19534)\u001b[0m Files already downloaded and verified\n",
            "\u001b[2m\u001b[36m(launch_and_evaluate pid=19533)\u001b[0m [Client 7] evaluate, config: {}\n",
            "\u001b[2m\u001b[36m(launch_and_evaluate pid=19533)\u001b[0m Files already downloaded and verified\u001b[32m [repeated 4x across cluster]\u001b[0m\n",
            "\u001b[2m\u001b[36m(launch_and_evaluate pid=19534)\u001b[0m Files already downloaded and verified\n",
            "\u001b[2m\u001b[36m(launch_and_evaluate pid=19533)\u001b[0m [Client 5] evaluate, config: {}\n"
          ]
        },
        {
          "output_type": "stream",
          "name": "stderr",
          "text": [
            "DEBUG flwr 2023-06-10 03:51:03,375 | server.py:182 | evaluate_round 4 received 10 results and 0 failures\n",
            "DEBUG:flwr:evaluate_round 4 received 10 results and 0 failures\n",
            "DEBUG flwr 2023-06-10 03:51:03,385 | server.py:218 | fit_round 5: strategy sampled 10 clients (out of 10)\n",
            "DEBUG:flwr:fit_round 5: strategy sampled 10 clients (out of 10)\n"
          ]
        },
        {
          "output_type": "stream",
          "name": "stdout",
          "text": [
            "\u001b[2m\u001b[36m(launch_and_fit pid=19533)\u001b[0m Files already downloaded and verified\u001b[32m [repeated 4x across cluster]\u001b[0m\n",
            "\u001b[2m\u001b[36m(launch_and_evaluate pid=19534)\u001b[0m Files already downloaded and verified\n",
            "\u001b[2m\u001b[36m(launch_and_fit pid=19533)\u001b[0m [Client 5] fit, config: {}\n",
            "\u001b[2m\u001b[36m(launch_and_fit pid=19534)\u001b[0m Files already downloaded and verified\u001b[32m [repeated 4x across cluster]\u001b[0m\n",
            "\u001b[2m\u001b[36m(launch_and_fit pid=19534)\u001b[0m Files already downloaded and verified\n",
            "\u001b[2m\u001b[36m(launch_and_fit pid=19534)\u001b[0m [Client 8] fit, config: {}\n",
            "\u001b[2m\u001b[36m(launch_and_fit pid=19534)\u001b[0m Files already downloaded and verified\u001b[32m [repeated 4x across cluster]\u001b[0m\n",
            "\u001b[2m\u001b[36m(launch_and_fit pid=19533)\u001b[0m Files already downloaded and verified\n",
            "\u001b[2m\u001b[36m(launch_and_fit pid=19534)\u001b[0m [Client 3] fit, config: {}\n",
            "\u001b[2m\u001b[36m(launch_and_fit pid=19533)\u001b[0m Files already downloaded and verified\u001b[32m [repeated 4x across cluster]\u001b[0m\n",
            "\u001b[2m\u001b[36m(launch_and_fit pid=19533)\u001b[0m Files already downloaded and verified\n",
            "\u001b[2m\u001b[36m(launch_and_fit pid=19533)\u001b[0m [Client 0] fit, config: {}\n",
            "\u001b[2m\u001b[36m(launch_and_fit pid=19533)\u001b[0m Files already downloaded and verified\u001b[32m [repeated 4x across cluster]\u001b[0m\n",
            "\u001b[2m\u001b[36m(launch_and_fit pid=19534)\u001b[0m Files already downloaded and verified\n",
            "\u001b[2m\u001b[36m(launch_and_fit pid=19533)\u001b[0m [Client 4] fit, config: {}\n",
            "\u001b[2m\u001b[36m(launch_and_fit pid=19534)\u001b[0m Files already downloaded and verified\u001b[32m [repeated 3x across cluster]\u001b[0m\n"
          ]
        },
        {
          "output_type": "stream",
          "name": "stderr",
          "text": [
            "DEBUG flwr 2023-06-10 04:13:48,420 | server.py:232 | fit_round 5 received 10 results and 0 failures\n",
            "DEBUG:flwr:fit_round 5 received 10 results and 0 failures\n",
            "DEBUG flwr 2023-06-10 04:13:48,456 | server.py:168 | evaluate_round 5: strategy sampled 10 clients (out of 10)\n",
            "DEBUG:flwr:evaluate_round 5: strategy sampled 10 clients (out of 10)\n"
          ]
        },
        {
          "output_type": "stream",
          "name": "stdout",
          "text": [
            "\u001b[2m\u001b[36m(launch_and_fit pid=19534)\u001b[0m Files already downloaded and verified\n",
            "\u001b[2m\u001b[36m(launch_and_evaluate pid=19534)\u001b[0m Files already downloaded and verified\n",
            "\u001b[2m\u001b[36m(launch_and_evaluate pid=19533)\u001b[0m Files already downloaded and verified\n",
            "\u001b[2m\u001b[36m(launch_and_evaluate pid=19533)\u001b[0m Files already downloaded and verified\n",
            "\u001b[2m\u001b[36m(launch_and_evaluate pid=19533)\u001b[0m [Client 4] evaluate, config: {}\n",
            "\u001b[2m\u001b[36m(launch_and_evaluate pid=19534)\u001b[0m Files already downloaded and verified\u001b[32m [repeated 2x across cluster]\u001b[0m\n",
            "\u001b[2m\u001b[36m(launch_and_evaluate pid=19534)\u001b[0m Files already downloaded and verified\n",
            "\u001b[2m\u001b[36m(launch_and_evaluate pid=19534)\u001b[0m [Client 9] evaluate, config: {}\n",
            "\u001b[2m\u001b[36m(launch_and_evaluate pid=19534)\u001b[0m Files already downloaded and verified\u001b[32m [repeated 4x across cluster]\u001b[0m\n",
            "\u001b[2m\u001b[36m(launch_and_evaluate pid=19533)\u001b[0m Files already downloaded and verified\n",
            "\u001b[2m\u001b[36m(launch_and_evaluate pid=19534)\u001b[0m [Client 8] evaluate, config: {}\n",
            "\u001b[2m\u001b[36m(launch_and_evaluate pid=19534)\u001b[0m Files already downloaded and verified\u001b[32m [repeated 4x across cluster]\u001b[0m\n",
            "\u001b[2m\u001b[36m(launch_and_evaluate pid=19533)\u001b[0m Files already downloaded and verified\n",
            "\u001b[2m\u001b[36m(launch_and_evaluate pid=19533)\u001b[0m [Client 1] evaluate, config: {}\n",
            "\u001b[2m\u001b[36m(launch_and_evaluate pid=19534)\u001b[0m Files already downloaded and verified\u001b[32m [repeated 4x across cluster]\u001b[0m\n",
            "\u001b[2m\u001b[36m(launch_and_evaluate pid=19534)\u001b[0m Files already downloaded and verified\n",
            "\u001b[2m\u001b[36m(launch_and_evaluate pid=19534)\u001b[0m [Client 5] evaluate, config: {}\n"
          ]
        },
        {
          "output_type": "stream",
          "name": "stderr",
          "text": [
            "DEBUG flwr 2023-06-10 04:14:50,738 | server.py:182 | evaluate_round 5 received 10 results and 0 failures\n",
            "DEBUG:flwr:evaluate_round 5 received 10 results and 0 failures\n",
            "DEBUG flwr 2023-06-10 04:14:50,747 | server.py:218 | fit_round 6: strategy sampled 10 clients (out of 10)\n",
            "DEBUG:flwr:fit_round 6: strategy sampled 10 clients (out of 10)\n"
          ]
        },
        {
          "output_type": "stream",
          "name": "stdout",
          "text": [
            "\u001b[2m\u001b[36m(launch_and_fit pid=19533)\u001b[0m Files already downloaded and verified\u001b[32m [repeated 4x across cluster]\u001b[0m\n",
            "\u001b[2m\u001b[36m(launch_and_evaluate pid=19533)\u001b[0m Files already downloaded and verified\n",
            "\u001b[2m\u001b[36m(launch_and_fit pid=19533)\u001b[0m [Client 5] fit, config: {}\n",
            "\u001b[2m\u001b[36m(launch_and_fit pid=19533)\u001b[0m Files already downloaded and verified\u001b[32m [repeated 4x across cluster]\u001b[0m\n",
            "\u001b[2m\u001b[36m(launch_and_fit pid=19534)\u001b[0m Files already downloaded and verified\n",
            "\u001b[2m\u001b[36m(launch_and_fit pid=19533)\u001b[0m [Client 7] fit, config: {}\n",
            "\u001b[2m\u001b[36m(launch_and_fit pid=19534)\u001b[0m Files already downloaded and verified\u001b[32m [repeated 4x across cluster]\u001b[0m\n",
            "\u001b[2m\u001b[36m(launch_and_fit pid=19534)\u001b[0m Files already downloaded and verified\n",
            "\u001b[2m\u001b[36m(launch_and_fit pid=19534)\u001b[0m [Client 6] fit, config: {}\n",
            "\u001b[2m\u001b[36m(launch_and_fit pid=19533)\u001b[0m Files already downloaded and verified\u001b[32m [repeated 4x across cluster]\u001b[0m\n",
            "\u001b[2m\u001b[36m(launch_and_fit pid=19533)\u001b[0m Files already downloaded and verified\n",
            "\u001b[2m\u001b[36m(launch_and_fit pid=19533)\u001b[0m [Client 9] fit, config: {}\n",
            "\u001b[2m\u001b[36m(launch_and_fit pid=19533)\u001b[0m Files already downloaded and verified\u001b[32m [repeated 4x across cluster]\u001b[0m\n",
            "\u001b[2m\u001b[36m(launch_and_fit pid=19534)\u001b[0m Files already downloaded and verified\n",
            "\u001b[2m\u001b[36m(launch_and_fit pid=19533)\u001b[0m [Client 2] fit, config: {}\n",
            "\u001b[2m\u001b[36m(launch_and_fit pid=19534)\u001b[0m Files already downloaded and verified\u001b[32m [repeated 2x across cluster]\u001b[0m\n"
          ]
        },
        {
          "output_type": "stream",
          "name": "stderr",
          "text": [
            "DEBUG flwr 2023-06-10 04:37:45,066 | server.py:232 | fit_round 6 received 10 results and 0 failures\n",
            "DEBUG:flwr:fit_round 6 received 10 results and 0 failures\n",
            "DEBUG flwr 2023-06-10 04:37:45,117 | server.py:168 | evaluate_round 6: strategy sampled 10 clients (out of 10)\n",
            "DEBUG:flwr:evaluate_round 6: strategy sampled 10 clients (out of 10)\n"
          ]
        },
        {
          "output_type": "stream",
          "name": "stdout",
          "text": [
            "\u001b[2m\u001b[36m(launch_and_fit pid=19534)\u001b[0m Files already downloaded and verified\n",
            "\u001b[2m\u001b[36m(launch_and_evaluate pid=19533)\u001b[0m Files already downloaded and verified\u001b[32m [repeated 2x across cluster]\u001b[0m\n",
            "\u001b[2m\u001b[36m(launch_and_evaluate pid=19533)\u001b[0m [Client 9] evaluate, config: {}\n",
            "\u001b[2m\u001b[36m(launch_and_evaluate pid=19534)\u001b[0m Files already downloaded and verified\u001b[32m [repeated 4x across cluster]\u001b[0m\n",
            "\u001b[2m\u001b[36m(launch_and_evaluate pid=19534)\u001b[0m Files already downloaded and verified\n",
            "\u001b[2m\u001b[36m(launch_and_evaluate pid=19533)\u001b[0m [Client 8] evaluate, config: {}\n",
            "\u001b[2m\u001b[36m(launch_and_evaluate pid=19533)\u001b[0m Files already downloaded and verified\u001b[32m [repeated 4x across cluster]\u001b[0m\n",
            "\u001b[2m\u001b[36m(launch_and_evaluate pid=19534)\u001b[0m Files already downloaded and verified\n",
            "\u001b[2m\u001b[36m(launch_and_evaluate pid=19533)\u001b[0m [Client 0] evaluate, config: {}\n",
            "\u001b[2m\u001b[36m(launch_and_evaluate pid=19533)\u001b[0m Files already downloaded and verified\u001b[32m [repeated 4x across cluster]\u001b[0m\n",
            "\u001b[2m\u001b[36m(launch_and_evaluate pid=19534)\u001b[0m Files already downloaded and verified\n",
            "\u001b[2m\u001b[36m(launch_and_evaluate pid=19533)\u001b[0m [Client 5] evaluate, config: {}\n",
            "\u001b[2m\u001b[36m(launch_and_evaluate pid=19533)\u001b[0m Files already downloaded and verified\u001b[32m [repeated 4x across cluster]\u001b[0m\n",
            "\u001b[2m\u001b[36m(launch_and_evaluate pid=19534)\u001b[0m Files already downloaded and verified\n",
            "\u001b[2m\u001b[36m(launch_and_evaluate pid=19533)\u001b[0m [Client 1] evaluate, config: {}\n"
          ]
        },
        {
          "output_type": "stream",
          "name": "stderr",
          "text": [
            "DEBUG flwr 2023-06-10 04:38:42,934 | server.py:182 | evaluate_round 6 received 10 results and 0 failures\n",
            "DEBUG:flwr:evaluate_round 6 received 10 results and 0 failures\n",
            "DEBUG flwr 2023-06-10 04:38:42,939 | server.py:218 | fit_round 7: strategy sampled 10 clients (out of 10)\n",
            "DEBUG:flwr:fit_round 7: strategy sampled 10 clients (out of 10)\n"
          ]
        },
        {
          "output_type": "stream",
          "name": "stdout",
          "text": [
            "\u001b[2m\u001b[36m(launch_and_fit pid=19533)\u001b[0m Files already downloaded and verified\u001b[32m [repeated 4x across cluster]\u001b[0m\n",
            "\u001b[2m\u001b[36m(launch_and_evaluate pid=19534)\u001b[0m Files already downloaded and verified\n",
            "\u001b[2m\u001b[36m(launch_and_fit pid=19533)\u001b[0m [Client 1] fit, config: {}\n",
            "\u001b[2m\u001b[36m(launch_and_fit pid=19533)\u001b[0m Files already downloaded and verified\u001b[32m [repeated 4x across cluster]\u001b[0m\n",
            "\u001b[2m\u001b[36m(launch_and_fit pid=19534)\u001b[0m Files already downloaded and verified\n",
            "\u001b[2m\u001b[36m(launch_and_fit pid=19533)\u001b[0m [Client 2] fit, config: {}\n",
            "\u001b[2m\u001b[36m(launch_and_fit pid=19533)\u001b[0m Files already downloaded and verified\u001b[32m [repeated 4x across cluster]\u001b[0m\n",
            "\u001b[2m\u001b[36m(launch_and_fit pid=19534)\u001b[0m Files already downloaded and verified\n",
            "\u001b[2m\u001b[36m(launch_and_fit pid=19533)\u001b[0m [Client 6] fit, config: {}\n",
            "\u001b[2m\u001b[36m(launch_and_fit pid=19533)\u001b[0m Files already downloaded and verified\u001b[32m [repeated 4x across cluster]\u001b[0m\n",
            "\u001b[2m\u001b[36m(launch_and_fit pid=19534)\u001b[0m Files already downloaded and verified\n",
            "\u001b[2m\u001b[36m(launch_and_fit pid=19533)\u001b[0m [Client 7] fit, config: {}\n",
            "\u001b[2m\u001b[36m(launch_and_fit pid=19534)\u001b[0m Files already downloaded and verified\u001b[32m [repeated 3x across cluster]\u001b[0m\n",
            "\u001b[2m\u001b[36m(launch_and_fit pid=19534)\u001b[0m Files already downloaded and verified\n",
            "\u001b[2m\u001b[36m(launch_and_fit pid=19533)\u001b[0m Files already downloaded and verified\n",
            "\u001b[2m\u001b[36m(launch_and_fit pid=19533)\u001b[0m Files already downloaded and verified\n",
            "\u001b[2m\u001b[36m(launch_and_fit pid=19533)\u001b[0m [Client 0] fit, config: {}\n"
          ]
        },
        {
          "output_type": "stream",
          "name": "stderr",
          "text": [
            "DEBUG flwr 2023-06-10 05:01:29,182 | server.py:232 | fit_round 7 received 10 results and 0 failures\n",
            "DEBUG:flwr:fit_round 7 received 10 results and 0 failures\n",
            "DEBUG flwr 2023-06-10 05:01:29,224 | server.py:168 | evaluate_round 7: strategy sampled 10 clients (out of 10)\n",
            "DEBUG:flwr:evaluate_round 7: strategy sampled 10 clients (out of 10)\n"
          ]
        },
        {
          "output_type": "stream",
          "name": "stdout",
          "text": [
            "\u001b[2m\u001b[36m(launch_and_evaluate pid=19534)\u001b[0m Files already downloaded and verified\u001b[32m [repeated 3x across cluster]\u001b[0m\n",
            "\u001b[2m\u001b[36m(launch_and_fit pid=19534)\u001b[0m Files already downloaded and verified\n",
            "\u001b[2m\u001b[36m(launch_and_evaluate pid=19533)\u001b[0m [Client 1] evaluate, config: {}\n",
            "\u001b[2m\u001b[36m(launch_and_evaluate pid=19533)\u001b[0m Files already downloaded and verified\u001b[32m [repeated 4x across cluster]\u001b[0m\n",
            "\u001b[2m\u001b[36m(launch_and_evaluate pid=19534)\u001b[0m Files already downloaded and verified\n",
            "\u001b[2m\u001b[36m(launch_and_evaluate pid=19533)\u001b[0m [Client 4] evaluate, config: {}\n",
            "\u001b[2m\u001b[36m(launch_and_evaluate pid=19533)\u001b[0m Files already downloaded and verified\u001b[32m [repeated 4x across cluster]\u001b[0m\n",
            "\u001b[2m\u001b[36m(launch_and_evaluate pid=19534)\u001b[0m Files already downloaded and verified\n",
            "\u001b[2m\u001b[36m(launch_and_evaluate pid=19533)\u001b[0m [Client 2] evaluate, config: {}\n",
            "\u001b[2m\u001b[36m(launch_and_evaluate pid=19533)\u001b[0m Files already downloaded and verified\u001b[32m [repeated 4x across cluster]\u001b[0m\n",
            "\u001b[2m\u001b[36m(launch_and_evaluate pid=19534)\u001b[0m Files already downloaded and verified\n",
            "\u001b[2m\u001b[36m(launch_and_evaluate pid=19533)\u001b[0m [Client 0] evaluate, config: {}\n",
            "\u001b[2m\u001b[36m(launch_and_evaluate pid=19533)\u001b[0m Files already downloaded and verified\u001b[32m [repeated 4x across cluster]\u001b[0m\n",
            "\u001b[2m\u001b[36m(launch_and_evaluate pid=19534)\u001b[0m Files already downloaded and verified\n",
            "\u001b[2m\u001b[36m(launch_and_evaluate pid=19533)\u001b[0m [Client 8] evaluate, config: {}\n"
          ]
        },
        {
          "output_type": "stream",
          "name": "stderr",
          "text": [
            "DEBUG flwr 2023-06-10 05:02:30,191 | server.py:182 | evaluate_round 7 received 10 results and 0 failures\n",
            "DEBUG:flwr:evaluate_round 7 received 10 results and 0 failures\n",
            "DEBUG flwr 2023-06-10 05:02:30,196 | server.py:218 | fit_round 8: strategy sampled 10 clients (out of 10)\n",
            "DEBUG:flwr:fit_round 8: strategy sampled 10 clients (out of 10)\n"
          ]
        },
        {
          "output_type": "stream",
          "name": "stdout",
          "text": [
            "\u001b[2m\u001b[36m(launch_and_fit pid=19533)\u001b[0m Files already downloaded and verified\u001b[32m [repeated 4x across cluster]\u001b[0m\n",
            "\u001b[2m\u001b[36m(launch_and_evaluate pid=19534)\u001b[0m Files already downloaded and verified\n",
            "\u001b[2m\u001b[36m(launch_and_fit pid=19533)\u001b[0m [Client 3] fit, config: {}\n",
            "\u001b[2m\u001b[36m(launch_and_fit pid=19533)\u001b[0m Files already downloaded and verified\u001b[32m [repeated 4x across cluster]\u001b[0m\n",
            "\u001b[2m\u001b[36m(launch_and_fit pid=19534)\u001b[0m Files already downloaded and verified\n",
            "\u001b[2m\u001b[36m(launch_and_fit pid=19533)\u001b[0m [Client 4] fit, config: {}\n",
            "\u001b[2m\u001b[36m(launch_and_fit pid=19533)\u001b[0m Files already downloaded and verified\u001b[32m [repeated 4x across cluster]\u001b[0m\n",
            "\u001b[2m\u001b[36m(launch_and_fit pid=19534)\u001b[0m Files already downloaded and verified\n",
            "\u001b[2m\u001b[36m(launch_and_fit pid=19533)\u001b[0m [Client 0] fit, config: {}\n",
            "\u001b[2m\u001b[36m(launch_and_fit pid=19533)\u001b[0m Files already downloaded and verified\u001b[32m [repeated 4x across cluster]\u001b[0m\n",
            "\u001b[2m\u001b[36m(launch_and_fit pid=19534)\u001b[0m Files already downloaded and verified\n",
            "\u001b[2m\u001b[36m(launch_and_fit pid=19533)\u001b[0m [Client 1] fit, config: {}\n",
            "\u001b[2m\u001b[36m(launch_and_fit pid=19534)\u001b[0m Files already downloaded and verified\u001b[32m [repeated 3x across cluster]\u001b[0m\n",
            "\u001b[2m\u001b[36m(launch_and_fit pid=19534)\u001b[0m Files already downloaded and verified\n",
            "\u001b[2m\u001b[36m(launch_and_fit pid=19533)\u001b[0m Files already downloaded and verified\n",
            "\u001b[2m\u001b[36m(launch_and_fit pid=19533)\u001b[0m Files already downloaded and verified\n",
            "\u001b[2m\u001b[36m(launch_and_fit pid=19533)\u001b[0m [Client 5] fit, config: {}\n"
          ]
        },
        {
          "output_type": "stream",
          "name": "stderr",
          "text": [
            "DEBUG flwr 2023-06-10 05:25:00,752 | server.py:232 | fit_round 8 received 10 results and 0 failures\n",
            "DEBUG:flwr:fit_round 8 received 10 results and 0 failures\n",
            "DEBUG flwr 2023-06-10 05:25:00,806 | server.py:168 | evaluate_round 8: strategy sampled 10 clients (out of 10)\n",
            "DEBUG:flwr:evaluate_round 8: strategy sampled 10 clients (out of 10)\n"
          ]
        },
        {
          "output_type": "stream",
          "name": "stdout",
          "text": [
            "\u001b[2m\u001b[36m(launch_and_evaluate pid=19533)\u001b[0m Files already downloaded and verified\u001b[32m [repeated 3x across cluster]\u001b[0m\n",
            "\u001b[2m\u001b[36m(launch_and_fit pid=19534)\u001b[0m Files already downloaded and verified\n",
            "\u001b[2m\u001b[36m(launch_and_evaluate pid=19533)\u001b[0m [Client 5] evaluate, config: {}\n",
            "\u001b[2m\u001b[36m(launch_and_evaluate pid=19533)\u001b[0m Files already downloaded and verified\u001b[32m [repeated 4x across cluster]\u001b[0m\n",
            "\u001b[2m\u001b[36m(launch_and_evaluate pid=19534)\u001b[0m Files already downloaded and verified\n",
            "\u001b[2m\u001b[36m(launch_and_evaluate pid=19533)\u001b[0m [Client 3] evaluate, config: {}\n",
            "\u001b[2m\u001b[36m(launch_and_evaluate pid=19533)\u001b[0m Files already downloaded and verified\u001b[32m [repeated 4x across cluster]\u001b[0m\n",
            "\u001b[2m\u001b[36m(launch_and_evaluate pid=19534)\u001b[0m Files already downloaded and verified\n",
            "\u001b[2m\u001b[36m(launch_and_evaluate pid=19533)\u001b[0m [Client 2] evaluate, config: {}\n",
            "\u001b[2m\u001b[36m(launch_and_evaluate pid=19533)\u001b[0m Files already downloaded and verified\u001b[32m [repeated 4x across cluster]\u001b[0m\n",
            "\u001b[2m\u001b[36m(launch_and_evaluate pid=19534)\u001b[0m Files already downloaded and verified\n",
            "\u001b[2m\u001b[36m(launch_and_evaluate pid=19533)\u001b[0m [Client 7] evaluate, config: {}\n",
            "\u001b[2m\u001b[36m(launch_and_evaluate pid=19533)\u001b[0m Files already downloaded and verified\u001b[32m [repeated 4x across cluster]\u001b[0m\n",
            "\u001b[2m\u001b[36m(launch_and_evaluate pid=19534)\u001b[0m Files already downloaded and verified\n",
            "\u001b[2m\u001b[36m(launch_and_evaluate pid=19533)\u001b[0m [Client 9] evaluate, config: {}\n"
          ]
        },
        {
          "output_type": "stream",
          "name": "stderr",
          "text": [
            "DEBUG flwr 2023-06-10 05:25:59,321 | server.py:182 | evaluate_round 8 received 10 results and 0 failures\n",
            "DEBUG:flwr:evaluate_round 8 received 10 results and 0 failures\n",
            "DEBUG flwr 2023-06-10 05:25:59,327 | server.py:218 | fit_round 9: strategy sampled 10 clients (out of 10)\n",
            "DEBUG:flwr:fit_round 9: strategy sampled 10 clients (out of 10)\n"
          ]
        },
        {
          "output_type": "stream",
          "name": "stdout",
          "text": [
            "\u001b[2m\u001b[36m(launch_and_fit pid=19533)\u001b[0m Files already downloaded and verified\u001b[32m [repeated 4x across cluster]\u001b[0m\n",
            "\u001b[2m\u001b[36m(launch_and_evaluate pid=19534)\u001b[0m Files already downloaded and verified\n",
            "\u001b[2m\u001b[36m(launch_and_fit pid=19533)\u001b[0m [Client 9] fit, config: {}\n",
            "\u001b[2m\u001b[36m(launch_and_fit pid=19533)\u001b[0m Files already downloaded and verified\u001b[32m [repeated 4x across cluster]\u001b[0m\n",
            "\u001b[2m\u001b[36m(launch_and_fit pid=19534)\u001b[0m Files already downloaded and verified\n",
            "\u001b[2m\u001b[36m(launch_and_fit pid=19533)\u001b[0m [Client 7] fit, config: {}\n",
            "\u001b[2m\u001b[36m(launch_and_fit pid=19533)\u001b[0m Files already downloaded and verified\u001b[32m [repeated 4x across cluster]\u001b[0m\n",
            "\u001b[2m\u001b[36m(launch_and_fit pid=19534)\u001b[0m Files already downloaded and verified\n",
            "\u001b[2m\u001b[36m(launch_and_fit pid=19533)\u001b[0m [Client 4] fit, config: {}\n",
            "\u001b[2m\u001b[36m(launch_and_fit pid=19534)\u001b[0m Files already downloaded and verified\u001b[32m [repeated 3x across cluster]\u001b[0m\n",
            "\u001b[2m\u001b[36m(launch_and_fit pid=19534)\u001b[0m [Client 2] fit, config: {}\n",
            "\u001b[2m\u001b[36m(launch_and_fit pid=19533)\u001b[0m Files already downloaded and verified\n",
            "\u001b[2m\u001b[36m(launch_and_fit pid=19533)\u001b[0m Files already downloaded and verified\n",
            "\u001b[2m\u001b[36m(launch_and_fit pid=19533)\u001b[0m [Client 3] fit, config: {}\n",
            "\u001b[2m\u001b[36m(launch_and_fit pid=19534)\u001b[0m Files already downloaded and verified\n",
            "\u001b[2m\u001b[36m(launch_and_fit pid=19534)\u001b[0m Files already downloaded and verified\n",
            "\u001b[2m\u001b[36m(launch_and_fit pid=19534)\u001b[0m [Client 1] fit, config: {}\n",
            "\u001b[2m\u001b[36m(launch_and_fit pid=19533)\u001b[0m Files already downloaded and verified\n",
            "\u001b[2m\u001b[36m(launch_and_fit pid=19533)\u001b[0m Files already downloaded and verified\n",
            "\u001b[2m\u001b[36m(launch_and_fit pid=19533)\u001b[0m [Client 5] fit, config: {}\n",
            "\u001b[2m\u001b[36m(launch_and_fit pid=19534)\u001b[0m Files already downloaded and verified\u001b[32m [repeated 2x across cluster]\u001b[0m\n",
            "\u001b[2m\u001b[36m(launch_and_fit pid=19534)\u001b[0m [Client 0] fit, config: {}\n"
          ]
        },
        {
          "output_type": "stream",
          "name": "stderr",
          "text": [
            "DEBUG flwr 2023-06-10 05:48:36,181 | server.py:232 | fit_round 9 received 10 results and 0 failures\n",
            "DEBUG:flwr:fit_round 9 received 10 results and 0 failures\n",
            "DEBUG flwr 2023-06-10 05:48:36,219 | server.py:168 | evaluate_round 9: strategy sampled 10 clients (out of 10)\n",
            "DEBUG:flwr:evaluate_round 9: strategy sampled 10 clients (out of 10)\n"
          ]
        },
        {
          "output_type": "stream",
          "name": "stdout",
          "text": [
            "\u001b[2m\u001b[36m(launch_and_evaluate pid=19534)\u001b[0m Files already downloaded and verified\n",
            "\u001b[2m\u001b[36m(launch_and_evaluate pid=19533)\u001b[0m Files already downloaded and verified\n",
            "\u001b[2m\u001b[36m(launch_and_evaluate pid=19533)\u001b[0m [Client 4] evaluate, config: {}\n",
            "\u001b[2m\u001b[36m(launch_and_evaluate pid=19533)\u001b[0m Files already downloaded and verified\u001b[32m [repeated 3x across cluster]\u001b[0m\n",
            "\u001b[2m\u001b[36m(launch_and_evaluate pid=19534)\u001b[0m Files already downloaded and verified\n",
            "\u001b[2m\u001b[36m(launch_and_evaluate pid=19533)\u001b[0m [Client 8] evaluate, config: {}\n",
            "\u001b[2m\u001b[36m(launch_and_evaluate pid=19533)\u001b[0m Files already downloaded and verified\u001b[32m [repeated 4x across cluster]\u001b[0m\n",
            "\u001b[2m\u001b[36m(launch_and_evaluate pid=19534)\u001b[0m Files already downloaded and verified\n",
            "\u001b[2m\u001b[36m(launch_and_evaluate pid=19533)\u001b[0m [Client 6] evaluate, config: {}\n",
            "\u001b[2m\u001b[36m(launch_and_evaluate pid=19533)\u001b[0m Files already downloaded and verified\u001b[32m [repeated 4x across cluster]\u001b[0m\n",
            "\u001b[2m\u001b[36m(launch_and_evaluate pid=19534)\u001b[0m Files already downloaded and verified\n",
            "\u001b[2m\u001b[36m(launch_and_evaluate pid=19533)\u001b[0m [Client 0] evaluate, config: {}\n",
            "\u001b[2m\u001b[36m(launch_and_evaluate pid=19533)\u001b[0m Files already downloaded and verified\u001b[32m [repeated 4x across cluster]\u001b[0m\n",
            "\u001b[2m\u001b[36m(launch_and_evaluate pid=19534)\u001b[0m Files already downloaded and verified\n",
            "\u001b[2m\u001b[36m(launch_and_evaluate pid=19533)\u001b[0m [Client 1] evaluate, config: {}\n"
          ]
        },
        {
          "output_type": "stream",
          "name": "stderr",
          "text": [
            "DEBUG flwr 2023-06-10 05:49:41,377 | server.py:182 | evaluate_round 9 received 10 results and 0 failures\n",
            "DEBUG:flwr:evaluate_round 9 received 10 results and 0 failures\n",
            "DEBUG flwr 2023-06-10 05:49:41,384 | server.py:218 | fit_round 10: strategy sampled 10 clients (out of 10)\n",
            "DEBUG:flwr:fit_round 10: strategy sampled 10 clients (out of 10)\n"
          ]
        },
        {
          "output_type": "stream",
          "name": "stdout",
          "text": [
            "\u001b[2m\u001b[36m(launch_and_fit pid=19534)\u001b[0m Files already downloaded and verified\u001b[32m [repeated 4x across cluster]\u001b[0m\n",
            "\u001b[2m\u001b[36m(launch_and_evaluate pid=19534)\u001b[0m Files already downloaded and verified\n",
            "\u001b[2m\u001b[36m(launch_and_fit pid=19533)\u001b[0m [Client 1] fit, config: {}\n",
            "\u001b[2m\u001b[36m(launch_and_fit pid=19533)\u001b[0m Files already downloaded and verified\u001b[32m [repeated 4x across cluster]\u001b[0m\n",
            "\u001b[2m\u001b[36m(launch_and_fit pid=19534)\u001b[0m Files already downloaded and verified\n",
            "\u001b[2m\u001b[36m(launch_and_fit pid=19533)\u001b[0m [Client 0] fit, config: {}\n",
            "\u001b[2m\u001b[36m(launch_and_fit pid=19533)\u001b[0m Files already downloaded and verified\u001b[32m [repeated 4x across cluster]\u001b[0m\n",
            "\u001b[2m\u001b[36m(launch_and_fit pid=19534)\u001b[0m Files already downloaded and verified\n",
            "\u001b[2m\u001b[36m(launch_and_fit pid=19533)\u001b[0m [Client 8] fit, config: {}\n",
            "\u001b[2m\u001b[36m(launch_and_fit pid=19533)\u001b[0m Files already downloaded and verified\u001b[32m [repeated 4x across cluster]\u001b[0m\n",
            "\u001b[2m\u001b[36m(launch_and_fit pid=19534)\u001b[0m Files already downloaded and verified\n",
            "\u001b[2m\u001b[36m(launch_and_fit pid=19533)\u001b[0m [Client 4] fit, config: {}\n",
            "\u001b[2m\u001b[36m(launch_and_fit pid=19534)\u001b[0m Files already downloaded and verified\u001b[32m [repeated 2x across cluster]\u001b[0m\n",
            "\u001b[2m\u001b[36m(launch_and_fit pid=19534)\u001b[0m [Client 2] fit, config: {}\n",
            "\u001b[2m\u001b[36m(launch_and_fit pid=19533)\u001b[0m Files already downloaded and verified\u001b[32m [repeated 2x across cluster]\u001b[0m\n",
            "\u001b[2m\u001b[36m(launch_and_fit pid=19533)\u001b[0m [Client 5] fit, config: {}\n",
            "\u001b[2m\u001b[36m(launch_and_fit pid=19534)\u001b[0m Files already downloaded and verified\u001b[32m [repeated 2x across cluster]\u001b[0m\n",
            "\u001b[2m\u001b[36m(launch_and_fit pid=19534)\u001b[0m [Client 7] fit, config: {}\n"
          ]
        },
        {
          "output_type": "stream",
          "name": "stderr",
          "text": [
            "DEBUG flwr 2023-06-10 06:12:13,694 | server.py:232 | fit_round 10 received 10 results and 0 failures\n",
            "DEBUG:flwr:fit_round 10 received 10 results and 0 failures\n",
            "DEBUG flwr 2023-06-10 06:12:13,734 | server.py:168 | evaluate_round 10: strategy sampled 10 clients (out of 10)\n",
            "DEBUG:flwr:evaluate_round 10: strategy sampled 10 clients (out of 10)\n"
          ]
        },
        {
          "output_type": "stream",
          "name": "stdout",
          "text": [
            "\u001b[2m\u001b[36m(launch_and_evaluate pid=19533)\u001b[0m Files already downloaded and verified\u001b[32m [repeated 2x across cluster]\u001b[0m\n",
            "\u001b[2m\u001b[36m(launch_and_evaluate pid=19533)\u001b[0m [Client 8] evaluate, config: {}\n",
            "\u001b[2m\u001b[36m(launch_and_evaluate pid=19533)\u001b[0m Files already downloaded and verified\u001b[32m [repeated 4x across cluster]\u001b[0m\n",
            "\u001b[2m\u001b[36m(launch_and_evaluate pid=19534)\u001b[0m Files already downloaded and verified\n",
            "\u001b[2m\u001b[36m(launch_and_evaluate pid=19533)\u001b[0m [Client 9] evaluate, config: {}\n",
            "\u001b[2m\u001b[36m(launch_and_evaluate pid=19533)\u001b[0m Files already downloaded and verified\u001b[32m [repeated 4x across cluster]\u001b[0m\n",
            "\u001b[2m\u001b[36m(launch_and_evaluate pid=19534)\u001b[0m Files already downloaded and verified\n",
            "\u001b[2m\u001b[36m(launch_and_evaluate pid=19533)\u001b[0m [Client 4] evaluate, config: {}\n",
            "\u001b[2m\u001b[36m(launch_and_evaluate pid=19533)\u001b[0m Files already downloaded and verified\u001b[32m [repeated 4x across cluster]\u001b[0m\n",
            "\u001b[2m\u001b[36m(launch_and_evaluate pid=19534)\u001b[0m Files already downloaded and verified\n",
            "\u001b[2m\u001b[36m(launch_and_evaluate pid=19533)\u001b[0m [Client 5] evaluate, config: {}\n",
            "\u001b[2m\u001b[36m(launch_and_evaluate pid=19533)\u001b[0m Files already downloaded and verified\u001b[32m [repeated 4x across cluster]\u001b[0m\n",
            "\u001b[2m\u001b[36m(launch_and_evaluate pid=19534)\u001b[0m Files already downloaded and verified\n",
            "\u001b[2m\u001b[36m(launch_and_evaluate pid=19533)\u001b[0m [Client 3] evaluate, config: {}\n"
          ]
        },
        {
          "output_type": "stream",
          "name": "stderr",
          "text": [
            "DEBUG flwr 2023-06-10 06:13:12,404 | server.py:182 | evaluate_round 10 received 10 results and 0 failures\n",
            "DEBUG:flwr:evaluate_round 10 received 10 results and 0 failures\n",
            "INFO flwr 2023-06-10 06:13:12,408 | server.py:147 | FL finished in 14235.678013433\n",
            "INFO:flwr:FL finished in 14235.678013433\n",
            "INFO flwr 2023-06-10 06:13:12,410 | app.py:218 | app_fit: losses_distributed [(1, 0.0014769753813743593), (2, 0.00132684246301651), (3, 0.0012242138266563413), (4, 0.0011602699875831607), (5, 0.001117008435726166), (6, 0.0010843732237815857), (7, 0.001061166560649872), (8, 0.0010418044686317446), (9, 0.0010251726329326633), (10, 0.00101297749876976)]\n",
            "INFO:flwr:app_fit: losses_distributed [(1, 0.0014769753813743593), (2, 0.00132684246301651), (3, 0.0012242138266563413), (4, 0.0011602699875831607), (5, 0.001117008435726166), (6, 0.0010843732237815857), (7, 0.001061166560649872), (8, 0.0010418044686317446), (9, 0.0010251726329326633), (10, 0.00101297749876976)]\n",
            "INFO flwr 2023-06-10 06:13:12,412 | app.py:219 | app_fit: metrics_distributed_fit {}\n",
            "INFO:flwr:app_fit: metrics_distributed_fit {}\n",
            "INFO flwr 2023-06-10 06:13:12,414 | app.py:220 | app_fit: metrics_distributed {'accuracy': [(1, 0.46599999999999997), (2, 0.521), (3, 0.5613), (4, 0.5877000000000001), (5, 0.6087), (6, 0.6155999999999999), (7, 0.6236000000000002), (8, 0.6317), (9, 0.6396000000000001), (10, 0.6452)]}\n",
            "INFO:flwr:app_fit: metrics_distributed {'accuracy': [(1, 0.46599999999999997), (2, 0.521), (3, 0.5613), (4, 0.5877000000000001), (5, 0.6087), (6, 0.6155999999999999), (7, 0.6236000000000002), (8, 0.6317), (9, 0.6396000000000001), (10, 0.6452)]}\n",
            "INFO flwr 2023-06-10 06:13:12,416 | app.py:221 | app_fit: losses_centralized []\n",
            "INFO:flwr:app_fit: losses_centralized []\n",
            "INFO flwr 2023-06-10 06:13:12,418 | app.py:222 | app_fit: metrics_centralized {}\n",
            "INFO:flwr:app_fit: metrics_centralized {}\n"
          ]
        },
        {
          "output_type": "execute_result",
          "data": {
            "text/plain": [
              "History (loss, distributed):\n",
              "\tround 1: 0.0014769753813743593\n",
              "\tround 2: 0.00132684246301651\n",
              "\tround 3: 0.0012242138266563413\n",
              "\tround 4: 0.0011602699875831607\n",
              "\tround 5: 0.001117008435726166\n",
              "\tround 6: 0.0010843732237815857\n",
              "\tround 7: 0.001061166560649872\n",
              "\tround 8: 0.0010418044686317446\n",
              "\tround 9: 0.0010251726329326633\n",
              "\tround 10: 0.00101297749876976\n",
              "History (metrics, distributed, evaluate):\n",
              "{'accuracy': [(1, 0.46599999999999997), (2, 0.521), (3, 0.5613), (4, 0.5877000000000001), (5, 0.6087), (6, 0.6155999999999999), (7, 0.6236000000000002), (8, 0.6317), (9, 0.6396000000000001), (10, 0.6452)]}"
            ]
          },
          "metadata": {},
          "execution_count": 22
        }
      ]
    }
  ]
}