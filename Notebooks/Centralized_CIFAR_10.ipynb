{
  "nbformat": 4,
  "nbformat_minor": 0,
  "metadata": {
    "colab": {
      "provenance": [],
      "authorship_tag": "ABX9TyOdlBYzRyJ7IGhf18ICGTte",
      "include_colab_link": true
    },
    "kernelspec": {
      "name": "python3",
      "display_name": "Python 3"
    },
    "language_info": {
      "name": "python"
    }
  },
  "cells": [
    {
      "cell_type": "markdown",
      "metadata": {
        "id": "view-in-github",
        "colab_type": "text"
      },
      "source": [
        "<a href=\"https://colab.research.google.com/github/denisangelo/Federated_Learning/blob/main/Notebooks/Centralized_CIFAR_10.ipynb\" target=\"_parent\"><img src=\"https://colab.research.google.com/assets/colab-badge.svg\" alt=\"Open In Colab\"/></a>"
      ]
    },
    {
      "cell_type": "code",
      "execution_count": 1,
      "metadata": {
        "colab": {
          "base_uri": "https://localhost:8080/"
        },
        "id": "LYtL9PpWRvsQ",
        "outputId": "7a12cc7b-741b-4162-f19a-44ce0bc8b004"
      },
      "outputs": [
        {
          "output_type": "stream",
          "name": "stdout",
          "text": [
            "\u001b[2K     \u001b[90m━━━━━━━━━━━━━━━━━━━━━━━━━━━━━━━━━━━━━━━\u001b[0m \u001b[32m157.2/157.2 kB\u001b[0m \u001b[31m5.8 MB/s\u001b[0m eta \u001b[36m0:00:00\u001b[0m\n",
            "\u001b[2K     \u001b[90m━━━━━━━━━━━━━━━━━━━━━━━━━━━━━━━━━━━━━━━━\u001b[0m \u001b[32m58.6/58.6 MB\u001b[0m \u001b[31m11.7 MB/s\u001b[0m eta \u001b[36m0:00:00\u001b[0m\n",
            "\u001b[2K     \u001b[90m━━━━━━━━━━━━━━━━━━━━━━━━━━━━━━━━━━━━━━\u001b[0m \u001b[32m149.6/149.6 kB\u001b[0m \u001b[31m18.3 MB/s\u001b[0m eta \u001b[36m0:00:00\u001b[0m\n",
            "\u001b[2K     \u001b[90m━━━━━━━━━━━━━━━━━━━━━━━━━━━━━━━━━━━━━━━━\u001b[0m \u001b[32m8.7/8.7 MB\u001b[0m \u001b[31m70.9 MB/s\u001b[0m eta \u001b[36m0:00:00\u001b[0m\n",
            "\u001b[2K     \u001b[90m━━━━━━━━━━━━━━━━━━━━━━━━━━━━━━━━━━━━━━━━\u001b[0m \u001b[32m4.8/4.8 MB\u001b[0m \u001b[31m98.1 MB/s\u001b[0m eta \u001b[36m0:00:00\u001b[0m\n",
            "\u001b[2K     \u001b[90m━━━━━━━━━━━━━━━━━━━━━━━━━━━━━━━━━━━━━━━━\u001b[0m \u001b[32m1.0/1.0 MB\u001b[0m \u001b[31m67.9 MB/s\u001b[0m eta \u001b[36m0:00:00\u001b[0m\n",
            "\u001b[2K     \u001b[90m━━━━━━━━━━━━━━━━━━━━━━━━━━━━━━━━━━━━━━\u001b[0m \u001b[32m201.4/201.4 kB\u001b[0m \u001b[31m21.1 MB/s\u001b[0m eta \u001b[36m0:00:00\u001b[0m\n",
            "\u001b[2K     \u001b[90m━━━━━━━━━━━━━━━━━━━━━━━━━━━━━━━━━━━━━━━━\u001b[0m \u001b[32m3.0/3.0 MB\u001b[0m \u001b[31m99.9 MB/s\u001b[0m eta \u001b[36m0:00:00\u001b[0m\n",
            "\u001b[2K     \u001b[90m━━━━━━━━━━━━━━━━━━━━━━━━━━━━━━━━━━━━━━━━\u001b[0m \u001b[32m97.9/97.9 kB\u001b[0m \u001b[31m12.5 MB/s\u001b[0m eta \u001b[36m0:00:00\u001b[0m\n",
            "\u001b[?25h  Installing build dependencies ... \u001b[?25l\u001b[?25hdone\n",
            "  Getting requirements to build wheel ... \u001b[?25l\u001b[?25hdone\n",
            "  Preparing metadata (pyproject.toml) ... \u001b[?25l\u001b[?25hdone\n",
            "\u001b[2K     \u001b[90m━━━━━━━━━━━━━━━━━━━━━━━━━━━━━━━━━━━━━━\u001b[0m \u001b[32m128.2/128.2 kB\u001b[0m \u001b[31m14.5 MB/s\u001b[0m eta \u001b[36m0:00:00\u001b[0m\n",
            "\u001b[2K     \u001b[90m━━━━━━━━━━━━━━━━━━━━━━━━━━━━━━━━━━━━━━\u001b[0m \u001b[32m114.5/114.5 kB\u001b[0m \u001b[31m13.0 MB/s\u001b[0m eta \u001b[36m0:00:00\u001b[0m\n",
            "\u001b[2K     \u001b[90m━━━━━━━━━━━━━━━━━━━━━━━━━━━━━━━━━━━━━━\u001b[0m \u001b[32m268.8/268.8 kB\u001b[0m \u001b[31m25.6 MB/s\u001b[0m eta \u001b[36m0:00:00\u001b[0m\n",
            "\u001b[2K     \u001b[90m━━━━━━━━━━━━━━━━━━━━━━━━━━━━━━━━━━━━━━━━\u001b[0m \u001b[32m58.4/58.4 kB\u001b[0m \u001b[31m4.5 MB/s\u001b[0m eta \u001b[36m0:00:00\u001b[0m\n",
            "\u001b[2K     \u001b[90m━━━━━━━━━━━━━━━━━━━━━━━━━━━━━━━━━━━━━━\u001b[0m \u001b[32m468.5/468.5 kB\u001b[0m \u001b[31m37.1 MB/s\u001b[0m eta \u001b[36m0:00:00\u001b[0m\n",
            "\u001b[?25h  Building wheel for gpustat (pyproject.toml) ... \u001b[?25l\u001b[?25hdone\n",
            "Looking in indexes: https://pypi.org/simple, https://us-python.pkg.dev/colab-wheels/public/simple/\n",
            "Requirement already satisfied: torch in /usr/local/lib/python3.10/dist-packages (2.0.1+cu118)\n",
            "Requirement already satisfied: filelock in /usr/local/lib/python3.10/dist-packages (from torch) (3.12.0)\n",
            "Requirement already satisfied: typing-extensions in /usr/local/lib/python3.10/dist-packages (from torch) (4.5.0)\n",
            "Requirement already satisfied: sympy in /usr/local/lib/python3.10/dist-packages (from torch) (1.11.1)\n",
            "Requirement already satisfied: networkx in /usr/local/lib/python3.10/dist-packages (from torch) (3.1)\n",
            "Requirement already satisfied: jinja2 in /usr/local/lib/python3.10/dist-packages (from torch) (3.1.2)\n",
            "Requirement already satisfied: triton==2.0.0 in /usr/local/lib/python3.10/dist-packages (from torch) (2.0.0)\n",
            "Requirement already satisfied: cmake in /usr/local/lib/python3.10/dist-packages (from triton==2.0.0->torch) (3.25.2)\n",
            "Requirement already satisfied: lit in /usr/local/lib/python3.10/dist-packages (from triton==2.0.0->torch) (16.0.5)\n",
            "Requirement already satisfied: MarkupSafe>=2.0 in /usr/local/lib/python3.10/dist-packages (from jinja2->torch) (2.1.2)\n",
            "Requirement already satisfied: mpmath>=0.19 in /usr/local/lib/python3.10/dist-packages (from sympy->torch) (1.3.0)\n",
            "Looking in indexes: https://pypi.org/simple, https://us-python.pkg.dev/colab-wheels/public/simple/\n",
            "Requirement already satisfied: torchvision in /usr/local/lib/python3.10/dist-packages (0.15.2+cu118)\n",
            "Requirement already satisfied: numpy in /usr/local/lib/python3.10/dist-packages (from torchvision) (1.22.4)\n",
            "Requirement already satisfied: requests in /usr/local/lib/python3.10/dist-packages (from torchvision) (2.27.1)\n",
            "Requirement already satisfied: torch==2.0.1 in /usr/local/lib/python3.10/dist-packages (from torchvision) (2.0.1+cu118)\n",
            "Requirement already satisfied: pillow!=8.3.*,>=5.3.0 in /usr/local/lib/python3.10/dist-packages (from torchvision) (8.4.0)\n",
            "Requirement already satisfied: filelock in /usr/local/lib/python3.10/dist-packages (from torch==2.0.1->torchvision) (3.12.0)\n",
            "Requirement already satisfied: typing-extensions in /usr/local/lib/python3.10/dist-packages (from torch==2.0.1->torchvision) (4.5.0)\n",
            "Requirement already satisfied: sympy in /usr/local/lib/python3.10/dist-packages (from torch==2.0.1->torchvision) (1.11.1)\n",
            "Requirement already satisfied: networkx in /usr/local/lib/python3.10/dist-packages (from torch==2.0.1->torchvision) (3.1)\n",
            "Requirement already satisfied: jinja2 in /usr/local/lib/python3.10/dist-packages (from torch==2.0.1->torchvision) (3.1.2)\n",
            "Requirement already satisfied: triton==2.0.0 in /usr/local/lib/python3.10/dist-packages (from torch==2.0.1->torchvision) (2.0.0)\n",
            "Requirement already satisfied: cmake in /usr/local/lib/python3.10/dist-packages (from triton==2.0.0->torch==2.0.1->torchvision) (3.25.2)\n",
            "Requirement already satisfied: lit in /usr/local/lib/python3.10/dist-packages (from triton==2.0.0->torch==2.0.1->torchvision) (16.0.5)\n",
            "Requirement already satisfied: urllib3<1.27,>=1.21.1 in /usr/local/lib/python3.10/dist-packages (from requests->torchvision) (1.26.15)\n",
            "Requirement already satisfied: certifi>=2017.4.17 in /usr/local/lib/python3.10/dist-packages (from requests->torchvision) (2022.12.7)\n",
            "Requirement already satisfied: charset-normalizer~=2.0.0 in /usr/local/lib/python3.10/dist-packages (from requests->torchvision) (2.0.12)\n",
            "Requirement already satisfied: idna<4,>=2.5 in /usr/local/lib/python3.10/dist-packages (from requests->torchvision) (3.4)\n",
            "Requirement already satisfied: MarkupSafe>=2.0 in /usr/local/lib/python3.10/dist-packages (from jinja2->torch==2.0.1->torchvision) (2.1.2)\n",
            "Requirement already satisfied: mpmath>=0.19 in /usr/local/lib/python3.10/dist-packages (from sympy->torch==2.0.1->torchvision) (1.3.0)\n",
            "Looking in indexes: https://pypi.org/simple, https://us-python.pkg.dev/colab-wheels/public/simple/\n",
            "Requirement already satisfied: matplotlib in /usr/local/lib/python3.10/dist-packages (3.7.1)\n",
            "Requirement already satisfied: contourpy>=1.0.1 in /usr/local/lib/python3.10/dist-packages (from matplotlib) (1.0.7)\n",
            "Requirement already satisfied: cycler>=0.10 in /usr/local/lib/python3.10/dist-packages (from matplotlib) (0.11.0)\n",
            "Requirement already satisfied: fonttools>=4.22.0 in /usr/local/lib/python3.10/dist-packages (from matplotlib) (4.39.3)\n",
            "Requirement already satisfied: kiwisolver>=1.0.1 in /usr/local/lib/python3.10/dist-packages (from matplotlib) (1.4.4)\n",
            "Requirement already satisfied: numpy>=1.20 in /usr/local/lib/python3.10/dist-packages (from matplotlib) (1.22.4)\n",
            "Requirement already satisfied: packaging>=20.0 in /usr/local/lib/python3.10/dist-packages (from matplotlib) (23.1)\n",
            "Requirement already satisfied: pillow>=6.2.0 in /usr/local/lib/python3.10/dist-packages (from matplotlib) (8.4.0)\n",
            "Requirement already satisfied: pyparsing>=2.3.1 in /usr/local/lib/python3.10/dist-packages (from matplotlib) (3.0.9)\n",
            "Requirement already satisfied: python-dateutil>=2.7 in /usr/local/lib/python3.10/dist-packages (from matplotlib) (2.8.2)\n",
            "Requirement already satisfied: six>=1.5 in /usr/local/lib/python3.10/dist-packages (from python-dateutil>=2.7->matplotlib) (1.16.0)\n",
            "Training on cpu using Pytorch2.0.1+cu118 and Flower1.4.0\n",
            "Downloading https://www.cs.toronto.edu/~kriz/cifar-10-python.tar.gz to ./data/cifar-10-python.tar.gz\n"
          ]
        },
        {
          "output_type": "stream",
          "name": "stderr",
          "text": [
            "100%|██████████| 170498071/170498071 [00:03<00:00, 42698435.46it/s]\n"
          ]
        },
        {
          "output_type": "stream",
          "name": "stdout",
          "text": [
            "Extracting ./data/cifar-10-python.tar.gz to ./data\n",
            "Files already downloaded and verified\n",
            "O número de Imagens no conjunto de treinamento é:  50000\n",
            "O número de Imagens no conjunto de teste é:  10000\n",
            "O número de Lotes de Treinamento por Épocas é: 500\n",
            "O número de Lotes de Teste por Épocas é: 100\n",
            "O modelo será executado em cpu device\n",
            "Iniciando o Treinamento\n",
            "Treinando 10 época(s) com 500 lotes cada\n"
          ]
        },
        {
          "output_type": "stream",
          "name": "stderr",
          "text": [
            "100%|██████████| 500/500 [00:35<00:00, 13.98it/s]\n"
          ]
        },
        {
          "output_type": "stream",
          "name": "stdout",
          "text": [
            "Época 001, Erro de Treino: 0.017023, Acurácia: 37.33%\n",
            "Avaliando a performance do modelo ao conjunto de teste\n"
          ]
        },
        {
          "output_type": "stream",
          "name": "stderr",
          "text": [
            "100%|██████████| 100/100 [00:04<00:00, 22.88it/s]\n"
          ]
        },
        {
          "output_type": "stream",
          "name": "stdout",
          "text": [
            "Salvando modelo com melhor acurácia no conjunto de teste\n",
            "Para a época 1 a acurácia média do modelo aplicada ao conjunto de teste é:  46.10 %\n",
            "Avaliando o erro médio do modelo no conjunto de teste\n"
          ]
        },
        {
          "output_type": "stream",
          "name": "stderr",
          "text": [
            "100%|██████████| 100/100 [00:04<00:00, 22.13it/s]\n"
          ]
        },
        {
          "output_type": "stream",
          "name": "stdout",
          "text": [
            "Para a época 1 o erro médio do modelo aplicada ao conjunto de teste é: 0.014283\n"
          ]
        },
        {
          "output_type": "stream",
          "name": "stderr",
          "text": [
            "100%|██████████| 500/500 [00:36<00:00, 13.74it/s]\n"
          ]
        },
        {
          "output_type": "stream",
          "name": "stdout",
          "text": [
            "Época 002, Erro de Treino: 0.013899, Acurácia: 49.52%\n",
            "Avaliando a performance do modelo ao conjunto de teste\n"
          ]
        },
        {
          "output_type": "stream",
          "name": "stderr",
          "text": [
            "100%|██████████| 100/100 [00:05<00:00, 17.59it/s]\n"
          ]
        },
        {
          "output_type": "stream",
          "name": "stdout",
          "text": [
            "Salvando modelo com melhor acurácia no conjunto de teste\n",
            "Para a época 2 a acurácia média do modelo aplicada ao conjunto de teste é:  52.63 %\n",
            "Avaliando o erro médio do modelo no conjunto de teste\n"
          ]
        },
        {
          "output_type": "stream",
          "name": "stderr",
          "text": [
            "100%|██████████| 100/100 [00:04<00:00, 21.58it/s]\n"
          ]
        },
        {
          "output_type": "stream",
          "name": "stdout",
          "text": [
            "Para a época 2 o erro médio do modelo aplicada ao conjunto de teste é: 0.012546\n"
          ]
        },
        {
          "output_type": "stream",
          "name": "stderr",
          "text": [
            "100%|██████████| 500/500 [00:35<00:00, 13.95it/s]\n"
          ]
        },
        {
          "output_type": "stream",
          "name": "stdout",
          "text": [
            "Época 003, Erro de Treino: 0.012670, Acurácia: 54.49%\n",
            "Avaliando a performance do modelo ao conjunto de teste\n"
          ]
        },
        {
          "output_type": "stream",
          "name": "stderr",
          "text": [
            "100%|██████████| 100/100 [00:04<00:00, 24.58it/s]\n"
          ]
        },
        {
          "output_type": "stream",
          "name": "stdout",
          "text": [
            "Salvando modelo com melhor acurácia no conjunto de teste\n",
            "Para a época 3 a acurácia média do modelo aplicada ao conjunto de teste é:  56.43 %\n",
            "Avaliando o erro médio do modelo no conjunto de teste\n"
          ]
        },
        {
          "output_type": "stream",
          "name": "stderr",
          "text": [
            "100%|██████████| 100/100 [00:04<00:00, 24.06it/s]\n"
          ]
        },
        {
          "output_type": "stream",
          "name": "stdout",
          "text": [
            "Para a época 3 o erro médio do modelo aplicada ao conjunto de teste é: 0.011568\n"
          ]
        },
        {
          "output_type": "stream",
          "name": "stderr",
          "text": [
            "100%|██████████| 500/500 [00:34<00:00, 14.53it/s]\n"
          ]
        },
        {
          "output_type": "stream",
          "name": "stdout",
          "text": [
            "Época 004, Erro de Treino: 0.011789, Acurácia: 57.97%\n",
            "Avaliando a performance do modelo ao conjunto de teste\n"
          ]
        },
        {
          "output_type": "stream",
          "name": "stderr",
          "text": [
            "100%|██████████| 100/100 [00:05<00:00, 17.42it/s]\n"
          ]
        },
        {
          "output_type": "stream",
          "name": "stdout",
          "text": [
            "Salvando modelo com melhor acurácia no conjunto de teste\n",
            "Para a época 4 a acurácia média do modelo aplicada ao conjunto de teste é:  58.13 %\n",
            "Avaliando o erro médio do modelo no conjunto de teste\n"
          ]
        },
        {
          "output_type": "stream",
          "name": "stderr",
          "text": [
            "100%|██████████| 100/100 [00:04<00:00, 24.07it/s]\n"
          ]
        },
        {
          "output_type": "stream",
          "name": "stdout",
          "text": [
            "Para a época 4 o erro médio do modelo aplicada ao conjunto de teste é: 0.010763\n"
          ]
        },
        {
          "output_type": "stream",
          "name": "stderr",
          "text": [
            "100%|██████████| 500/500 [00:35<00:00, 14.03it/s]\n"
          ]
        },
        {
          "output_type": "stream",
          "name": "stdout",
          "text": [
            "Época 005, Erro de Treino: 0.011139, Acurácia: 60.48%\n",
            "Avaliando a performance do modelo ao conjunto de teste\n"
          ]
        },
        {
          "output_type": "stream",
          "name": "stderr",
          "text": [
            "100%|██████████| 100/100 [00:04<00:00, 23.60it/s]\n"
          ]
        },
        {
          "output_type": "stream",
          "name": "stdout",
          "text": [
            "Salvando modelo com melhor acurácia no conjunto de teste\n",
            "Para a época 5 a acurácia média do modelo aplicada ao conjunto de teste é:  61.37 %\n",
            "Avaliando o erro médio do modelo no conjunto de teste\n"
          ]
        },
        {
          "output_type": "stream",
          "name": "stderr",
          "text": [
            "100%|██████████| 100/100 [00:05<00:00, 18.96it/s]\n"
          ]
        },
        {
          "output_type": "stream",
          "name": "stdout",
          "text": [
            "Para a época 5 o erro médio do modelo aplicada ao conjunto de teste é: 0.010113\n"
          ]
        },
        {
          "output_type": "stream",
          "name": "stderr",
          "text": [
            "100%|██████████| 500/500 [00:34<00:00, 14.66it/s]\n"
          ]
        },
        {
          "output_type": "stream",
          "name": "stdout",
          "text": [
            "Época 006, Erro de Treino: 0.010599, Acurácia: 62.61%\n",
            "Avaliando a performance do modelo ao conjunto de teste\n"
          ]
        },
        {
          "output_type": "stream",
          "name": "stderr",
          "text": [
            "100%|██████████| 100/100 [00:04<00:00, 20.54it/s]\n"
          ]
        },
        {
          "output_type": "stream",
          "name": "stdout",
          "text": [
            "Salvando modelo com melhor acurácia no conjunto de teste\n",
            "Para a época 6 a acurácia média do modelo aplicada ao conjunto de teste é:  63.21 %\n",
            "Avaliando o erro médio do modelo no conjunto de teste\n"
          ]
        },
        {
          "output_type": "stream",
          "name": "stderr",
          "text": [
            "100%|██████████| 100/100 [00:04<00:00, 24.12it/s]\n"
          ]
        },
        {
          "output_type": "stream",
          "name": "stdout",
          "text": [
            "Para a época 6 o erro médio do modelo aplicada ao conjunto de teste é: 0.009514\n"
          ]
        },
        {
          "output_type": "stream",
          "name": "stderr",
          "text": [
            "100%|██████████| 500/500 [00:35<00:00, 14.02it/s]\n"
          ]
        },
        {
          "output_type": "stream",
          "name": "stdout",
          "text": [
            "Época 007, Erro de Treino: 0.010094, Acurácia: 64.13%\n",
            "Avaliando a performance do modelo ao conjunto de teste\n"
          ]
        },
        {
          "output_type": "stream",
          "name": "stderr",
          "text": [
            "100%|██████████| 100/100 [00:04<00:00, 23.20it/s]\n"
          ]
        },
        {
          "output_type": "stream",
          "name": "stdout",
          "text": [
            "Salvando modelo com melhor acurácia no conjunto de teste\n",
            "Para a época 7 a acurácia média do modelo aplicada ao conjunto de teste é:  64.61 %\n",
            "Avaliando o erro médio do modelo no conjunto de teste\n"
          ]
        },
        {
          "output_type": "stream",
          "name": "stderr",
          "text": [
            "100%|██████████| 100/100 [00:05<00:00, 17.08it/s]\n"
          ]
        },
        {
          "output_type": "stream",
          "name": "stdout",
          "text": [
            "Para a época 7 o erro médio do modelo aplicada ao conjunto de teste é: 0.009060\n"
          ]
        },
        {
          "output_type": "stream",
          "name": "stderr",
          "text": [
            "100%|██████████| 500/500 [00:33<00:00, 14.76it/s]\n"
          ]
        },
        {
          "output_type": "stream",
          "name": "stdout",
          "text": [
            "Época 008, Erro de Treino: 0.009721, Acurácia: 65.61%\n",
            "Avaliando a performance do modelo ao conjunto de teste\n"
          ]
        },
        {
          "output_type": "stream",
          "name": "stderr",
          "text": [
            "100%|██████████| 100/100 [00:04<00:00, 24.03it/s]\n"
          ]
        },
        {
          "output_type": "stream",
          "name": "stdout",
          "text": [
            "Salvando modelo com melhor acurácia no conjunto de teste\n",
            "Para a época 8 a acurácia média do modelo aplicada ao conjunto de teste é:  65.96 %\n",
            "Avaliando o erro médio do modelo no conjunto de teste\n"
          ]
        },
        {
          "output_type": "stream",
          "name": "stderr",
          "text": [
            "100%|██████████| 100/100 [00:04<00:00, 24.26it/s]\n"
          ]
        },
        {
          "output_type": "stream",
          "name": "stdout",
          "text": [
            "Para a época 8 o erro médio do modelo aplicada ao conjunto de teste é: 0.008671\n"
          ]
        },
        {
          "output_type": "stream",
          "name": "stderr",
          "text": [
            "100%|██████████| 500/500 [00:34<00:00, 14.46it/s]\n"
          ]
        },
        {
          "output_type": "stream",
          "name": "stdout",
          "text": [
            "Época 009, Erro de Treino: 0.009368, Acurácia: 66.72%\n",
            "Avaliando a performance do modelo ao conjunto de teste\n"
          ]
        },
        {
          "output_type": "stream",
          "name": "stderr",
          "text": [
            "100%|██████████| 100/100 [00:05<00:00, 17.92it/s]\n"
          ]
        },
        {
          "output_type": "stream",
          "name": "stdout",
          "text": [
            "Salvando modelo com melhor acurácia no conjunto de teste\n",
            "Para a época 9 a acurácia média do modelo aplicada ao conjunto de teste é:  67.15 %\n",
            "Avaliando o erro médio do modelo no conjunto de teste\n"
          ]
        },
        {
          "output_type": "stream",
          "name": "stderr",
          "text": [
            "100%|██████████| 100/100 [00:05<00:00, 19.53it/s]\n"
          ]
        },
        {
          "output_type": "stream",
          "name": "stdout",
          "text": [
            "Para a época 9 o erro médio do modelo aplicada ao conjunto de teste é: 0.008371\n"
          ]
        },
        {
          "output_type": "stream",
          "name": "stderr",
          "text": [
            "100%|██████████| 500/500 [00:35<00:00, 14.23it/s]\n"
          ]
        },
        {
          "output_type": "stream",
          "name": "stdout",
          "text": [
            "Época 010, Erro de Treino: 0.008986, Acurácia: 68.09%\n",
            "Avaliando a performance do modelo ao conjunto de teste\n"
          ]
        },
        {
          "output_type": "stream",
          "name": "stderr",
          "text": [
            "100%|██████████| 100/100 [00:04<00:00, 23.92it/s]\n"
          ]
        },
        {
          "output_type": "stream",
          "name": "stdout",
          "text": [
            "Salvando modelo com melhor acurácia no conjunto de teste\n",
            "Para a época 10 a acurácia média do modelo aplicada ao conjunto de teste é:  68.70 %\n",
            "Avaliando o erro médio do modelo no conjunto de teste\n"
          ]
        },
        {
          "output_type": "stream",
          "name": "stderr",
          "text": [
            "100%|██████████| 100/100 [00:04<00:00, 23.40it/s]\n"
          ]
        },
        {
          "output_type": "stream",
          "name": "stdout",
          "text": [
            "Para a época 10 o erro médio do modelo aplicada ao conjunto de teste é: 0.008036\n",
            "Finalizando o Treinamento\n",
            "Tempo Total de Treinamento em minutos: 8.64\n"
          ]
        }
      ],
      "source": [
        "# Instalando a plataforma/bibliotecas e suas dependências\n",
        "!pip install -q flwr[simulation]\n",
        "!pip install torch\n",
        "!pip install torchvision\n",
        "!pip install matplotlib\n",
        "\n",
        "# Importando as bibliotecas\n",
        "import flwr as fl\n",
        "import warnings\n",
        "from collections import OrderedDict\n",
        "import sys\n",
        "import time\n",
        "import torch\n",
        "import torch.nn as nn\n",
        "import torch.nn.functional as F\n",
        "import matplotlib.pyplot as plt\n",
        "import numpy as np\n",
        "import torchvision\n",
        "import torchvision.transforms as transforms\n",
        "from torch.autograd import Variable\n",
        "from torch.utils.data import DataLoader\n",
        "from torchvision.datasets import CIFAR10\n",
        "from tqdm import tqdm\n",
        "\n",
        "# Definindo o dispositivo de execução\n",
        "warnings.filterwarnings(\"ignore\", category=UserWarning)\n",
        "DEVICE = torch.device(\"cuda:0\" if torch.cuda.is_available() else \"cpu\")\n",
        "print(f\"Training on {DEVICE} using Pytorch{torch.__version__} and Flower{fl.__version__}\")\n",
        "# Definindo a rede neural\n",
        "class Cifar10CnnModel(nn.Module):\n",
        " def __init__(self) -> None:\n",
        "        super(Cifar10CnnModel, self).__init__()\n",
        "        self.conv1 = nn.Conv2d(3, 6, 5)\n",
        "        self.pool = nn.MaxPool2d(2, 2)\n",
        "        self.conv2 = nn.Conv2d(6, 16, 5)\n",
        "        self.fc1 = nn.Linear(16 * 5 * 5, 120)\n",
        "        self.fc2 = nn.Linear(120, 84)\n",
        "        self.fc3 = nn.Linear(84, 10)\n",
        " def forward(self, x: torch.Tensor) -> torch.Tensor:\n",
        "        x = self.pool(F.relu(self.conv1(x)))\n",
        "        x = self.pool(F.relu(self.conv2(x)))\n",
        "        x = x.view(-1, 16 * 5 * 5)\n",
        "        x = F.relu(self.fc1(x))\n",
        "        x = F.relu(self.fc2(x))\n",
        "        return self.fc3(x)\n",
        "# Salvando o melhor modelo\n",
        "def saveModel(net):\n",
        "     path = \"./bestModelnnCifar10.pth\"\n",
        "     torch.save(net.state_dict(), path)\n",
        "# Avaliando a acurácia no conjunto de dados de testes\n",
        "def testAccuracy(net,testloader):\n",
        "    net.eval()\n",
        "    correct, total = 0, 0\n",
        "    with torch.no_grad():\n",
        "        for data in tqdm(testloader):\n",
        "            images, labels = data[0].to(DEVICE), data[1].to(DEVICE)\n",
        "            outputs = net(images)\n",
        "            _, predicted = torch.max(outputs.data, 1)\n",
        "            total += labels.size(0)\n",
        "            correct += (predicted == labels).sum().item()\n",
        "    accuracy = correct * 100 / total\n",
        "    return accuracy\n",
        "# Avaliando o erro no conjunto de dados de testes\n",
        "def testLoss(net, testloader):\n",
        "    criterion = torch.nn.CrossEntropyLoss()\n",
        "    correct, total, lossT = 0, 0, 0.0\n",
        "    with torch.no_grad():\n",
        "        for data in tqdm(testloader):\n",
        "            images, labels = data[0].to(DEVICE), data[1].to(DEVICE)\n",
        "            outputs = net(images)\n",
        "            lossT += criterion(outputs, labels).item()\n",
        "            _, predicted = torch.max(outputs.data, 1)\n",
        "            total += labels.size(0)\n",
        "    correct += (predicted == labels).sum().item()\n",
        "    return lossT\n",
        "\n",
        "    # Sumarizando os resultados de erro e acurácia do modelo\n",
        "def summarize_results (epoch_list,accuracy_list,accuracyT_list,loss_list,loss_listT):\n",
        "    # Plotanto o gráfico de acurácia de treinamento e teste\n",
        "    plt.subplot (211)\n",
        "    plt.plot(epoch_list,accuracy_list)\n",
        "    plt.plot(epoch_list,accuracyT_list)\n",
        "    plt.legend(['Acurácia Treino', 'Acurácia Teste'])\n",
        "    plt.xlabel('Época')\n",
        "    plt.ylabel('Acurácia')\n",
        "    plt.grid(True)\n",
        "    plt.title('Acurácia vs. No. de épocas')\n",
        "    plt.tight_layout()\n",
        "    # Plotanto o gráfico de erro de treinamento e teste\n",
        "    plt.subplot (212)\n",
        "    plt.plot(epoch_list,loss_list)\n",
        "    plt.plot(epoch_list,loss_listT)\n",
        "    # Encontrando a posição de menor perda de validação\n",
        "    plt.legend(['Erro Treino', 'Erro Teste'])\n",
        "    plt.xlabel('Época')\n",
        "    plt.ylabel('Erro')\n",
        "    plt.grid(True)\n",
        "    plt.title('Erro vs. No. de épocas')\n",
        "    plt.tight_layout()\n",
        "    # Salvando o plot em arquivo\n",
        "    filename = sys.argv [0].split ('/') [-1]\n",
        "    plt.savefig (filename + '_plot.png')\n",
        "    plt.close ()\n",
        "# Realizando o Treinamento do modelo na rede neural\n",
        "def train(net, trainloader, epochs):\n",
        "    print(f\"Treinando {epochs} época(s) com {len(trainloader)} lotes cada\")\n",
        "    accuracy_list=[]\n",
        "    epoch_list=[]\n",
        "    loss_list= []\n",
        "    accuracyT_list=[]\n",
        "    loss_listT=[]\n",
        "    best_accuracy = 0.0\n",
        "    # Definindo uma função de perda e um otimizador\n",
        "    criterion = torch.nn.CrossEntropyLoss()\n",
        "    optimizer = torch.optim.Adam(net.parameters(), lr=0.001)\n",
        "    for num_epoch in range(epochs):\n",
        "        correct, total, epochs_loss = 0, 0, 0.0\n",
        "        for i,(images, labels) in enumerate(tqdm(trainloader,0)):\n",
        "            images, labels = images.to(DEVICE), labels.to(DEVICE)\n",
        "            optimizer.zero_grad()\n",
        "            outputs = net(images)\n",
        "            loss = criterion(net(images), labels)\n",
        "            loss.backward()\n",
        "            optimizer.step()\n",
        "    # Coletando as métricas de erro e acurácia\n",
        "            epochs_loss += loss\n",
        "            total += labels.size(0)\n",
        "            correct += (torch.max(outputs.data, 1)[1] == labels).sum().item()\n",
        "        epochs_loss = epochs_loss / (len(trainloader)*batch_size)\n",
        "        epochs_loss = epochs_loss.detach().cpu().numpy()\n",
        "        epochs_acc = correct * 100 / total\n",
        "        accuracy_list.append(epochs_acc)\n",
        "        epoch_list.append(num_epoch+1)\n",
        "        loss_list.append(epochs_loss)\n",
        "        print(\"Época {:03d}, Erro de Treino: {:.6f}, Acurácia: {:.2f}%\".format(num_epoch+1, epochs_loss, epochs_acc))\n",
        "        print(\"Avaliando a performance do modelo ao conjunto de teste\")\n",
        "        epochs_acc = testAccuracy(net,testloader)\n",
        "        if epochs_acc > best_accuracy:\n",
        "          print(\"Salvando modelo com melhor acurácia no conjunto de teste\")\n",
        "          saveModel(net)\n",
        "          best_accuracy = epochs_acc\n",
        "          accuracyT_list.append(best_accuracy)\n",
        "          print(\"Para a época\", num_epoch+1,'a acurácia média do modelo aplicada ao conjunto de teste é: % .2f %%' % (best_accuracy))\n",
        "          print(\"Avaliando o erro médio do modelo no conjunto de teste\")\n",
        "        for i,(images, labels) in enumerate(testloader,0): \n",
        "            images, labels = images.to(DEVICE), labels.to(DEVICE)\n",
        "            optimizer.zero_grad()\n",
        "            outputs = net(images)\n",
        "            lossT = criterion(net(images), labels)\n",
        "            lossT.backward()\n",
        "            optimizer.step()\n",
        "        epochs_lossT = testLoss(net,testloader)\n",
        "        epochs_lossT += lossT\n",
        "        epochs_lossT= epochs_lossT / (len(testloader)*batch_size)\n",
        "        epochs_lossT = epochs_lossT.detach().cpu().numpy()\n",
        "        loss_listT.append(epochs_lossT)\n",
        "        print(\"Para a época\", num_epoch+1,'o erro médio do modelo aplicada ao conjunto de teste é: %.6f' % (epochs_lossT))\n",
        "        # Sumarizando os resultados\n",
        "        summarize_results(epoch_list,accuracy_list,accuracyT_list,loss_list,loss_listT)\n",
        "    return accuracy_list, epoch_list, best_accuracy,loss_list, accuracyT_list,loss_listT\n",
        "\n",
        "    # Carregando e Normalizando os Dados CIFAR10\n",
        "    # Definindo as Transformações a serem aplicadas às imagens\n",
        "def load_data():\n",
        "    transform = transforms.Compose([transforms.ToTensor(), transforms.Normalize( (0.5, 0.5, 0.5), (0.5, 0.5, 0.5))])\n",
        "    trainset = CIFAR10(root=\"./data\", train=True,\n",
        "    download=True, transform=transform)\n",
        "    testset = CIFAR10(root=\"./data\", train=False,\n",
        "    download=True, transform=transform)\n",
        "    trainloader = DataLoader(trainset, batch_size=batch_size,shuffle=True,num_workers=0)\n",
        "    print(\"O número de Imagens no conjunto de treinamento é: \", len(trainloader)*batch_size)\n",
        "    testloader = DataLoader(testset,batch_size=batch_size,shuffle=False,num_workers=0)\n",
        "    num_examples = {\"trainset\": len(trainset)*batch_size, \"testset\": len(testset)*batch_size}\n",
        "    print(\"O número de Imagens no conjunto de teste é: \", len(testloader)*batch_size)\n",
        "    print(\"O número de Lotes de Treinamento por Épocas é:\", len(trainloader))\n",
        "    print(\"O número de Lotes de Teste por Épocas é:\", len(testloader))\n",
        "    return trainloader, testloader, num_examples\n",
        "\n",
        " # Programa Principal\n",
        "if __name__ == \"__main__\":\n",
        " # Estabelecendo os parâmetros da rede\n",
        " batch_size = 100\n",
        " epochs =  10\n",
        " # Carregando o modelo e os dados\n",
        " net = Cifar10CnnModel().to(DEVICE)\n",
        " trainloader, testloader, num_examples = load_data()\n",
        " # Iniciando o treinamento e teste\n",
        " print(\"O modelo será executado em\", DEVICE, \"device\")\n",
        " print(\"Iniciando o Treinamento\")\n",
        " start_time = time.time()\n",
        " train(net, trainloader=trainloader, epochs=epochs)\n",
        " end_time = time.time()\n",
        " # Finalizando o treinamento e teste\n",
        " print(\"Finalizando o Treinamento\")\n",
        " time_taken = end_time - start_time\n",
        " print('Tempo Total de Treinamento em minutos:% .2f' % (time_taken/60))"
      ]
    }
  ]
}