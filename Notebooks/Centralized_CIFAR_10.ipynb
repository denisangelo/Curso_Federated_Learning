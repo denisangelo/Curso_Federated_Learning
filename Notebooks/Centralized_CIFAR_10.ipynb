{
  "nbformat": 4,
  "nbformat_minor": 0,
  "metadata": {
    "colab": {
      "provenance": [],
      "authorship_tag": "ABX9TyMPCEp39LGoYFI5FWydP6vR",
      "include_colab_link": true
    },
    "kernelspec": {
      "name": "python3",
      "display_name": "Python 3"
    },
    "language_info": {
      "name": "python"
    }
  },
  "cells": [
    {
      "cell_type": "markdown",
      "metadata": {
        "id": "view-in-github",
        "colab_type": "text"
      },
      "source": [
        "<a href=\"https://colab.research.google.com/github/denisangelo/Federated_Learning/blob/main/Notebooks/Centralized_CIFAR_10.ipynb\" target=\"_parent\"><img src=\"https://colab.research.google.com/assets/colab-badge.svg\" alt=\"Open In Colab\"/></a>"
      ]
    },
    {
      "cell_type": "code",
      "execution_count": 21,
      "metadata": {
        "colab": {
          "base_uri": "https://localhost:8080/"
        },
        "id": "LYtL9PpWRvsQ",
        "outputId": "a91a3b19-8c6d-4bd8-b48c-8ded1b4baf65"
      },
      "outputs": [
        {
          "output_type": "stream",
          "name": "stdout",
          "text": [
            "Looking in indexes: https://pypi.org/simple, https://us-python.pkg.dev/colab-wheels/public/simple/\n",
            "Requirement already satisfied: torch in /usr/local/lib/python3.10/dist-packages (2.0.1+cu118)\n",
            "Requirement already satisfied: filelock in /usr/local/lib/python3.10/dist-packages (from torch) (3.12.0)\n",
            "Requirement already satisfied: typing-extensions in /usr/local/lib/python3.10/dist-packages (from torch) (4.5.0)\n",
            "Requirement already satisfied: sympy in /usr/local/lib/python3.10/dist-packages (from torch) (1.11.1)\n",
            "Requirement already satisfied: networkx in /usr/local/lib/python3.10/dist-packages (from torch) (3.1)\n",
            "Requirement already satisfied: jinja2 in /usr/local/lib/python3.10/dist-packages (from torch) (3.1.2)\n",
            "Requirement already satisfied: triton==2.0.0 in /usr/local/lib/python3.10/dist-packages (from torch) (2.0.0)\n",
            "Requirement already satisfied: cmake in /usr/local/lib/python3.10/dist-packages (from triton==2.0.0->torch) (3.25.2)\n",
            "Requirement already satisfied: lit in /usr/local/lib/python3.10/dist-packages (from triton==2.0.0->torch) (16.0.5)\n",
            "Requirement already satisfied: MarkupSafe>=2.0 in /usr/local/lib/python3.10/dist-packages (from jinja2->torch) (2.1.2)\n",
            "Requirement already satisfied: mpmath>=0.19 in /usr/local/lib/python3.10/dist-packages (from sympy->torch) (1.3.0)\n",
            "Looking in indexes: https://pypi.org/simple, https://us-python.pkg.dev/colab-wheels/public/simple/\n",
            "Requirement already satisfied: torchvision in /usr/local/lib/python3.10/dist-packages (0.15.2+cu118)\n",
            "Requirement already satisfied: numpy in /usr/local/lib/python3.10/dist-packages (from torchvision) (1.22.4)\n",
            "Requirement already satisfied: requests in /usr/local/lib/python3.10/dist-packages (from torchvision) (2.27.1)\n",
            "Requirement already satisfied: torch==2.0.1 in /usr/local/lib/python3.10/dist-packages (from torchvision) (2.0.1+cu118)\n",
            "Requirement already satisfied: pillow!=8.3.*,>=5.3.0 in /usr/local/lib/python3.10/dist-packages (from torchvision) (8.4.0)\n",
            "Requirement already satisfied: filelock in /usr/local/lib/python3.10/dist-packages (from torch==2.0.1->torchvision) (3.12.0)\n",
            "Requirement already satisfied: typing-extensions in /usr/local/lib/python3.10/dist-packages (from torch==2.0.1->torchvision) (4.5.0)\n",
            "Requirement already satisfied: sympy in /usr/local/lib/python3.10/dist-packages (from torch==2.0.1->torchvision) (1.11.1)\n",
            "Requirement already satisfied: networkx in /usr/local/lib/python3.10/dist-packages (from torch==2.0.1->torchvision) (3.1)\n",
            "Requirement already satisfied: jinja2 in /usr/local/lib/python3.10/dist-packages (from torch==2.0.1->torchvision) (3.1.2)\n",
            "Requirement already satisfied: triton==2.0.0 in /usr/local/lib/python3.10/dist-packages (from torch==2.0.1->torchvision) (2.0.0)\n",
            "Requirement already satisfied: cmake in /usr/local/lib/python3.10/dist-packages (from triton==2.0.0->torch==2.0.1->torchvision) (3.25.2)\n",
            "Requirement already satisfied: lit in /usr/local/lib/python3.10/dist-packages (from triton==2.0.0->torch==2.0.1->torchvision) (16.0.5)\n",
            "Requirement already satisfied: urllib3<1.27,>=1.21.1 in /usr/local/lib/python3.10/dist-packages (from requests->torchvision) (1.26.15)\n",
            "Requirement already satisfied: certifi>=2017.4.17 in /usr/local/lib/python3.10/dist-packages (from requests->torchvision) (2022.12.7)\n",
            "Requirement already satisfied: charset-normalizer~=2.0.0 in /usr/local/lib/python3.10/dist-packages (from requests->torchvision) (2.0.12)\n",
            "Requirement already satisfied: idna<4,>=2.5 in /usr/local/lib/python3.10/dist-packages (from requests->torchvision) (3.4)\n",
            "Requirement already satisfied: MarkupSafe>=2.0 in /usr/local/lib/python3.10/dist-packages (from jinja2->torch==2.0.1->torchvision) (2.1.2)\n",
            "Requirement already satisfied: mpmath>=0.19 in /usr/local/lib/python3.10/dist-packages (from sympy->torch==2.0.1->torchvision) (1.3.0)\n",
            "Looking in indexes: https://pypi.org/simple, https://us-python.pkg.dev/colab-wheels/public/simple/\n",
            "Requirement already satisfied: matplotlib in /usr/local/lib/python3.10/dist-packages (3.7.1)\n",
            "Requirement already satisfied: contourpy>=1.0.1 in /usr/local/lib/python3.10/dist-packages (from matplotlib) (1.0.7)\n",
            "Requirement already satisfied: cycler>=0.10 in /usr/local/lib/python3.10/dist-packages (from matplotlib) (0.11.0)\n",
            "Requirement already satisfied: fonttools>=4.22.0 in /usr/local/lib/python3.10/dist-packages (from matplotlib) (4.39.3)\n",
            "Requirement already satisfied: kiwisolver>=1.0.1 in /usr/local/lib/python3.10/dist-packages (from matplotlib) (1.4.4)\n",
            "Requirement already satisfied: numpy>=1.20 in /usr/local/lib/python3.10/dist-packages (from matplotlib) (1.22.4)\n",
            "Requirement already satisfied: packaging>=20.0 in /usr/local/lib/python3.10/dist-packages (from matplotlib) (23.1)\n",
            "Requirement already satisfied: pillow>=6.2.0 in /usr/local/lib/python3.10/dist-packages (from matplotlib) (8.4.0)\n",
            "Requirement already satisfied: pyparsing>=2.3.1 in /usr/local/lib/python3.10/dist-packages (from matplotlib) (3.0.9)\n",
            "Requirement already satisfied: python-dateutil>=2.7 in /usr/local/lib/python3.10/dist-packages (from matplotlib) (2.8.2)\n",
            "Requirement already satisfied: six>=1.5 in /usr/local/lib/python3.10/dist-packages (from python-dateutil>=2.7->matplotlib) (1.16.0)\n",
            "Training on cpu using Pytorch2.0.1+cu118 and Flower1.4.0\n",
            "Files already downloaded and verified\n",
            "Files already downloaded and verified\n",
            "O número de Imagens no conjunto de treinamento é:  50000\n",
            "O número de Imagens no conjunto de teste é:  10000\n",
            "O número de Lotes de Treinamento por Épocas é: 500\n",
            "O número de Lotes de Teste por Épocas é: 100\n",
            "O modelo será executado em cpu device\n",
            "Iniciando o Treinamento\n",
            "Treinando 10 época(s) com 500 lotes cada\n"
          ]
        },
        {
          "output_type": "stream",
          "name": "stderr",
          "text": [
            "100%|██████████| 500/500 [00:40<00:00, 12.46it/s]\n"
          ]
        },
        {
          "output_type": "stream",
          "name": "stdout",
          "text": [
            "Época 001, Erro de Treino: 0.016919, Acurácia: 38.05%\n",
            "Avaliando a performance do modelo ao conjunto de teste\n"
          ]
        },
        {
          "output_type": "stream",
          "name": "stderr",
          "text": [
            "100%|██████████| 100/100 [00:04<00:00, 21.32it/s]\n"
          ]
        },
        {
          "output_type": "stream",
          "name": "stdout",
          "text": [
            "Salvando modelo com melhor acurácia no conjunto de teste\n",
            "Para a época 1 a acurácia média do modelo aplicada ao conjunto de teste é:  45.74 %\n",
            "Avaliando o erro médio do modelo no conjunto de teste\n"
          ]
        },
        {
          "output_type": "stream",
          "name": "stderr",
          "text": [
            "100%|██████████| 100/100 [00:04<00:00, 21.57it/s]\n"
          ]
        },
        {
          "output_type": "stream",
          "name": "stdout",
          "text": [
            "Para a época 1 o erro médio do modelo aplicada ao conjunto de teste é: 0.014155\n"
          ]
        },
        {
          "output_type": "stream",
          "name": "stderr",
          "text": [
            "100%|██████████| 500/500 [00:39<00:00, 12.65it/s]\n"
          ]
        },
        {
          "output_type": "stream",
          "name": "stdout",
          "text": [
            "Época 002, Erro de Treino: 0.013838, Acurácia: 49.72%\n",
            "Avaliando a performance do modelo ao conjunto de teste\n"
          ]
        },
        {
          "output_type": "stream",
          "name": "stderr",
          "text": [
            "100%|██████████| 100/100 [00:04<00:00, 20.27it/s]\n"
          ]
        },
        {
          "output_type": "stream",
          "name": "stdout",
          "text": [
            "Salvando modelo com melhor acurácia no conjunto de teste\n",
            "Para a época 2 a acurácia média do modelo aplicada ao conjunto de teste é:  51.74 %\n",
            "Avaliando o erro médio do modelo no conjunto de teste\n"
          ]
        },
        {
          "output_type": "stream",
          "name": "stderr",
          "text": [
            "100%|██████████| 100/100 [00:06<00:00, 15.76it/s]\n"
          ]
        },
        {
          "output_type": "stream",
          "name": "stdout",
          "text": [
            "Para a época 2 o erro médio do modelo aplicada ao conjunto de teste é: 0.012773\n"
          ]
        },
        {
          "output_type": "stream",
          "name": "stderr",
          "text": [
            "100%|██████████| 500/500 [00:38<00:00, 13.15it/s]\n"
          ]
        },
        {
          "output_type": "stream",
          "name": "stdout",
          "text": [
            "Época 003, Erro de Treino: 0.012713, Acurácia: 54.17%\n",
            "Avaliando a performance do modelo ao conjunto de teste\n"
          ]
        },
        {
          "output_type": "stream",
          "name": "stderr",
          "text": [
            "100%|██████████| 100/100 [00:06<00:00, 16.51it/s]\n"
          ]
        },
        {
          "output_type": "stream",
          "name": "stdout",
          "text": [
            "Salvando modelo com melhor acurácia no conjunto de teste\n",
            "Para a época 3 a acurácia média do modelo aplicada ao conjunto de teste é:  55.46 %\n",
            "Avaliando o erro médio do modelo no conjunto de teste\n"
          ]
        },
        {
          "output_type": "stream",
          "name": "stderr",
          "text": [
            "100%|██████████| 100/100 [00:04<00:00, 20.80it/s]\n"
          ]
        },
        {
          "output_type": "stream",
          "name": "stdout",
          "text": [
            "Para a época 3 o erro médio do modelo aplicada ao conjunto de teste é: 0.011790\n"
          ]
        },
        {
          "output_type": "stream",
          "name": "stderr",
          "text": [
            "100%|██████████| 500/500 [00:39<00:00, 12.79it/s]\n"
          ]
        },
        {
          "output_type": "stream",
          "name": "stdout",
          "text": [
            "Época 004, Erro de Treino: 0.011907, Acurácia: 57.31%\n",
            "Avaliando a performance do modelo ao conjunto de teste\n"
          ]
        },
        {
          "output_type": "stream",
          "name": "stderr",
          "text": [
            "100%|██████████| 100/100 [00:04<00:00, 21.30it/s]\n"
          ]
        },
        {
          "output_type": "stream",
          "name": "stdout",
          "text": [
            "Salvando modelo com melhor acurácia no conjunto de teste\n",
            "Para a época 4 a acurácia média do modelo aplicada ao conjunto de teste é:  58.20 %\n",
            "Avaliando o erro médio do modelo no conjunto de teste\n"
          ]
        },
        {
          "output_type": "stream",
          "name": "stderr",
          "text": [
            "100%|██████████| 100/100 [00:04<00:00, 21.41it/s]\n"
          ]
        },
        {
          "output_type": "stream",
          "name": "stdout",
          "text": [
            "Para a época 4 o erro médio do modelo aplicada ao conjunto de teste é: 0.011020\n"
          ]
        },
        {
          "output_type": "stream",
          "name": "stderr",
          "text": [
            "100%|██████████| 500/500 [00:39<00:00, 12.79it/s]\n"
          ]
        },
        {
          "output_type": "stream",
          "name": "stdout",
          "text": [
            "Época 005, Erro de Treino: 0.011306, Acurácia: 59.78%\n",
            "Avaliando a performance do modelo ao conjunto de teste\n"
          ]
        },
        {
          "output_type": "stream",
          "name": "stderr",
          "text": [
            "100%|██████████| 100/100 [00:04<00:00, 20.10it/s]\n"
          ]
        },
        {
          "output_type": "stream",
          "name": "stdout",
          "text": [
            "Salvando modelo com melhor acurácia no conjunto de teste\n",
            "Para a época 5 a acurácia média do modelo aplicada ao conjunto de teste é:  59.20 %\n",
            "Avaliando o erro médio do modelo no conjunto de teste\n"
          ]
        },
        {
          "output_type": "stream",
          "name": "stderr",
          "text": [
            "100%|██████████| 100/100 [00:06<00:00, 16.28it/s]\n"
          ]
        },
        {
          "output_type": "stream",
          "name": "stdout",
          "text": [
            "Para a época 5 o erro médio do modelo aplicada ao conjunto de teste é: 0.010323\n"
          ]
        },
        {
          "output_type": "stream",
          "name": "stderr",
          "text": [
            "100%|██████████| 500/500 [00:38<00:00, 12.96it/s]\n"
          ]
        },
        {
          "output_type": "stream",
          "name": "stdout",
          "text": [
            "Época 006, Erro de Treino: 0.010785, Acurácia: 61.69%\n",
            "Avaliando a performance do modelo ao conjunto de teste\n"
          ]
        },
        {
          "output_type": "stream",
          "name": "stderr",
          "text": [
            "100%|██████████| 100/100 [00:06<00:00, 15.26it/s]\n"
          ]
        },
        {
          "output_type": "stream",
          "name": "stdout",
          "text": [
            "Salvando modelo com melhor acurácia no conjunto de teste\n",
            "Para a época 6 a acurácia média do modelo aplicada ao conjunto de teste é:  62.26 %\n",
            "Avaliando o erro médio do modelo no conjunto de teste\n"
          ]
        },
        {
          "output_type": "stream",
          "name": "stderr",
          "text": [
            "100%|██████████| 100/100 [00:05<00:00, 19.36it/s]\n"
          ]
        },
        {
          "output_type": "stream",
          "name": "stdout",
          "text": [
            "Para a época 6 o erro médio do modelo aplicada ao conjunto de teste é: 0.009747\n"
          ]
        },
        {
          "output_type": "stream",
          "name": "stderr",
          "text": [
            "100%|██████████| 500/500 [00:39<00:00, 12.78it/s]\n"
          ]
        },
        {
          "output_type": "stream",
          "name": "stdout",
          "text": [
            "Época 007, Erro de Treino: 0.010390, Acurácia: 62.90%\n",
            "Avaliando a performance do modelo ao conjunto de teste\n"
          ]
        },
        {
          "output_type": "stream",
          "name": "stderr",
          "text": [
            "100%|██████████| 100/100 [00:04<00:00, 22.03it/s]\n"
          ]
        },
        {
          "output_type": "stream",
          "name": "stdout",
          "text": [
            "Salvando modelo com melhor acurácia no conjunto de teste\n",
            "Para a época 7 a acurácia média do modelo aplicada ao conjunto de teste é:  63.66 %\n",
            "Avaliando o erro médio do modelo no conjunto de teste\n"
          ]
        },
        {
          "output_type": "stream",
          "name": "stderr",
          "text": [
            "100%|██████████| 100/100 [00:04<00:00, 22.34it/s]\n"
          ]
        },
        {
          "output_type": "stream",
          "name": "stdout",
          "text": [
            "Para a época 7 o erro médio do modelo aplicada ao conjunto de teste é: 0.009412\n"
          ]
        },
        {
          "output_type": "stream",
          "name": "stderr",
          "text": [
            "100%|██████████| 500/500 [00:39<00:00, 12.76it/s]\n"
          ]
        },
        {
          "output_type": "stream",
          "name": "stdout",
          "text": [
            "Época 008, Erro de Treino: 0.010053, Acurácia: 64.31%\n",
            "Avaliando a performance do modelo ao conjunto de teste\n"
          ]
        },
        {
          "output_type": "stream",
          "name": "stderr",
          "text": [
            "100%|██████████| 100/100 [00:04<00:00, 21.61it/s]\n"
          ]
        },
        {
          "output_type": "stream",
          "name": "stdout",
          "text": [
            "Salvando modelo com melhor acurácia no conjunto de teste\n",
            "Para a época 8 a acurácia média do modelo aplicada ao conjunto de teste é:  65.67 %\n",
            "Avaliando o erro médio do modelo no conjunto de teste\n"
          ]
        },
        {
          "output_type": "stream",
          "name": "stderr",
          "text": [
            "100%|██████████| 100/100 [00:05<00:00, 16.99it/s]\n"
          ]
        },
        {
          "output_type": "stream",
          "name": "stdout",
          "text": [
            "Para a época 8 o erro médio do modelo aplicada ao conjunto de teste é: 0.009118\n"
          ]
        },
        {
          "output_type": "stream",
          "name": "stderr",
          "text": [
            "100%|██████████| 500/500 [00:38<00:00, 13.06it/s]\n"
          ]
        },
        {
          "output_type": "stream",
          "name": "stdout",
          "text": [
            "Época 009, Erro de Treino: 0.009730, Acurácia: 65.40%\n",
            "Avaliando a performance do modelo ao conjunto de teste\n"
          ]
        },
        {
          "output_type": "stream",
          "name": "stderr",
          "text": [
            "100%|██████████| 100/100 [00:06<00:00, 15.64it/s]\n"
          ]
        },
        {
          "output_type": "stream",
          "name": "stdout",
          "text": [
            "Salvando modelo com melhor acurácia no conjunto de teste\n",
            "Para a época 9 a acurácia média do modelo aplicada ao conjunto de teste é:  66.33 %\n",
            "Avaliando o erro médio do modelo no conjunto de teste\n"
          ]
        },
        {
          "output_type": "stream",
          "name": "stderr",
          "text": [
            "100%|██████████| 100/100 [00:05<00:00, 17.17it/s]\n"
          ]
        },
        {
          "output_type": "stream",
          "name": "stdout",
          "text": [
            "Para a época 9 o erro médio do modelo aplicada ao conjunto de teste é: 0.008840\n"
          ]
        },
        {
          "output_type": "stream",
          "name": "stderr",
          "text": [
            "100%|██████████| 500/500 [00:40<00:00, 12.32it/s]\n"
          ]
        },
        {
          "output_type": "stream",
          "name": "stdout",
          "text": [
            "Época 010, Erro de Treino: 0.009435, Acurácia: 66.64%\n",
            "Avaliando a performance do modelo ao conjunto de teste\n"
          ]
        },
        {
          "output_type": "stream",
          "name": "stderr",
          "text": [
            "100%|██████████| 100/100 [00:05<00:00, 19.53it/s]\n"
          ]
        },
        {
          "output_type": "stream",
          "name": "stdout",
          "text": [
            "Salvando modelo com melhor acurácia no conjunto de teste\n",
            "Para a época 10 a acurácia média do modelo aplicada ao conjunto de teste é:  67.63 %\n",
            "Avaliando o erro médio do modelo no conjunto de teste\n"
          ]
        },
        {
          "output_type": "stream",
          "name": "stderr",
          "text": [
            "100%|██████████| 100/100 [00:04<00:00, 21.86it/s]\n"
          ]
        },
        {
          "output_type": "stream",
          "name": "stdout",
          "text": [
            "Para a época 10 o erro médio do modelo aplicada ao conjunto de teste é: 0.008787\n",
            "Finalizando o Treinamento\n",
            "Tempo Total de Treinamento em minutos: 9.60\n"
          ]
        }
      ],
      "source": [
        "# Instalando a plataforma/bibliotecas e suas dependências\n",
        "!pip install -q flwr[simulation]\n",
        "!pip install torch\n",
        "!pip install torchvision\n",
        "!pip install matplotlib\n",
        "\n",
        "# Importando as bibliotecas\n",
        "import flwr as fl\n",
        "import warnings\n",
        "from collections import OrderedDict\n",
        "import sys\n",
        "import time\n",
        "import torch\n",
        "import torch.nn as nn\n",
        "import torch.nn.functional as F\n",
        "import matplotlib.pyplot as plt\n",
        "import numpy as np\n",
        "import torchvision\n",
        "import torchvision.transforms as transforms\n",
        "from torch.autograd import Variable\n",
        "from torch.utils.data import DataLoader\n",
        "from torchvision.datasets import CIFAR10\n",
        "from tqdm import tqdm\n",
        "\n",
        "# Definindo o dispositivo de execução\n",
        "warnings.filterwarnings(\"ignore\", category=UserWarning)\n",
        "DEVICE = torch.device(\"cuda:0\" if torch.cuda.is_available() else \"cpu\")\n",
        "print(f\"Training on {DEVICE} using Pytorch{torch.__version__} and Flower{fl.__version__}\")\n",
        "# Definindo a rede neural\n",
        "class Cifar10CnnModel(nn.Module):\n",
        " def __init__(self) -> None:\n",
        "        super(Cifar10CnnModel, self).__init__()\n",
        "        self.conv1 = nn.Conv2d(3, 6, 5)\n",
        "        self.pool = nn.MaxPool2d(2, 2)\n",
        "        self.conv2 = nn.Conv2d(6, 16, 5)\n",
        "        self.fc1 = nn.Linear(16 * 5 * 5, 120)\n",
        "        self.fc2 = nn.Linear(120, 84)\n",
        "        self.fc3 = nn.Linear(84, 10)\n",
        " def forward(self, x: torch.Tensor) -> torch.Tensor:\n",
        "        x = self.pool(F.relu(self.conv1(x)))\n",
        "        x = self.pool(F.relu(self.conv2(x)))\n",
        "        x = x.view(-1, 16 * 5 * 5)\n",
        "        x = F.relu(self.fc1(x))\n",
        "        x = F.relu(self.fc2(x))\n",
        "        return self.fc3(x)\n",
        "# Salvando o melhor modelo\n",
        "def saveModel(net):\n",
        "     path = \"./bestModelnnCifar10.pth\"\n",
        "     torch.save(net.state_dict(), path)\n",
        "# Avaliando a acurácia no conjunto de dados de testes\n",
        "def testAccuracy(net,testloader):\n",
        "    net.eval()\n",
        "    correct, total = 0, 0\n",
        "    with torch.no_grad():\n",
        "        for data in tqdm(testloader):\n",
        "            images, labels = data[0].to(DEVICE), data[1].to(DEVICE)\n",
        "            outputs = net(images)\n",
        "            _, predicted = torch.max(outputs.data, 1)\n",
        "            total += labels.size(0)\n",
        "            correct += (predicted == labels).sum().item()\n",
        "    accuracy = correct * 100 / total\n",
        "    return accuracy\n",
        "# Avaliando o erro no conjunto de dados de testes\n",
        "def testLoss(net, testloader):\n",
        "    criterion = torch.nn.CrossEntropyLoss()\n",
        "    correct, total, lossT = 0, 0, 0.0\n",
        "    with torch.no_grad():\n",
        "        for data in tqdm(testloader):\n",
        "            images, labels = data[0].to(DEVICE), data[1].to(DEVICE)\n",
        "            outputs = net(images)\n",
        "            lossT += criterion(outputs, labels).item()\n",
        "            _, predicted = torch.max(outputs.data, 1)\n",
        "            total += labels.size(0)\n",
        "    correct += (predicted == labels).sum().item()\n",
        "    return lossT\n",
        "\n",
        "    # Sumarizando os resultados de erro e acurácia do modelo\n",
        "def summarize_results (epoch_list,accuracy_list,accuracyT_list,loss_list,loss_listT):\n",
        "    # Plotanto o gráfico de acurácia de treinamento e teste\n",
        "    plt.subplot (211)\n",
        "    plt.plot(epoch_list,accuracy_list)\n",
        "    plt.plot(epoch_list,accuracyT_list)\n",
        "    plt.legend(['Acurácia Treino', 'Acurácia Teste'])\n",
        "    plt.xlabel('Época')\n",
        "    plt.ylabel('Acurácia')\n",
        "    plt.grid(True)\n",
        "    plt.title('Acurácia vs. No. de épocas')\n",
        "    plt.tight_layout()\n",
        "    # Plotanto o gráfico de erro de treinamento e teste\n",
        "    plt.subplot (212)\n",
        "    plt.plot(epoch_list,loss_list)\n",
        "    plt.plot(epoch_list,loss_listT)\n",
        "    # Encontrando a posição de menor perda de validação\n",
        "    plt.legend(['Erro Treino', 'Erro Teste'])\n",
        "    plt.xlabel('Época')\n",
        "    plt.ylabel('Erro')\n",
        "    plt.grid(True)\n",
        "    plt.title('Erro vs. No. de épocas')\n",
        "    plt.tight_layout()\n",
        "    # Salvando o plot em arquivo\n",
        "    filename = sys.argv [0].split ('/') [-1]\n",
        "    plt.savefig (filename + '_plot.png')\n",
        "    plt.close ()\n",
        "# Realizando o Treinamento do modelo na rede neural\n",
        "def train(net, trainloader, epochs):\n",
        "    print(f\"Treinando {epochs} época(s) com {len(trainloader)} lotes cada\")\n",
        "    accuracy_list=[]\n",
        "    epoch_list=[]\n",
        "    loss_list= []\n",
        "    accuracyT_list=[]\n",
        "    loss_listT=[]\n",
        "    best_accuracy = 0.0\n",
        "    # Definindo uma função de perda e um otimizador\n",
        "    criterion = torch.nn.CrossEntropyLoss()\n",
        "    optimizer = torch.optim.Adam(net.parameters(), lr=0.001)\n",
        "    loss_listT=[]\n",
        "    best_accuracy = 0.0\n",
        "    # Definindo uma função de perda e um otimizador\n",
        "    criterion = torch.nn.CrossEntropyLoss()\n",
        "    optimizer = torch.optim.Adam(net.parameters(), lr=0.001)\n",
        "    for num_epoch in range(epochs):\n",
        "        correct, total, epochs_loss = 0, 0, 0.0\n",
        "        for i,(images, labels) in enumerate(tqdm(trainloader,0)):\n",
        "            images, labels = images.to(DEVICE), labels.to(DEVICE)\n",
        "            optimizer.zero_grad()\n",
        "            outputs = net(images)\n",
        "            loss = criterion(net(images), labels)\n",
        "            loss.backward()\n",
        "            optimizer.step()\n",
        "    # Coletando as métricas de erro e acurácia\n",
        "            epochs_loss += loss\n",
        "            total += labels.size(0)\n",
        "            correct += (torch.max(outputs.data, 1)[1] == labels).sum().item()\n",
        "        epochs_loss = epochs_loss / (len(trainloader)*batch_size)\n",
        "        epochs_loss = epochs_loss.detach().cpu().numpy()\n",
        "        epochs_acc = correct * 100 / total\n",
        "        accuracy_list.append(epochs_acc)\n",
        "        epoch_list.append(num_epoch+1)\n",
        "        loss_list.append(epochs_loss)\n",
        "        print(\"Época {:03d}, Erro de Treino: {:.6f}, Acurácia: {:.2f}%\".format(num_epoch+1, epochs_loss, epochs_acc))\n",
        "        print(\"Avaliando a performance do modelo ao conjunto de teste\")\n",
        "        epochs_acc = testAccuracy(net,testloader)\n",
        "        if epochs_acc > best_accuracy:\n",
        "          print(\"Salvando modelo com melhor acurácia no conjunto de teste\")\n",
        "          saveModel(net)\n",
        "          best_accuracy = epochs_acc\n",
        "          accuracyT_list.append(best_accuracy)\n",
        "          print(\"Para a época\", num_epoch+1,'a acurácia média do modelo aplicada ao conjunto de teste é: % .2f %%' % (best_accuracy))\n",
        "          print(\"Avaliando o erro médio do modelo no conjunto de teste\")\n",
        "        for i,(images, labels) in enumerate(testloader,0): \n",
        "            images, labels = images.to(DEVICE), labels.to(DEVICE)\n",
        "            optimizer.zero_grad()\n",
        "            outputs = net(images)\n",
        "            lossT = criterion(net(images), labels)\n",
        "            lossT.backward()\n",
        "            optimizer.step()\n",
        "        epochs_lossT = testLoss(net,testloader)\n",
        "        epochs_lossT += lossT\n",
        "        epochs_lossT= epochs_lossT / (len(testloader)*batch_size)\n",
        "        epochs_lossT = epochs_lossT.detach().cpu().numpy()\n",
        "        loss_listT.append(epochs_lossT)\n",
        "        print(\"Para a época\", num_epoch+1,'o erro médio do modelo aplicada ao conjunto de teste é: %.6f' % (epochs_lossT))\n",
        "        # Sumarizando os resultados\n",
        "        summarize_results(epoch_list,accuracy_list,accuracyT_list,loss_list,loss_listT)\n",
        "    return accuracy_list, epoch_list, best_accuracy,loss_list, accuracyT_list,loss_listT\n",
        "\n",
        "    # Carregando e Normalizando os Dados CIFAR10\n",
        "    # Definindo as Transformações a serem aplicadas às imagens\n",
        "def load_data():\n",
        "    transform = transforms.Compose([transforms.ToTensor(), transforms.Normalize( (0.5, 0.5, 0.5), (0.5, 0.5, 0.5))])\n",
        "    trainset = CIFAR10(root=\"./data\", train=True,\n",
        "    download=True, transform=transform)\n",
        "    testset = CIFAR10(root=\"./data\", train=False,\n",
        "    download=True, transform=transform)\n",
        "    trainloader = DataLoader(trainset, batch_size=batch_size,shuffle=True,num_workers=0)\n",
        "    print(\"O número de Imagens no conjunto de treinamento é: \", len(trainloader)*batch_size)\n",
        "    testloader = DataLoader(testset,batch_size=batch_size,shuffle=False,num_workers=0)\n",
        "    num_examples = {\"trainset\": len(trainset)*batch_size, \"testset\": len(testset)*batch_size}\n",
        "    print(\"O número de Imagens no conjunto de teste é: \", len(testloader)*batch_size)\n",
        "    print(\"O número de Lotes de Treinamento por Épocas é:\", len(trainloader))\n",
        "    print(\"O número de Lotes de Teste por Épocas é:\", len(testloader))\n",
        "    return trainloader, testloader, num_examples\n",
        "\n",
        " # Programa Principal\n",
        "if __name__ == \"__main__\":\n",
        " # Estabelecendo os parâmetros da rede\n",
        " batch_size = 100\n",
        " epochs =  10\n",
        " # Carregando o modelo e os dados\n",
        " net = Cifar10CnnModel().to(DEVICE)\n",
        " trainloader, testloader, num_examples = load_data()\n",
        " # Iniciando o treinamento e teste\n",
        " print(\"O modelo será executado em\", DEVICE, \"device\")\n",
        " print(\"Iniciando o Treinamento\")\n",
        " start_time = time.time()\n",
        " train(net, trainloader=trainloader, epochs=epochs)\n",
        " end_time = time.time()\n",
        " # Finalizando o treinamento e teste\n",
        " print(\"Finalizando o Treinamento\")\n",
        " time_taken = end_time - start_time\n",
        " print('Tempo Total de Treinamento em minutos:% .2f' % (time_taken/60))"
      ]
    }
  ]
}