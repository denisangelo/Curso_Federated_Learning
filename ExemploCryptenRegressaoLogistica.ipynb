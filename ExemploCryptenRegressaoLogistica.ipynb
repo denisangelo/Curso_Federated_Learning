{
  "nbformat": 4,
  "nbformat_minor": 0,
  "metadata": {
    "colab": {
      "provenance": [],
      "authorship_tag": "ABX9TyOs/bFbePv5CsoV5DPXRD9X",
      "include_colab_link": true
    },
    "kernelspec": {
      "name": "python3",
      "display_name": "Python 3"
    },
    "language_info": {
      "name": "python"
    }
  },
  "cells": [
    {
      "cell_type": "markdown",
      "metadata": {
        "id": "view-in-github",
        "colab_type": "text"
      },
      "source": [
        "<a href=\"https://colab.research.google.com/github/denisangelo/Federated_Learning/blob/main/ExemploCryptenRegressaoLogistica.ipynb\" target=\"_parent\"><img src=\"https://colab.research.google.com/assets/colab-badge.svg\" alt=\"Open In Colab\"/></a>"
      ]
    },
    {
      "cell_type": "code",
      "execution_count": 388,
      "metadata": {
        "colab": {
          "base_uri": "https://localhost:8080/"
        },
        "id": "NjPTcET67Ms_",
        "outputId": "41a9f35b-9326-4706-ef8d-77697b574a94"
      },
      "outputs": [
        {
          "output_type": "stream",
          "name": "stdout",
          "text": [
            "Looking in indexes: https://pypi.org/simple, https://us-python.pkg.dev/colab-wheels/public/simple/\n",
            "Requirement already satisfied: crypten in /usr/local/lib/python3.10/dist-packages (0.4.1)\n",
            "Requirement already satisfied: torch>=1.7.0 in /usr/local/lib/python3.10/dist-packages (from crypten) (2.0.1+cu118)\n",
            "Requirement already satisfied: torchvision>=0.9.1 in /usr/local/lib/python3.10/dist-packages (from crypten) (0.15.2+cu118)\n",
            "Requirement already satisfied: omegaconf>=2.0.6 in /usr/local/lib/python3.10/dist-packages (from crypten) (2.3.0)\n",
            "Requirement already satisfied: onnx>=1.7.0 in /usr/local/lib/python3.10/dist-packages (from crypten) (1.14.0)\n",
            "Requirement already satisfied: pandas>=1.2.2 in /usr/local/lib/python3.10/dist-packages (from crypten) (1.5.3)\n",
            "Requirement already satisfied: pyyaml>=5.3.1 in /usr/local/lib/python3.10/dist-packages (from crypten) (6.0)\n",
            "Requirement already satisfied: tensorboard in /usr/local/lib/python3.10/dist-packages (from crypten) (2.12.2)\n",
            "Requirement already satisfied: future in /usr/local/lib/python3.10/dist-packages (from crypten) (0.18.3)\n",
            "Requirement already satisfied: scipy>=1.6.0 in /usr/local/lib/python3.10/dist-packages (from crypten) (1.10.1)\n",
            "Requirement already satisfied: sklearn in /usr/local/lib/python3.10/dist-packages (from crypten) (0.0.post5)\n",
            "Requirement already satisfied: antlr4-python3-runtime==4.9.* in /usr/local/lib/python3.10/dist-packages (from omegaconf>=2.0.6->crypten) (4.9.3)\n",
            "Requirement already satisfied: numpy in /usr/local/lib/python3.10/dist-packages (from onnx>=1.7.0->crypten) (1.22.4)\n",
            "Requirement already satisfied: protobuf>=3.20.2 in /usr/local/lib/python3.10/dist-packages (from onnx>=1.7.0->crypten) (3.20.3)\n",
            "Requirement already satisfied: typing-extensions>=3.6.2.1 in /usr/local/lib/python3.10/dist-packages (from onnx>=1.7.0->crypten) (4.5.0)\n",
            "Requirement already satisfied: python-dateutil>=2.8.1 in /usr/local/lib/python3.10/dist-packages (from pandas>=1.2.2->crypten) (2.8.2)\n",
            "Requirement already satisfied: pytz>=2020.1 in /usr/local/lib/python3.10/dist-packages (from pandas>=1.2.2->crypten) (2022.7.1)\n",
            "Requirement already satisfied: filelock in /usr/local/lib/python3.10/dist-packages (from torch>=1.7.0->crypten) (3.12.0)\n",
            "Requirement already satisfied: sympy in /usr/local/lib/python3.10/dist-packages (from torch>=1.7.0->crypten) (1.11.1)\n",
            "Requirement already satisfied: networkx in /usr/local/lib/python3.10/dist-packages (from torch>=1.7.0->crypten) (3.1)\n",
            "Requirement already satisfied: jinja2 in /usr/local/lib/python3.10/dist-packages (from torch>=1.7.0->crypten) (3.1.2)\n",
            "Requirement already satisfied: triton==2.0.0 in /usr/local/lib/python3.10/dist-packages (from torch>=1.7.0->crypten) (2.0.0)\n",
            "Requirement already satisfied: cmake in /usr/local/lib/python3.10/dist-packages (from triton==2.0.0->torch>=1.7.0->crypten) (3.25.2)\n",
            "Requirement already satisfied: lit in /usr/local/lib/python3.10/dist-packages (from triton==2.0.0->torch>=1.7.0->crypten) (16.0.5)\n",
            "Requirement already satisfied: requests in /usr/local/lib/python3.10/dist-packages (from torchvision>=0.9.1->crypten) (2.27.1)\n",
            "Requirement already satisfied: pillow!=8.3.*,>=5.3.0 in /usr/local/lib/python3.10/dist-packages (from torchvision>=0.9.1->crypten) (8.4.0)\n",
            "Requirement already satisfied: absl-py>=0.4 in /usr/local/lib/python3.10/dist-packages (from tensorboard->crypten) (1.4.0)\n",
            "Requirement already satisfied: grpcio>=1.48.2 in /usr/local/lib/python3.10/dist-packages (from tensorboard->crypten) (1.51.3)\n",
            "Requirement already satisfied: google-auth<3,>=1.6.3 in /usr/local/lib/python3.10/dist-packages (from tensorboard->crypten) (2.17.3)\n",
            "Requirement already satisfied: google-auth-oauthlib<1.1,>=0.5 in /usr/local/lib/python3.10/dist-packages (from tensorboard->crypten) (1.0.0)\n",
            "Requirement already satisfied: markdown>=2.6.8 in /usr/local/lib/python3.10/dist-packages (from tensorboard->crypten) (3.4.3)\n",
            "Requirement already satisfied: setuptools>=41.0.0 in /usr/local/lib/python3.10/dist-packages (from tensorboard->crypten) (67.7.2)\n",
            "Requirement already satisfied: tensorboard-data-server<0.8.0,>=0.7.0 in /usr/local/lib/python3.10/dist-packages (from tensorboard->crypten) (0.7.0)\n",
            "Requirement already satisfied: tensorboard-plugin-wit>=1.6.0 in /usr/local/lib/python3.10/dist-packages (from tensorboard->crypten) (1.8.1)\n",
            "Requirement already satisfied: werkzeug>=1.0.1 in /usr/local/lib/python3.10/dist-packages (from tensorboard->crypten) (2.3.0)\n",
            "Requirement already satisfied: wheel>=0.26 in /usr/local/lib/python3.10/dist-packages (from tensorboard->crypten) (0.40.0)\n",
            "Requirement already satisfied: cachetools<6.0,>=2.0.0 in /usr/local/lib/python3.10/dist-packages (from google-auth<3,>=1.6.3->tensorboard->crypten) (5.3.0)\n",
            "Requirement already satisfied: pyasn1-modules>=0.2.1 in /usr/local/lib/python3.10/dist-packages (from google-auth<3,>=1.6.3->tensorboard->crypten) (0.3.0)\n",
            "Requirement already satisfied: six>=1.9.0 in /usr/local/lib/python3.10/dist-packages (from google-auth<3,>=1.6.3->tensorboard->crypten) (1.16.0)\n",
            "Requirement already satisfied: rsa<5,>=3.1.4 in /usr/local/lib/python3.10/dist-packages (from google-auth<3,>=1.6.3->tensorboard->crypten) (4.9)\n",
            "Requirement already satisfied: requests-oauthlib>=0.7.0 in /usr/local/lib/python3.10/dist-packages (from google-auth-oauthlib<1.1,>=0.5->tensorboard->crypten) (1.3.1)\n",
            "Requirement already satisfied: urllib3<1.27,>=1.21.1 in /usr/local/lib/python3.10/dist-packages (from requests->torchvision>=0.9.1->crypten) (1.26.15)\n",
            "Requirement already satisfied: certifi>=2017.4.17 in /usr/local/lib/python3.10/dist-packages (from requests->torchvision>=0.9.1->crypten) (2022.12.7)\n",
            "Requirement already satisfied: charset-normalizer~=2.0.0 in /usr/local/lib/python3.10/dist-packages (from requests->torchvision>=0.9.1->crypten) (2.0.12)\n",
            "Requirement already satisfied: idna<4,>=2.5 in /usr/local/lib/python3.10/dist-packages (from requests->torchvision>=0.9.1->crypten) (3.4)\n",
            "Requirement already satisfied: MarkupSafe>=2.1.1 in /usr/local/lib/python3.10/dist-packages (from werkzeug>=1.0.1->tensorboard->crypten) (2.1.2)\n",
            "Requirement already satisfied: mpmath>=0.19 in /usr/local/lib/python3.10/dist-packages (from sympy->torch>=1.7.0->crypten) (1.3.0)\n",
            "Requirement already satisfied: pyasn1<0.6.0,>=0.4.6 in /usr/local/lib/python3.10/dist-packages (from pyasn1-modules>=0.2.1->google-auth<3,>=1.6.3->tensorboard->crypten) (0.5.0)\n",
            "Requirement already satisfied: oauthlib>=3.0.0 in /usr/local/lib/python3.10/dist-packages (from requests-oauthlib>=0.7.0->google-auth-oauthlib<1.1,>=0.5->tensorboard->crypten) (3.2.2)\n",
            "Looking in indexes: https://pypi.org/simple, https://us-python.pkg.dev/colab-wheels/public/simple/\n",
            "Requirement already satisfied: torch in /usr/local/lib/python3.10/dist-packages (2.0.1+cu118)\n",
            "Requirement already satisfied: filelock in /usr/local/lib/python3.10/dist-packages (from torch) (3.12.0)\n",
            "Requirement already satisfied: typing-extensions in /usr/local/lib/python3.10/dist-packages (from torch) (4.5.0)\n",
            "Requirement already satisfied: sympy in /usr/local/lib/python3.10/dist-packages (from torch) (1.11.1)\n",
            "Requirement already satisfied: networkx in /usr/local/lib/python3.10/dist-packages (from torch) (3.1)\n",
            "Requirement already satisfied: jinja2 in /usr/local/lib/python3.10/dist-packages (from torch) (3.1.2)\n",
            "Requirement already satisfied: triton==2.0.0 in /usr/local/lib/python3.10/dist-packages (from torch) (2.0.0)\n",
            "Requirement already satisfied: cmake in /usr/local/lib/python3.10/dist-packages (from triton==2.0.0->torch) (3.25.2)\n",
            "Requirement already satisfied: lit in /usr/local/lib/python3.10/dist-packages (from triton==2.0.0->torch) (16.0.5)\n",
            "Requirement already satisfied: MarkupSafe>=2.0 in /usr/local/lib/python3.10/dist-packages (from jinja2->torch) (2.1.2)\n",
            "Requirement already satisfied: mpmath>=0.19 in /usr/local/lib/python3.10/dist-packages (from sympy->torch) (1.3.0)\n",
            "Looking in indexes: https://pypi.org/simple, https://us-python.pkg.dev/colab-wheels/public/simple/\n",
            "Requirement already satisfied: torchvision in /usr/local/lib/python3.10/dist-packages (0.15.2+cu118)\n",
            "Requirement already satisfied: numpy in /usr/local/lib/python3.10/dist-packages (from torchvision) (1.22.4)\n",
            "Requirement already satisfied: requests in /usr/local/lib/python3.10/dist-packages (from torchvision) (2.27.1)\n",
            "Requirement already satisfied: torch==2.0.1 in /usr/local/lib/python3.10/dist-packages (from torchvision) (2.0.1+cu118)\n",
            "Requirement already satisfied: pillow!=8.3.*,>=5.3.0 in /usr/local/lib/python3.10/dist-packages (from torchvision) (8.4.0)\n",
            "Requirement already satisfied: filelock in /usr/local/lib/python3.10/dist-packages (from torch==2.0.1->torchvision) (3.12.0)\n",
            "Requirement already satisfied: typing-extensions in /usr/local/lib/python3.10/dist-packages (from torch==2.0.1->torchvision) (4.5.0)\n",
            "Requirement already satisfied: sympy in /usr/local/lib/python3.10/dist-packages (from torch==2.0.1->torchvision) (1.11.1)\n",
            "Requirement already satisfied: networkx in /usr/local/lib/python3.10/dist-packages (from torch==2.0.1->torchvision) (3.1)\n",
            "Requirement already satisfied: jinja2 in /usr/local/lib/python3.10/dist-packages (from torch==2.0.1->torchvision) (3.1.2)\n",
            "Requirement already satisfied: triton==2.0.0 in /usr/local/lib/python3.10/dist-packages (from torch==2.0.1->torchvision) (2.0.0)\n",
            "Requirement already satisfied: cmake in /usr/local/lib/python3.10/dist-packages (from triton==2.0.0->torch==2.0.1->torchvision) (3.25.2)\n",
            "Requirement already satisfied: lit in /usr/local/lib/python3.10/dist-packages (from triton==2.0.0->torch==2.0.1->torchvision) (16.0.5)\n",
            "Requirement already satisfied: urllib3<1.27,>=1.21.1 in /usr/local/lib/python3.10/dist-packages (from requests->torchvision) (1.26.15)\n",
            "Requirement already satisfied: certifi>=2017.4.17 in /usr/local/lib/python3.10/dist-packages (from requests->torchvision) (2022.12.7)\n",
            "Requirement already satisfied: charset-normalizer~=2.0.0 in /usr/local/lib/python3.10/dist-packages (from requests->torchvision) (2.0.12)\n",
            "Requirement already satisfied: idna<4,>=2.5 in /usr/local/lib/python3.10/dist-packages (from requests->torchvision) (3.4)\n",
            "Requirement already satisfied: MarkupSafe>=2.0 in /usr/local/lib/python3.10/dist-packages (from jinja2->torch==2.0.1->torchvision) (2.1.2)\n",
            "Requirement already satisfied: mpmath>=0.19 in /usr/local/lib/python3.10/dist-packages (from sympy->torch==2.0.1->torchvision) (1.3.0)\n",
            "Looking in indexes: https://pypi.org/simple, https://us-python.pkg.dev/colab-wheels/public/simple/\n",
            "Requirement already satisfied: matplotlib in /usr/local/lib/python3.10/dist-packages (3.7.1)\n",
            "Requirement already satisfied: contourpy>=1.0.1 in /usr/local/lib/python3.10/dist-packages (from matplotlib) (1.0.7)\n",
            "Requirement already satisfied: cycler>=0.10 in /usr/local/lib/python3.10/dist-packages (from matplotlib) (0.11.0)\n",
            "Requirement already satisfied: fonttools>=4.22.0 in /usr/local/lib/python3.10/dist-packages (from matplotlib) (4.39.3)\n",
            "Requirement already satisfied: kiwisolver>=1.0.1 in /usr/local/lib/python3.10/dist-packages (from matplotlib) (1.4.4)\n",
            "Requirement already satisfied: numpy>=1.20 in /usr/local/lib/python3.10/dist-packages (from matplotlib) (1.22.4)\n",
            "Requirement already satisfied: packaging>=20.0 in /usr/local/lib/python3.10/dist-packages (from matplotlib) (23.1)\n",
            "Requirement already satisfied: pillow>=6.2.0 in /usr/local/lib/python3.10/dist-packages (from matplotlib) (8.4.0)\n",
            "Requirement already satisfied: pyparsing>=2.3.1 in /usr/local/lib/python3.10/dist-packages (from matplotlib) (3.0.9)\n",
            "Requirement already satisfied: python-dateutil>=2.7 in /usr/local/lib/python3.10/dist-packages (from matplotlib) (2.8.2)\n",
            "Requirement already satisfied: six>=1.5 in /usr/local/lib/python3.10/dist-packages (from python-dateutil>=2.7->matplotlib) (1.16.0)\n"
          ]
        }
      ],
      "source": [
        "#Importa Pytorch,crypten\n",
        "!pip install crypten\n",
        "!pip install torch\n",
        "!pip install torchvision\n",
        "!pip install matplotlib"
      ]
    },
    {
      "cell_type": "code",
      "source": [
        "#Importa as bibliotecas necessárias\n",
        "import matplotlib.pyplot as plt\n",
        "import numpy as np\n",
        "import crypten\n",
        "import torch\n",
        "import torch.nn as nn\n",
        "import torch.nn.functional as F\n",
        "import torchvision\n",
        "import torchvision.transforms as transforms\n",
        "from torch.utils.data import DataLoader, random_split\n",
        "from torchvision.datasets import CIFAR10"
      ],
      "metadata": {
        "id": "F4GZ9CZi7bEz"
      },
      "execution_count": 389,
      "outputs": []
    },
    {
      "cell_type": "code",
      "source": [
        "crypten.init()\n",
        "torch.set_num_threads(1)"
      ],
      "metadata": {
        "colab": {
          "base_uri": "https://localhost:8080/"
        },
        "id": "VseZ_SiD8VXk",
        "outputId": "319a00c4-07c5-41b5-ebb6-906af801bb42"
      },
      "execution_count": 390,
      "outputs": [
        {
          "output_type": "stream",
          "name": "stderr",
          "text": [
            "/usr/local/lib/python3.10/dist-packages/crypten/__init__.py:64: RuntimeWarning: CrypTen is already initialized.\n",
            "  warnings.warn(\"CrypTen is already initialized.\", RuntimeWarning)\n"
          ]
        }
      ]
    },
    {
      "cell_type": "code",
      "source": [
        "#Carrega os dados CIFAR10\n",
        "\n",
        "transform = transforms.Compose([transforms.ToTensor(),transforms.Normalize( (0.5, 0.5, 0.5), (0.5, 0.5, 0.5))])\n",
        "#transform = transforms.Compose([transforms.RandomHorizontalFlip(),transforms.ToTensor(),])\n",
        "trainset = CIFAR10(root=\"./data\", train=True,download=True, transform=transform)\n",
        "testset = CIFAR10(root=\"./data\", train=False, download=True, transform=transform)\n",
        "#labels\n",
        "\n",
        "classes = ('plane', 'car', 'bird', 'cat','deer', 'dog', 'frog', 'horse', 'ship', 'truck')"
      ],
      "metadata": {
        "colab": {
          "base_uri": "https://localhost:8080/"
        },
        "id": "zVthgBd-8eXd",
        "outputId": "0ccad24b-53d2-4f6e-94e5-4d0a9f9e50b6"
      },
      "execution_count": 391,
      "outputs": [
        {
          "output_type": "stream",
          "name": "stdout",
          "text": [
            "Files already downloaded and verified\n",
            "Files already downloaded and verified\n"
          ]
        }
      ]
    },
    {
      "cell_type": "code",
      "source": [
        "example = 5\n",
        "\n",
        "image, label = trainset[example]\n",
        "\n",
        "print(\"Esta imagem é um: \" + classes[(trainset[example])[1]])\n",
        "img = next(iter(trainset))[0][0]\n",
        "plt.imshow(transforms.ToPILImage()(image))\n",
        "\n"
      ],
      "metadata": {
        "colab": {
          "base_uri": "https://localhost:8080/",
          "height": 465
        },
        "id": "IV9U-J2M8y0I",
        "outputId": "862a7733-8f66-4110-cd90-33715532529e"
      },
      "execution_count": 392,
      "outputs": [
        {
          "output_type": "stream",
          "name": "stdout",
          "text": [
            "Esta imagem é um: car\n"
          ]
        },
        {
          "output_type": "execute_result",
          "data": {
            "text/plain": [
              "<matplotlib.image.AxesImage at 0x7f8bf92bb2e0>"
            ]
          },
          "metadata": {},
          "execution_count": 392
        },
        {
          "output_type": "display_data",
          "data": {
            "text/plain": [
              "<Figure size 640x480 with 1 Axes>"
            ],
            "image/png": "[encoded data removed]"
          },
          "metadata": {}
        }
      ]
    },
    {
      "cell_type": "code",
      "source": [
        "print(\"O label da imagem é: \",trainset[0][1])"
      ],
      "metadata": {
        "colab": {
          "base_uri": "https://localhost:8080/"
        },
        "id": "kgpADC3r_pmu",
        "outputId": "6a6f262d-6993-403d-9db4-340989808738"
      },
      "execution_count": 393,
      "outputs": [
        {
          "output_type": "stream",
          "name": "stdout",
          "text": [
            "O label da imagem é:  6\n"
          ]
        }
      ]
    },
    {
      "cell_type": "code",
      "source": [
        "#Pré processamento entre tensores\n",
        "def take_samples(trainset, n_samples=1000):\n",
        "  #Retorna images e labels em conjunto de amostras\n",
        "  images,labels =[],[]\n",
        "  for i,trainset in enumerate(trainset):\n",
        "    if i==n_samples:\n",
        "      break\n",
        "    image, label = trainset\n",
        "    images.append(image)\n",
        "    label_one_hot = torch.nn.functional.one_hot(torch.tensor(label),10)\n",
        "    labels.append(label_one_hot)\n",
        "\n",
        "  images = torch.cat(images)\n",
        "  labels = torch.stack(labels)\n",
        "  return images,labels"
      ],
      "metadata": {
        "id": "_SeBPtZmHsDo"
      },
      "execution_count": 394,
      "outputs": []
    },
    {
      "cell_type": "code",
      "source": [
        "images,labels = take_samples(trainset, n_samples=100)"
      ],
      "metadata": {
        "id": "XyTYkHkKJQYA"
      },
      "execution_count": 395,
      "outputs": []
    },
    {
      "cell_type": "code",
      "source": [
        "print(images.shape)\n",
        "print(labels.shape)"
      ],
      "metadata": {
        "colab": {
          "base_uri": "https://localhost:8080/"
        },
        "id": "zNpmrGuQJg2H",
        "outputId": "85487e75-e1e2-4ba4-8980-958db00fda56"
      },
      "execution_count": 396,
      "outputs": [
        {
          "output_type": "stream",
          "name": "stdout",
          "text": [
            "torch.Size([300, 32, 32])\n",
            "torch.Size([100, 10])\n"
          ]
        }
      ]
    },
    {
      "cell_type": "code",
      "source": [
        "images_enc = crypten.cryptensor(images)\n",
        "labels_enc = crypten.cryptensor(labels)"
      ],
      "metadata": {
        "id": "bW4O4vZ_MHr7"
      },
      "execution_count": 397,
      "outputs": []
    },
    {
      "cell_type": "code",
      "source": [
        "images_enc[0]"
      ],
      "metadata": {
        "colab": {
          "base_uri": "https://localhost:8080/"
        },
        "id": "geFMOF8wP__6",
        "outputId": "069916f1-8179-43a5-aa94-53e5fcffe2c5"
      },
      "execution_count": 398,
      "outputs": [
        {
          "output_type": "execute_result",
          "data": {
            "text/plain": [
              "MPCTensor(\n",
              "\t_tensor=tensor([[-35209, -43433, -39835,  ...,  15677,  12593,  10537],\n",
              "        [-57311, -65536, -56283,  ...,  -2313,  -4369,  -2827],\n",
              "        [-52685, -57311, -40349,  ...,  -4883,  -3855,  -9509],\n",
              "        ...,\n",
              "        [ 41377,  37779,  36237,  ...,  16705, -36751, -38293],\n",
              "        [ 26985,  23387,  30069,  ...,  29041, -15677, -22873],\n",
              "        [ 25443,  20817,  26471,  ...,  45489,  12079,  -2313]])\n",
              "\tplain_text=HIDDEN\n",
              "\tptype=ptype.arithmetic\n",
              ")"
            ]
          },
          "metadata": {},
          "execution_count": 398
        }
      ]
    },
    {
      "cell_type": "code",
      "source": [
        "#Conjunto de imagens de teste\n",
        "images_test,labels_test = take_samples(testset, n_samples=20)\n",
        "images_test_enc = crypten.cryptensor(images_test)\n",
        "labels_test_enc = crypten.cryptensor(labels_test)"
      ],
      "metadata": {
        "id": "kRI1YHqJQLkp"
      },
      "execution_count": 399,
      "outputs": []
    },
    {
      "cell_type": "code",
      "source": [
        "#Modelo de regressão Logística\n",
        "class LogisticRegression(crypten.nn.Module):\n",
        "  def __init__(self):\n",
        "    super().__init__()\n",
        "    self.linear = crypten.nn.Linear(3*32*32,10)\n",
        "  def forward(self,x):\n",
        "    x=x.reshape(-1,3072)\n",
        "    out =self.linear(x)\n",
        "    return out"
      ],
      "metadata": {
        "id": "sPiFVdEVRCNp"
      },
      "execution_count": 404,
      "outputs": []
    },
    {
      "cell_type": "code",
      "source": [
        "model = LogisticRegression().encrypt()"
      ],
      "metadata": {
        "id": "zZYwi71zR5M4"
      },
      "execution_count": 405,
      "outputs": []
    },
    {
      "cell_type": "code",
      "source": [
        "model(images_enc)"
      ],
      "metadata": {
        "colab": {
          "base_uri": "https://localhost:8080/"
        },
        "id": "LC_SFhoeSC_6",
        "outputId": "bb310bc5-7315-47f3-b0ce-fbaa5f2224f5"
      },
      "execution_count": 406,
      "outputs": [
        {
          "output_type": "execute_result",
          "data": {
            "text/plain": [
              "MPCTensor(\n",
              "\t_tensor=tensor([[    11,  -1287,  16313,    -30, -18307, -15076,   4487,   1341,  25021,\n",
              "          -6962],\n",
              "        [-24880,  24597,  -9799,   5745,  -2867, -11603,  22470,  16806, -18135,\n",
              "           1955],\n",
              "        [-21303,   6529,  -1886,  22512, -28178,  17463,  -7747,  -9842, -28717,\n",
              "          14335],\n",
              "        [ 18972,  -2024,  22963, -21635, -11044,  -2313,  12501, -24063,  33396,\n",
              "          -1787],\n",
              "        [ -1083,  10100,   8974,   7455,  -2375,  17772,  35953,  -3298, -16569,\n",
              "           2544],\n",
              "        [  8551, -13071,  43039, -18935, -38396,  -1350,   9082, -13612,  22034,\n",
              "          -7380],\n",
              "        [ -3349, -11007,   3198, -15749, -32449, -15708, -11479, -34112,  12795,\n",
              "           3633],\n",
              "        [  -307,  -9118,  -3769, -16378, -19660,  -3480,  -8047, -11970,   3327,\n",
              "          -5625],\n",
              "        [-22819,  -6760, -46326,   7548,  16717,  14529, -11139,   4722,  -8099,\n",
              "         -14521],\n",
              "        [ -2684,  11639,  23074, -19132,  -7250,  40916,   2803, -53642,  12602,\n",
              "          -8599],\n",
              "        [  4834,  -4605,  27305, -18705,  -6294,   1983,  20507, -25013,  15479,\n",
              "          -9088],\n",
              "        [-12482,  39445,  -1744,   5318,  -7349,  -7413,  -4889,   1593, -17220,\n",
              "          -9127],\n",
              "        [-24084,  19352, -15036,  12891, -13279,   9656,  15754,  -6468, -36330,\n",
              "         -27243],\n",
              "        [ -7919,  -3397,  20265,  -3794,  -6703,  -4981, -10715, -11440,  18003,\n",
              "         -33766],\n",
              "        [ -4608, -11499,   4376,   6443, -23631,   2843,   7780, -25975,   8842,\n",
              "            -77],\n",
              "        [     1,   1996, -24819,  27215,   9995,  10237, -17570, -20331, -12559,\n",
              "          -4393],\n",
              "        [-33035, -12262,   3596,   9173, -29065,  -2935,  17459,  27724,  -6936,\n",
              "            483],\n",
              "        [ 15501,   2989,  50652,  -9606,  15031,   3716,  22340,    437,  32415,\n",
              "          -6169],\n",
              "        [-38860,  -9490, -25811,  41186, -23148,  14384,  -6338, -10215, -35730,\n",
              "           8597],\n",
              "        [ -9736,   3447, -20441, -11773, -27063, -13870,   2994, -15011, -18322,\n",
              "           -953],\n",
              "        [-11331,  22465, -28236,  16438,  22316,  -1511, -22665, -13961, -13897,\n",
              "           6923],\n",
              "        [-19627,  -1816,   2368, -12599, -18305,  -8173,  20031, -34002,  34945,\n",
              "          62556],\n",
              "        [ 30449,   6263,  50106, -18087, -22712,  -4222,  17298, -25294,  43193,\n",
              "           3287],\n",
              "        [ -9434,  -2392,  -2634,    303, -15171,   5550,   6054, -22225,   5540,\n",
              "          17231],\n",
              "        [  2754,  -3781,  14767,  -1357, -25391,  12468,   2906, -10485,  10357,\n",
              "          -9116],\n",
              "        [ -1037,   3902, -15867,  -7295, -16809,  10513,   7479,  -5002,   4170,\n",
              "          -7781],\n",
              "        [ 10825,   3888,  24916, -13913, -39732,   -644,  15313, -11757,  -1690,\n",
              "          22526],\n",
              "        [ 26301,  -5140,  23252, -23080, -13199,  17963,  15952,  -9645,   3287,\n",
              "          13792],\n",
              "        [ -1211,   2363,   9078, -14446, -16019, -14485, -14282,  -3162,  -2395,\n",
              "         -23475],\n",
              "        [-18452,   3372, -62319,  20581, -13408,    633,  -4240,  -2115, -61264,\n",
              "          19624],\n",
              "        [   431,   1304,   8053, -23143, -13680,  -9771,  -9178,  19935,   7769,\n",
              "           8176],\n",
              "        [  2774,   1638,  22717,   4038, -13628,  -6189,   9395,  -1307, -18292,\n",
              "          12565],\n",
              "        [  9504,     -9,  -6151,  12853, -11477,  -6806,   6051, -52205,  30903,\n",
              "          20078],\n",
              "        [  1052,  -5826,  26530, -17252,  -1833, -24951,  -2769,  -6200,  35675,\n",
              "           2164],\n",
              "        [   750,   2259,  -1293, -10093, -22437,  -7143,   6469, -15899,  -4911,\n",
              "         -14749],\n",
              "        [-16410,  -7225,   7600,  29501, -51397,  -4759,  -6060,  -6876,  10460,\n",
              "          23420],\n",
              "        [  -479,  35650, -25126,  10017,  -7088,  -2954,  -9026,  39655,  -5621,\n",
              "           3543],\n",
              "        [  7254,   2861,  16029,   1255, -21637,  23860,  15247,    -60,  14928,\n",
              "          -3201],\n",
              "        [-15525,   6144,  18721,  -7522,  17325,  -7555,  27307,  -5843,  31184,\n",
              "           3827],\n",
              "        [   625,  28493,  14742, -10789,  -5323,  -9265,   2318, -20680,  13008,\n",
              "          -3664],\n",
              "        [ 40440,   5487,  43737, -37358, -18418,   5250,  18299, -11853,  14098,\n",
              "          30486],\n",
              "        [ -6784, -15245, -33824,  19406,  -5815, -34481, -33711,  24504, -14663,\n",
              "            383],\n",
              "        [  -657,  -1919, -18523, -11000,  12796,  -4506,  -5114,   1393,  -8004,\n",
              "          -5679],\n",
              "        [-12457,  25825,   -377,   6333,  -1229,   5241,  -6983,  23125,   3424,\n",
              "          -8162],\n",
              "        [  5933,   7770,  32368,  19189, -15247,  14312,  17002, -31445,   9435,\n",
              "           2080],\n",
              "        [  3014,  18373,  -1729,  -8446, -28159, -37375,   9718, -53434,  12839,\n",
              "         -23438],\n",
              "        [ 47358, -19200,   9511, -13000, -13763, -21088,  18686, -18905,  15643,\n",
              "          12414],\n",
              "        [  1276,   8077,  -6151,   5473,  19138,  21515,  19133, -17131,   1480,\n",
              "          -7356],\n",
              "        [ -8823,  -4574, -42090,  12611,  24574, -22695, -35090,  25006, -15122,\n",
              "          -9289],\n",
              "        [-72991,  17325, -38984,  43974,  31548, -25356, -23442,  15813, -32930,\n",
              "         -12264],\n",
              "        [  3146, -10585,  -7186, -13602,  -2294,   8057,  22744, -26167, -17955,\n",
              "          -5522],\n",
              "        [ 13845,   -655,  38608, -25384, -33733,    153,   7935,  -8702,  16296,\n",
              "          26360],\n",
              "        [ 14891, -22210,   2548,  -8143, -16456, -24879,  -3677, -16384,  44648,\n",
              "          10482],\n",
              "        [ -5123,  21334, -24030,   -754, -17914,  -4004,  10365,    355, -12834,\n",
              "          15861],\n",
              "        [ 18166,  -1782,  27494, -19604, -18279,  -3107,  15873, -16449,  11699,\n",
              "          -6629],\n",
              "        [-15745,   9945, -43102,   9454, -31775,      8, -27961,  -3122, -17787,\n",
              "         -29743],\n",
              "        [    28,  -8749, -15908,  -7126, -50892, -40198, -24637,  -9087,  35112,\n",
              "          -3340],\n",
              "        [ 10686,   1025,  39025, -14680, -41128,   8355,  27226, -31352,  26866,\n",
              "           4367],\n",
              "        [  4980,  -6046,   7222, -10681, -25848, -19621,   7217,  -9537,  22813,\n",
              "           1304],\n",
              "        [-12347,  -8149,  21322,  14605, -29109,   4563,  21026, -21204, -60706,\n",
              "          -7507],\n",
              "        [-16823,  -8776,  -4405,  12038,  -6373,   3563, -19935,   5084,  -5094,\n",
              "            612],\n",
              "        [ -2320,  -2320, -14906,  -2226,   3685,  -2720,  -3919,  27441,  -1886,\n",
              "          -5743],\n",
              "        [ 19400,  -4507,  31359,  -5613,  28778,   1238,  14619,  14799,  -4249,\n",
              "          13360],\n",
              "        [ 31887,  -6877,  31748, -31385, -13233,  24512,  48939, -18429,   3988,\n",
              "          -1066],\n",
              "        [  8132,  -9222,  18175,  11202, -32939, -17198,    339,  32804,   9726,\n",
              "          16417],\n",
              "        [ -7404,  14210, -17473,  25438,  36862, -19074, -14231,   5844,  -6773,\n",
              "         -13400],\n",
              "        [ -3044,  -6385,   8777,  12241, -18658,    234, -10486, -13116,  -3241,\n",
              "           4153],\n",
              "        [-21917,  22281,   4674,  -5675, -17249,  18295,  14995,  43987, -10370,\n",
              "           5361],\n",
              "        [  6710,   7026,  31981, -16332, -40390,   6665,  31491, -17715,   5535,\n",
              "          -3858],\n",
              "        [ -1462,   1851,  14998,   -467,  -2182,  17174,   5742,  -1758,  -5195,\n",
              "           7757],\n",
              "        [-12054,  14311,  -8931,  29994,   2163,  -9941,   1515, -24752, -18217,\n",
              "         -16250],\n",
              "        [ 24019, -15948,  32604, -17219, -34767,  16393,  30247, -29788, -10091,\n",
              "         -33706],\n",
              "        [-36841,  -5372, -24555,  16579, -33433, -24735, -12940,  -7889,  -5555,\n",
              "         -46591],\n",
              "        [  1380,   8770,  13558, -20101, -17545,  -8828,  17539,   1770,  24151,\n",
              "         -40740],\n",
              "        [ -4272, -12594,  -6758,  -1702,  17573,  15761,  19989,   9785, -27665,\n",
              "          -5474],\n",
              "        [ 17973,   2225,  -7713, -12952,    452,   4539,  -4231, -19593,  12011,\n",
              "          -3754],\n",
              "        [-11796,  19808, -16296,  -4740,   1030,  -4670,  -6965,  27252, -26746,\n",
              "         -19465],\n",
              "        [ 23108,  -3685,  24179, -12044,  -9048, -11523,   9705, -24739,  18435,\n",
              "          -3668],\n",
              "        [  6075,   3031,  18089, -27568,  -4899,    144,  13760,  26304,  -6887,\n",
              "          14997],\n",
              "        [-44382,  25246, -33259,  46884,   8003, -11133, -39661,  -7665,  -8096,\n",
              "          12420],\n",
              "        [ 12541,   9091,  -8097,  -7158,  -3758,   2008,   -525,  19779, -12875,\n",
              "         -12904],\n",
              "        [ 17016,  17735, -15438, -12194, -19022,  28143,  25582, -23199, -30834,\n",
              "           5994],\n",
              "        [  3319,  12929,   8815,   6276, -12070, -14299,  -9553, -15410,    223,\n",
              "          -5613],\n",
              "        [  2608,   6608,  19144,  -8890,  -9368,  13169,  31015,   8264,  -4689,\n",
              "          -9149],\n",
              "        [  3164, -15246,  24992, -11737,  -2934, -21099,  -8004,  14212,   4921,\n",
              "          15219],\n",
              "        [ 19879, -16184,  50989, -17594,  -5378,   3151,   -794, -27149,  39769,\n",
              "          -7118],\n",
              "        [  3538,     22,   5822, -16977, -15592,  -2153,   1447,  -6329,   4382,\n",
              "         -20190],\n",
              "        [ 13338,  -1046,  14293, -27023,  -4565, -11602, -13891, -35043,  22177,\n",
              "           7661],\n",
              "        [ 13947,   8968,  32424,   -665, -27061,  13708,  24641,   4564,   6678,\n",
              "          12968],\n",
              "        [ -8923,  29232,   7388,  -3548, -20786,  15235,  12937,   2316,  13785,\n",
              "           -494],\n",
              "        [-19904,   8605,   8789, -20613,  -4284,  15954,   -975,  -2915, -10624,\n",
              "          15672],\n",
              "        [  5028,  -5335,  14408,  -6399,  16605,  -9346,  -5164,  -7658, -13408,\n",
              "           8796],\n",
              "        [-12620, -11458, -44629,  28033,  26442,   5342,  -5024,   9728,  -7790,\n",
              "         -14607],\n",
              "        [ 11919,   9340,  12056,  -7517, -18676, -11523,  28543,  -1865,   1765,\n",
              "         -15662],\n",
              "        [-12676,   5143,  47775,  -3318, -52501,  11624,  -3491,  16466,   9744,\n",
              "          17276],\n",
              "        [  1916,  12370, -11072,  12086, -53337, -22764, -20514,  21150,   -759,\n",
              "           9161],\n",
              "        [ 22701,  -4061,  13911,  -5341, -21490,   5213,  13331, -23871,  46203,\n",
              "           2804],\n",
              "        [-11112, -11067,  30583,  -9711, -33419,  -1659, -10919,   8512,  24728,\n",
              "         -16141],\n",
              "        [ 19489,   1345,  -2032, -14904, -11970,   8625,   9947,  -5430,  21258,\n",
              "          -4683],\n",
              "        [  4067, -22076,  43088,  -7863, -23653,  -6536,  24221,   9849,  38362,\n",
              "          14079]])\n",
              "\tplain_text=HIDDEN\n",
              "\tptype=ptype.arithmetic\n",
              ")"
            ]
          },
          "metadata": {},
          "execution_count": 406
        }
      ]
    },
    {
      "cell_type": "code",
      "source": [
        "#Modelo de Treinamento em imagens criptografadas\n",
        "def train_model(model, X, y, epochs=10, learning_rate=0.05):\n",
        "    criterion = crypten.nn.CrossEntropyLoss()\n",
        "    for epoch in range(epochs):\n",
        "        model.zero_grad()\n",
        "        output = model(X)\n",
        "        loss = criterion(output, y)\n",
        "        print(f\"epoch {epoch} loss: {loss.get_plain_text()}\")\n",
        "        loss.backward()\n",
        "        model.update_parameters(learning_rate)\n",
        "    return model"
      ],
      "metadata": {
        "id": "usHb_aNGe5em"
      },
      "execution_count": 407,
      "outputs": []
    },
    {
      "cell_type": "code",
      "source": [
        "model = train_model(model, images_enc, labels_enc)"
      ],
      "metadata": {
        "colab": {
          "base_uri": "https://localhost:8080/"
        },
        "id": "lAH3Ok2ufYMl",
        "outputId": "033da962-7938-4375-92b4-b9889394323d"
      },
      "execution_count": 408,
      "outputs": [
        {
          "output_type": "stream",
          "name": "stdout",
          "text": [
            "epoch 0 loss: 2.399688720703125\n",
            "epoch 1 loss: 1.9897918701171875\n",
            "epoch 2 loss: 1.7850799560546875\n",
            "epoch 3 loss: 1.6275177001953125\n",
            "epoch 4 loss: 1.497222900390625\n",
            "epoch 5 loss: 1.3869781494140625\n",
            "epoch 6 loss: 1.29229736328125\n",
            "epoch 7 loss: 1.20965576171875\n",
            "epoch 8 loss: 1.136962890625\n",
            "epoch 9 loss: 1.0726470947265625\n"
          ]
        }
      ]
    },
    {
      "cell_type": "code",
      "source": [
        "#Acurácia do Modelo\n",
        "def avg_test_accuracy(model, X, y):\n",
        "    output = model(X).get_plain_text().softmax(0)\n",
        "    predicted = output.argmax(1)\n",
        "    labels = y.get_plain_text().argmax(1)\n",
        "    correct = (predicted == labels).sum().float()\n",
        "    return float(correct / y.shape[0])"
      ],
      "metadata": {
        "id": "guDPcLLKuXRK"
      },
      "execution_count": 409,
      "outputs": []
    },
    {
      "cell_type": "code",
      "source": [
        "avg_test_accuracy(model, images_enc, labels_enc)"
      ],
      "metadata": {
        "colab": {
          "base_uri": "https://localhost:8080/"
        },
        "id": "tgTRXesrugL5",
        "outputId": "a16a13a9-0564-476a-aa96-27cebef438f0"
      },
      "execution_count": 410,
      "outputs": [
        {
          "output_type": "execute_result",
          "data": {
            "text/plain": [
              "0.8600000143051147"
            ]
          },
          "metadata": {},
          "execution_count": 410
        }
      ]
    },
    {
      "cell_type": "code",
      "source": [
        "avg_test_accuracy(model, images_test_enc, labels_test_enc)"
      ],
      "metadata": {
        "colab": {
          "base_uri": "https://localhost:8080/"
        },
        "id": "Fv-lCXUyHtjX",
        "outputId": "3998a805-c86b-4887-927b-32fe76a382bf"
      },
      "execution_count": 411,
      "outputs": [
        {
          "output_type": "execute_result",
          "data": {
            "text/plain": [
              "0.15000000596046448"
            ]
          },
          "metadata": {},
          "execution_count": 411
        }
      ]
    }
  ]
}